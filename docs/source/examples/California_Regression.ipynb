{
  "nbformat": 4,
  "nbformat_minor": 0,
  "metadata": {
    "colab": {
      "name": "California Regression.ipynb",
      "provenance": [],
      "collapsed_sections": []
    },
    "kernelspec": {
      "name": "python3",
      "display_name": "Python 3"
    },
    "language_info": {
      "name": "python"
    }
  },
  "cells": [
    {
      "cell_type": "markdown",
      "source": [
        "# California Housing Regression\n",
        "---\n",
        "## What are we going to do?\n",
        "In this quick demo, we will use JAI to:\n",
        "* Train and deploy models into a secure and scalable production-ready environment.\n",
        "* Regression - Determine how each analyzed attribute influences the value of the house\n",
        "* Model inference - Predict the value of new houses and check the results\n",
        "---"
      ],
      "metadata": {
        "id": "hdVg8H9oXqiA"
      }
    },
    {
      "cell_type": "markdown",
      "source": [
        "## Importing Libraries"
      ],
      "metadata": {
        "id": "FXiMPbFtZFXi"
      }
    },
    {
      "cell_type": "code",
      "execution_count": null,
      "metadata": {
        "colab": {
          "base_uri": "https://localhost:8080/"
        },
        "id": "iVuf3koGXUmi",
        "outputId": "3fcb8e22-db23-4a3e-8778-cb5b2eaa378c"
      },
      "outputs": [
        {
          "output_type": "stream",
          "name": "stdout",
          "text": [
            "CPU times: user 10 µs, sys: 1 µs, total: 11 µs\n",
            "Wall time: 16.2 µs\n"
          ]
        }
      ],
      "source": [
        "%%time\n",
        "# deps installation\n",
        "try:\n",
        "  from jai import Jai\n",
        "except ImportError:\n",
        "  !pip install --user --upgrade jai-sdk\n",
        "  print('Stopping RUNTIME! Please run again.')\n",
        "  import os\n",
        "  os.kill(os.getpid(), 9)"
      ]
    },
    {
      "cell_type": "code",
      "source": [
        "import pandas as pd\n",
        "import numpy as np\n",
        "from jai import Jai\n",
        "from sklearn.model_selection import train_test_split\n",
        "from sklearn.metrics import mean_squared_error, mean_absolute_error\n"
      ],
      "metadata": {
        "id": "ZzazWX8qXmeI"
      },
      "execution_count": null,
      "outputs": []
    },
    {
      "cell_type": "markdown",
      "source": [
        "---"
      ],
      "metadata": {
        "id": "tgzztyCHZJx7"
      }
    },
    {
      "cell_type": "markdown",
      "source": [
        "# JAI Auth Key\n",
        "\n",
        "If you don't already have an auth key, you can get your auth key here - free forever. Also, please make sure to check your spam folder if you can't find it in your inbox!\n"
      ],
      "metadata": {
        "id": "dwd01LPEZPYB"
      }
    },
    {
      "cell_type": "code",
      "source": [
        "Jai.get_auth_key(email = 'email@emailnet.com', firstName = 'JAI', lastName = 'Z')"
      ],
      "metadata": {
        "colab": {
          "base_uri": "https://localhost:8080/"
        },
        "id": "iq2hwvdCZQQS",
        "outputId": "905c73ae-e5ea-450e-d020-aa070d736f83"
      },
      "execution_count": null,
      "outputs": [
        {
          "output_type": "execute_result",
          "data": {
            "text/plain": [
              "<Response [201]>"
            ]
          },
          "metadata": {},
          "execution_count": 5
        }
      ]
    },
    {
      "cell_type": "code",
      "source": [
        "# Use your key here to start JAI:\n",
        "AUTH_KEY = \"43ad899e83164636a5bf2eb782bc8543\"\n",
        "j = Jai(AUTH_KEY)"
      ],
      "metadata": {
        "id": "8_e2VoBZZTke"
      },
      "execution_count": null,
      "outputs": []
    },
    {
      "cell_type": "markdown",
      "source": [
        "---"
      ],
      "metadata": {
        "id": "oo976fHmZlpa"
      }
    },
    {
      "cell_type": "markdown",
      "source": [
        "## Dataset quick look"
      ],
      "metadata": {
        "id": "5JjCj2sRZvNV"
      }
    },
    {
      "cell_type": "markdown",
      "source": [
        "This dataset contains data collected by the 1990 U.S. Census concerning housing in the state of California. It contains data such as average number of rooms per dwelling per block group,  median income in block group and block group population, a block group being the smallest geographical unit per which the U.S. Census publishes data (typically an area ranging from 600-3000 in population). As the target, the dataset contains the median value of a house per block  group, expressed in hundreds of thousands of dollars."
      ],
      "metadata": {
        "id": "6OgOZu3FZynh"
      }
    },
    {
      "cell_type": "code",
      "source": [
        "from sklearn.datasets import fetch_california_housing\n",
        "california_housing = fetch_california_housing(as_frame=True)\n",
        "california_df = pd.DataFrame(data = california_housing.data, columns = california_housing.feature_names)\n",
        "# target is true median value of house per block group\n",
        "california_df['price'] = california_housing.target"
      ],
      "metadata": {
        "id": "BCDO8Ei7Ztl6"
      },
      "execution_count": null,
      "outputs": []
    },
    {
      "cell_type": "code",
      "source": [
        "california_df.info()\n",
        "# More information about what each column represents can be found on https://scikit-learn.org/stable/datasets/real_world.html#california-housing-dataset"
      ],
      "metadata": {
        "colab": {
          "base_uri": "https://localhost:8080/"
        },
        "id": "W6cCBa7xalBM",
        "outputId": "3bff402a-4f98-46c9-ab48-1d4aad1a5e40"
      },
      "execution_count": null,
      "outputs": [
        {
          "output_type": "stream",
          "name": "stdout",
          "text": [
            "<class 'pandas.core.frame.DataFrame'>\n",
            "RangeIndex: 20640 entries, 0 to 20639\n",
            "Data columns (total 9 columns):\n",
            " #   Column      Non-Null Count  Dtype  \n",
            "---  ------      --------------  -----  \n",
            " 0   MedInc      20640 non-null  float64\n",
            " 1   HouseAge    20640 non-null  float64\n",
            " 2   AveRooms    20640 non-null  float64\n",
            " 3   AveBedrms   20640 non-null  float64\n",
            " 4   Population  20640 non-null  float64\n",
            " 5   AveOccup    20640 non-null  float64\n",
            " 6   Latitude    20640 non-null  float64\n",
            " 7   Longitude   20640 non-null  float64\n",
            " 8   price       20640 non-null  float64\n",
            "dtypes: float64(9)\n",
            "memory usage: 1.4 MB\n"
          ]
        }
      ]
    },
    {
      "cell_type": "code",
      "source": [
        "# Showing first five rows of DataFrame\n",
        "california_df.head()"
      ],
      "metadata": {
        "colab": {
          "base_uri": "https://localhost:8080/",
          "height": 204
        },
        "id": "DnH-2VE4cJNR",
        "outputId": "af45c9b5-c0f5-4f85-a878-bc1d6ed3d7a2"
      },
      "execution_count": null,
      "outputs": [
        {
          "output_type": "execute_result",
          "data": {
            "text/plain": [
              "   MedInc  HouseAge  AveRooms  AveBedrms  Population  AveOccup  Latitude  \\\n",
              "0  8.3252      41.0  6.984127   1.023810       322.0  2.555556     37.88   \n",
              "1  8.3014      21.0  6.238137   0.971880      2401.0  2.109842     37.86   \n",
              "2  7.2574      52.0  8.288136   1.073446       496.0  2.802260     37.85   \n",
              "3  5.6431      52.0  5.817352   1.073059       558.0  2.547945     37.85   \n",
              "4  3.8462      52.0  6.281853   1.081081       565.0  2.181467     37.85   \n",
              "\n",
              "   Longitude  price  \n",
              "0    -122.23  4.526  \n",
              "1    -122.22  3.585  \n",
              "2    -122.24  3.521  \n",
              "3    -122.25  3.413  \n",
              "4    -122.25  3.422  "
            ],
            "text/html": [
              "\n",
              "  <div id=\"df-ba54feb9-feaf-4f3b-9c6d-7f0c48bd04b6\">\n",
              "    <div class=\"colab-df-container\">\n",
              "      <div>\n",
              "<style scoped>\n",
              "    .dataframe tbody tr th:only-of-type {\n",
              "        vertical-align: middle;\n",
              "    }\n",
              "\n",
              "    .dataframe tbody tr th {\n",
              "        vertical-align: top;\n",
              "    }\n",
              "\n",
              "    .dataframe thead th {\n",
              "        text-align: right;\n",
              "    }\n",
              "</style>\n",
              "<table border=\"1\" class=\"dataframe\">\n",
              "  <thead>\n",
              "    <tr style=\"text-align: right;\">\n",
              "      <th></th>\n",
              "      <th>MedInc</th>\n",
              "      <th>HouseAge</th>\n",
              "      <th>AveRooms</th>\n",
              "      <th>AveBedrms</th>\n",
              "      <th>Population</th>\n",
              "      <th>AveOccup</th>\n",
              "      <th>Latitude</th>\n",
              "      <th>Longitude</th>\n",
              "      <th>price</th>\n",
              "    </tr>\n",
              "  </thead>\n",
              "  <tbody>\n",
              "    <tr>\n",
              "      <th>0</th>\n",
              "      <td>8.3252</td>\n",
              "      <td>41.0</td>\n",
              "      <td>6.984127</td>\n",
              "      <td>1.023810</td>\n",
              "      <td>322.0</td>\n",
              "      <td>2.555556</td>\n",
              "      <td>37.88</td>\n",
              "      <td>-122.23</td>\n",
              "      <td>4.526</td>\n",
              "    </tr>\n",
              "    <tr>\n",
              "      <th>1</th>\n",
              "      <td>8.3014</td>\n",
              "      <td>21.0</td>\n",
              "      <td>6.238137</td>\n",
              "      <td>0.971880</td>\n",
              "      <td>2401.0</td>\n",
              "      <td>2.109842</td>\n",
              "      <td>37.86</td>\n",
              "      <td>-122.22</td>\n",
              "      <td>3.585</td>\n",
              "    </tr>\n",
              "    <tr>\n",
              "      <th>2</th>\n",
              "      <td>7.2574</td>\n",
              "      <td>52.0</td>\n",
              "      <td>8.288136</td>\n",
              "      <td>1.073446</td>\n",
              "      <td>496.0</td>\n",
              "      <td>2.802260</td>\n",
              "      <td>37.85</td>\n",
              "      <td>-122.24</td>\n",
              "      <td>3.521</td>\n",
              "    </tr>\n",
              "    <tr>\n",
              "      <th>3</th>\n",
              "      <td>5.6431</td>\n",
              "      <td>52.0</td>\n",
              "      <td>5.817352</td>\n",
              "      <td>1.073059</td>\n",
              "      <td>558.0</td>\n",
              "      <td>2.547945</td>\n",
              "      <td>37.85</td>\n",
              "      <td>-122.25</td>\n",
              "      <td>3.413</td>\n",
              "    </tr>\n",
              "    <tr>\n",
              "      <th>4</th>\n",
              "      <td>3.8462</td>\n",
              "      <td>52.0</td>\n",
              "      <td>6.281853</td>\n",
              "      <td>1.081081</td>\n",
              "      <td>565.0</td>\n",
              "      <td>2.181467</td>\n",
              "      <td>37.85</td>\n",
              "      <td>-122.25</td>\n",
              "      <td>3.422</td>\n",
              "    </tr>\n",
              "  </tbody>\n",
              "</table>\n",
              "</div>\n",
              "      <button class=\"colab-df-convert\" onclick=\"convertToInteractive('df-ba54feb9-feaf-4f3b-9c6d-7f0c48bd04b6')\"\n",
              "              title=\"Convert this dataframe to an interactive table.\"\n",
              "              style=\"display:none;\">\n",
              "        \n",
              "  <svg xmlns=\"http://www.w3.org/2000/svg\" height=\"24px\"viewBox=\"0 0 24 24\"\n",
              "       width=\"24px\">\n",
              "    <path d=\"M0 0h24v24H0V0z\" fill=\"none\"/>\n",
              "    <path d=\"M18.56 5.44l.94 2.06.94-2.06 2.06-.94-2.06-.94-.94-2.06-.94 2.06-2.06.94zm-11 1L8.5 8.5l.94-2.06 2.06-.94-2.06-.94L8.5 2.5l-.94 2.06-2.06.94zm10 10l.94 2.06.94-2.06 2.06-.94-2.06-.94-.94-2.06-.94 2.06-2.06.94z\"/><path d=\"M17.41 7.96l-1.37-1.37c-.4-.4-.92-.59-1.43-.59-.52 0-1.04.2-1.43.59L10.3 9.45l-7.72 7.72c-.78.78-.78 2.05 0 2.83L4 21.41c.39.39.9.59 1.41.59.51 0 1.02-.2 1.41-.59l7.78-7.78 2.81-2.81c.8-.78.8-2.07 0-2.86zM5.41 20L4 18.59l7.72-7.72 1.47 1.35L5.41 20z\"/>\n",
              "  </svg>\n",
              "      </button>\n",
              "      \n",
              "  <style>\n",
              "    .colab-df-container {\n",
              "      display:flex;\n",
              "      flex-wrap:wrap;\n",
              "      gap: 12px;\n",
              "    }\n",
              "\n",
              "    .colab-df-convert {\n",
              "      background-color: #E8F0FE;\n",
              "      border: none;\n",
              "      border-radius: 50%;\n",
              "      cursor: pointer;\n",
              "      display: none;\n",
              "      fill: #1967D2;\n",
              "      height: 32px;\n",
              "      padding: 0 0 0 0;\n",
              "      width: 32px;\n",
              "    }\n",
              "\n",
              "    .colab-df-convert:hover {\n",
              "      background-color: #E2EBFA;\n",
              "      box-shadow: 0px 1px 2px rgba(60, 64, 67, 0.3), 0px 1px 3px 1px rgba(60, 64, 67, 0.15);\n",
              "      fill: #174EA6;\n",
              "    }\n",
              "\n",
              "    [theme=dark] .colab-df-convert {\n",
              "      background-color: #3B4455;\n",
              "      fill: #D2E3FC;\n",
              "    }\n",
              "\n",
              "    [theme=dark] .colab-df-convert:hover {\n",
              "      background-color: #434B5C;\n",
              "      box-shadow: 0px 1px 3px 1px rgba(0, 0, 0, 0.15);\n",
              "      filter: drop-shadow(0px 1px 2px rgba(0, 0, 0, 0.3));\n",
              "      fill: #FFFFFF;\n",
              "    }\n",
              "  </style>\n",
              "\n",
              "      <script>\n",
              "        const buttonEl =\n",
              "          document.querySelector('#df-ba54feb9-feaf-4f3b-9c6d-7f0c48bd04b6 button.colab-df-convert');\n",
              "        buttonEl.style.display =\n",
              "          google.colab.kernel.accessAllowed ? 'block' : 'none';\n",
              "\n",
              "        async function convertToInteractive(key) {\n",
              "          const element = document.querySelector('#df-ba54feb9-feaf-4f3b-9c6d-7f0c48bd04b6');\n",
              "          const dataTable =\n",
              "            await google.colab.kernel.invokeFunction('convertToInteractive',\n",
              "                                                     [key], {});\n",
              "          if (!dataTable) return;\n",
              "\n",
              "          const docLinkHtml = 'Like what you see? Visit the ' +\n",
              "            '<a target=\"_blank\" href=https://colab.research.google.com/notebooks/data_table.ipynb>data table notebook</a>'\n",
              "            + ' to learn more about interactive tables.';\n",
              "          element.innerHTML = '';\n",
              "          dataTable['output_type'] = 'display_data';\n",
              "          await google.colab.output.renderOutput(dataTable, element);\n",
              "          const docLink = document.createElement('div');\n",
              "          docLink.innerHTML = docLinkHtml;\n",
              "          element.appendChild(docLink);\n",
              "        }\n",
              "      </script>\n",
              "    </div>\n",
              "  </div>\n",
              "  "
            ]
          },
          "metadata": {},
          "execution_count": 9
        }
      ]
    },
    {
      "cell_type": "markdown",
      "source": [
        "---\n",
        "## Inserting data into Jai\n",
        "To be able to use Jai's functionalities, we first need to turn the data into a Jai collection. The method used to send data to Jai is j.setup (or j.fit; they are the same), which can then be consumed through the methods j.similar and j.predict. By using the setup method you add your raw data to your JAI environment, use the data to train your model based on the chosen model type and your model’s latent vector representation is then stored in the Jai collection."
      ],
      "metadata": {
        "id": "Np-zvQlrb8pw"
      }
    },
    {
      "cell_type": "code",
      "source": [
        "j.setup(\n",
        "    #JAI collection name\n",
        "    name = 'california_housing',\n",
        "\n",
        "    #data to be processed - a Pandas DataFrame is expected\n",
        "    data = california_df,\n",
        "\n",
        "    #collection type\n",
        "    db_type = 'Supervised',\n",
        "\n",
        "    #verbose 2 -> shows the loss graph at the end of training\n",
        "    verbose = 2,\n",
        "\n",
        "    label =\n",
        "    {\n",
        "        'task':'regression',\n",
        "        'label_name':'price'\n",
        "    },\n",
        "    \n",
        "    # Overwrite allows you to overwrite other existing databases with the same name\n",
        "    overwrite = True\n",
        ")"
      ],
      "metadata": {
        "colab": {
          "base_uri": "https://localhost:8080/",
          "height": 1000
        },
        "id": "mIXD-sLmb-HQ",
        "outputId": "c633d53c-6eb6-48d7-b4fa-20f8875f6fcd"
      },
      "execution_count": null,
      "outputs": [
        {
          "output_type": "stream",
          "name": "stderr",
          "text": [
            "Insert Data: 100%|██████████| 2/2 [00:08<00:00,  4.49s/it]\n"
          ]
        },
        {
          "output_type": "stream",
          "name": "stdout",
          "text": [
            "\n",
            "Recognized setup args:\n",
            "- db_type: Supervised\n",
            "- label: \n",
            "  * task      : regression\n",
            "  * label_name: price\n",
            "- split: {}\n",
            "- overwrite: True\n",
            "\n",
            "Training might finish early due to early stopping criteria.\n"
          ]
        },
        {
          "output_type": "stream",
          "name": "stderr",
          "text": [
            "JAI is working:  41%|████      |9/22 [00:09]\n",
            "[california_housing] Training:   0%|          | 0/500 [00:00<?, ?it/s]\u001b[A\n",
            "[california_housing] Training:   1%|          | 4/500 [00:03<06:31,  1.27it/s]\u001b[A\n",
            "[california_housing] Training:   1%|          | 6/500 [00:05<08:12,  1.00it/s]\u001b[A\n",
            "[california_housing] Training:   2%|▏         | 9/500 [00:08<07:27,  1.10it/s]\u001b[A\n",
            "[california_housing] Training:   2%|▏         | 11/500 [00:10<08:08,  1.00it/s]\u001b[A\n",
            "[california_housing] Training:   3%|▎         | 13/500 [00:13<08:50,  1.09s/it]\u001b[A\n",
            "[california_housing] Training:   3%|▎         | 15/500 [00:15<09:21,  1.16s/it]\u001b[A\n",
            "[california_housing] Training:   4%|▎         | 18/500 [00:18<08:29,  1.06s/it]\u001b[A\n",
            "[california_housing] Training:   4%|▍         | 19/500 [00:20<10:00,  1.25s/it]\u001b[A\n",
            "[california_housing] Training:   4%|▍         | 22/500 [00:23<08:39,  1.09s/it]\u001b[A\n",
            "[california_housing] Training:   5%|▌         | 25/500 [00:25<07:55,  1.00s/it]\u001b[A\n",
            "[california_housing] Training:   6%|▌         | 28/500 [00:28<07:35,  1.04it/s]\u001b[A\n",
            "[california_housing] Training:   6%|▌         | 30/500 [00:30<07:44,  1.01it/s]\u001b[A\n",
            "[california_housing] Training:   6%|▋         | 32/500 [00:32<07:44,  1.01it/s]\u001b[A\n",
            "[california_housing] Training:   7%|▋         | 34/500 [00:34<07:53,  1.02s/it]\u001b[A\n",
            "[california_housing] Training:   7%|▋         | 36/500 [00:36<07:52,  1.02s/it]\u001b[A\n",
            "[california_housing] Training:   7%|▋         | 37/500 [00:38<09:14,  1.20s/it]\u001b[A\n",
            "[california_housing] Training:   8%|▊         | 40/500 [00:41<07:33,  1.01it/s]\u001b[A\n",
            "[california_housing] Training:   8%|▊         | 41/500 [00:43<08:50,  1.16s/it]\u001b[A\n",
            "[california_housing] Training:   9%|▉         | 44/500 [00:45<07:19,  1.04it/s]\u001b[A\n",
            "[california_housing] Training:   9%|▉         | 47/500 [00:47<07:13,  1.04it/s]\u001b[A\n",
            "[california_housing] Training:  10%|█         | 50/500 [00:50<07:16,  1.03it/s]\u001b[A\n",
            "[california_housing] Training:  10%|█         | 52/500 [00:53<07:29,  1.00s/it]\u001b[A\n",
            "[california_housing] Training:  11%|█         | 53/500 [00:55<08:55,  1.20s/it]\u001b[A\n",
            "[california_housing] Training:  11%|█         | 56/500 [00:57<07:44,  1.05s/it]\u001b[A\n",
            "[california_housing] Training:  12%|█▏        | 59/500 [01:00<06:57,  1.06it/s]\u001b[A\n",
            "[california_housing] Training:  12%|█▏        | 61/500 [01:02<07:31,  1.03s/it]\u001b[A\n",
            "[california_housing] Training:  13%|█▎        | 64/500 [01:05<06:56,  1.05it/s]\u001b[A\n",
            "[california_housing] Training:  13%|█▎        | 66/500 [01:07<07:24,  1.02s/it]\u001b[A\n",
            "[california_housing] Training:  14%|█▎        | 68/500 [01:10<07:48,  1.08s/it]\u001b[A\n",
            "[california_housing] Training:  14%|█▍        | 72/500 [01:12<06:27,  1.10it/s]\u001b[A\n",
            "[california_housing] Training: 100%|██████████| 500/500 [01:15<00:00, 50.95it/s]\u001b[A\n",
            "JAI is working: 100%|██████████|22/22 [01:32]\n"
          ]
        },
        {
          "output_type": "display_data",
          "data": {
            "text/plain": [
              "<Figure size 432x288 with 1 Axes>"
            ],
            "image/png": "[encoded data removed]"
          },
          "metadata": {
            "needs_background": "light"
          }
        },
        {
          "output_type": "stream",
          "name": "stdout",
          "text": [
            "\n",
            "Setup Report:\n",
            "Metrics Regression:\n",
            "MAE: 0.42605888843536377\n",
            "MSE: 0.4013962745666504\n",
            "MAPE: 0.23399828374385834\n",
            "R2 Score: 0.6936862638244422\n",
            "Pinball Loss 0.5: 0.21302944421768188\n",
            "\n",
            "Best model at epoch: 62 val_loss: 0.40\n"
          ]
        },
        {
          "output_type": "execute_result",
          "data": {
            "text/plain": [
              "({0: {'Description': 'Insertion completed.',\n",
              "   'Interrupted': False,\n",
              "   'Status': 'Completed',\n",
              "   'Task': 'Adding new data for tabular setup'},\n",
              "  1: {'Description': 'Insertion completed.',\n",
              "   'Interrupted': False,\n",
              "   'Status': 'Completed',\n",
              "   'Task': 'Adding new data for tabular setup'}},\n",
              " {'Description': 'Check status after some time!',\n",
              "  'Status': 'Job Created',\n",
              "  'Task': 'Training Model',\n",
              "  'kwargs': {'db_type': 'Supervised',\n",
              "   'label': '{\"task\": \"regression\", \"label_name\": \"price\", \"regression_scaler\": \"None\", \"quantiles\": []}',\n",
              "   'overwrite': True,\n",
              "   'split': '{}'}})"
            ]
          },
          "metadata": {},
          "execution_count": 10
        }
      ]
    },
    {
      "cell_type": "markdown",
      "source": [
        "---\n",
        "## Model Inference\n",
        "We can use the trained model for inference"
      ],
      "metadata": {
        "id": "D5xM89f1ygFa"
      }
    },
    {
      "cell_type": "code",
      "source": [
        "# every JAI Supervised collection can be used for inference using j.predict()\n",
        "ans = j.predict(\n",
        "    # collection to be queried\n",
        "    name = 'california_housing',\n",
        "    # Remember to drop the label as it is not a feature!\n",
        "    # Predicting the value of the first 5 houses in the dataset\n",
        "    data = california_df.head(1).drop('price',axis = 1),\n",
        "    as_frame = True\n",
        ")"
      ],
      "metadata": {
        "colab": {
          "base_uri": "https://localhost:8080/"
        },
        "id": "y27r9v4Iew-b",
        "outputId": "154c6967-990b-4041-f7a6-b7e6417b1d4f"
      },
      "execution_count": null,
      "outputs": [
        {
          "output_type": "stream",
          "name": "stderr",
          "text": [
            "Predict: 100%|██████████| 1/1 [00:02<00:00,  2.41s/it]\n",
            "Predict Processing: 100%|██████████| 1/1 [00:00<00:00, 8793.09it/s]\n"
          ]
        }
      ]
    },
    {
      "cell_type": "code",
      "source": [
        "ans['Target'] = california_housing.target\n",
        "ans"
      ],
      "metadata": {
        "colab": {
          "base_uri": "https://localhost:8080/",
          "height": 111
        },
        "id": "4hhzjBUdDUXz",
        "outputId": "7c700708-aeb7-4977-e045-5a22d992ebf1"
      },
      "execution_count": null,
      "outputs": [
        {
          "output_type": "execute_result",
          "data": {
            "text/plain": [
              "     predict  Target\n",
              "id                  \n",
              "0   3.929891   4.526"
            ],
            "text/html": [
              "\n",
              "  <div id=\"df-800dddaf-60f7-4eb6-82a0-3e20e6e92b11\">\n",
              "    <div class=\"colab-df-container\">\n",
              "      <div>\n",
              "<style scoped>\n",
              "    .dataframe tbody tr th:only-of-type {\n",
              "        vertical-align: middle;\n",
              "    }\n",
              "\n",
              "    .dataframe tbody tr th {\n",
              "        vertical-align: top;\n",
              "    }\n",
              "\n",
              "    .dataframe thead th {\n",
              "        text-align: right;\n",
              "    }\n",
              "</style>\n",
              "<table border=\"1\" class=\"dataframe\">\n",
              "  <thead>\n",
              "    <tr style=\"text-align: right;\">\n",
              "      <th></th>\n",
              "      <th>predict</th>\n",
              "      <th>Target</th>\n",
              "    </tr>\n",
              "    <tr>\n",
              "      <th>id</th>\n",
              "      <th></th>\n",
              "      <th></th>\n",
              "    </tr>\n",
              "  </thead>\n",
              "  <tbody>\n",
              "    <tr>\n",
              "      <th>0</th>\n",
              "      <td>3.929891</td>\n",
              "      <td>4.526</td>\n",
              "    </tr>\n",
              "  </tbody>\n",
              "</table>\n",
              "</div>\n",
              "      <button class=\"colab-df-convert\" onclick=\"convertToInteractive('df-800dddaf-60f7-4eb6-82a0-3e20e6e92b11')\"\n",
              "              title=\"Convert this dataframe to an interactive table.\"\n",
              "              style=\"display:none;\">\n",
              "        \n",
              "  <svg xmlns=\"http://www.w3.org/2000/svg\" height=\"24px\"viewBox=\"0 0 24 24\"\n",
              "       width=\"24px\">\n",
              "    <path d=\"M0 0h24v24H0V0z\" fill=\"none\"/>\n",
              "    <path d=\"M18.56 5.44l.94 2.06.94-2.06 2.06-.94-2.06-.94-.94-2.06-.94 2.06-2.06.94zm-11 1L8.5 8.5l.94-2.06 2.06-.94-2.06-.94L8.5 2.5l-.94 2.06-2.06.94zm10 10l.94 2.06.94-2.06 2.06-.94-2.06-.94-.94-2.06-.94 2.06-2.06.94z\"/><path d=\"M17.41 7.96l-1.37-1.37c-.4-.4-.92-.59-1.43-.59-.52 0-1.04.2-1.43.59L10.3 9.45l-7.72 7.72c-.78.78-.78 2.05 0 2.83L4 21.41c.39.39.9.59 1.41.59.51 0 1.02-.2 1.41-.59l7.78-7.78 2.81-2.81c.8-.78.8-2.07 0-2.86zM5.41 20L4 18.59l7.72-7.72 1.47 1.35L5.41 20z\"/>\n",
              "  </svg>\n",
              "      </button>\n",
              "      \n",
              "  <style>\n",
              "    .colab-df-container {\n",
              "      display:flex;\n",
              "      flex-wrap:wrap;\n",
              "      gap: 12px;\n",
              "    }\n",
              "\n",
              "    .colab-df-convert {\n",
              "      background-color: #E8F0FE;\n",
              "      border: none;\n",
              "      border-radius: 50%;\n",
              "      cursor: pointer;\n",
              "      display: none;\n",
              "      fill: #1967D2;\n",
              "      height: 32px;\n",
              "      padding: 0 0 0 0;\n",
              "      width: 32px;\n",
              "    }\n",
              "\n",
              "    .colab-df-convert:hover {\n",
              "      background-color: #E2EBFA;\n",
              "      box-shadow: 0px 1px 2px rgba(60, 64, 67, 0.3), 0px 1px 3px 1px rgba(60, 64, 67, 0.15);\n",
              "      fill: #174EA6;\n",
              "    }\n",
              "\n",
              "    [theme=dark] .colab-df-convert {\n",
              "      background-color: #3B4455;\n",
              "      fill: #D2E3FC;\n",
              "    }\n",
              "\n",
              "    [theme=dark] .colab-df-convert:hover {\n",
              "      background-color: #434B5C;\n",
              "      box-shadow: 0px 1px 3px 1px rgba(0, 0, 0, 0.15);\n",
              "      filter: drop-shadow(0px 1px 2px rgba(0, 0, 0, 0.3));\n",
              "      fill: #FFFFFF;\n",
              "    }\n",
              "  </style>\n",
              "\n",
              "      <script>\n",
              "        const buttonEl =\n",
              "          document.querySelector('#df-800dddaf-60f7-4eb6-82a0-3e20e6e92b11 button.colab-df-convert');\n",
              "        buttonEl.style.display =\n",
              "          google.colab.kernel.accessAllowed ? 'block' : 'none';\n",
              "\n",
              "        async function convertToInteractive(key) {\n",
              "          const element = document.querySelector('#df-800dddaf-60f7-4eb6-82a0-3e20e6e92b11');\n",
              "          const dataTable =\n",
              "            await google.colab.kernel.invokeFunction('convertToInteractive',\n",
              "                                                     [key], {});\n",
              "          if (!dataTable) return;\n",
              "\n",
              "          const docLinkHtml = 'Like what you see? Visit the ' +\n",
              "            '<a target=\"_blank\" href=https://colab.research.google.com/notebooks/data_table.ipynb>data table notebook</a>'\n",
              "            + ' to learn more about interactive tables.';\n",
              "          element.innerHTML = '';\n",
              "          dataTable['output_type'] = 'display_data';\n",
              "          await google.colab.output.renderOutput(dataTable, element);\n",
              "          const docLink = document.createElement('div');\n",
              "          docLink.innerHTML = docLinkHtml;\n",
              "          element.appendChild(docLink);\n",
              "        }\n",
              "      </script>\n",
              "    </div>\n",
              "  </div>\n",
              "  "
            ]
          },
          "metadata": {},
          "execution_count": 12
        }
      ]
    }
  ]
}