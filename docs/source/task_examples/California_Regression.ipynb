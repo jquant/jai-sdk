{
  "cells": [
    {
      "cell_type": "markdown",
      "metadata": {
        "id": "hdVg8H9oXqiA"
      },
      "source": [
        "# California Housing Regression\n",
        "\n",
        "## What are we going to do?\n",
        "\n",
        "In this quick demo, we will use JAI to:\n",
        "\n",
        "* Train and deploy models into a secure and scalable production-ready environment.\n",
        "\n",
        "* Regression - Determine how each analyzed attribute influences the value of the house.\n",
        "\n",
        "* Model inference - Predict the value of new houses and check the results.\n",
        "\n",
        "---\n",
        "\n",
        "## Importing Libraries"
      ]
    },
    {
      "cell_type": "code",
      "execution_count": 1,
      "metadata": {
        "id": "ZzazWX8qXmeI"
      },
      "outputs": [],
      "source": [
        "import pandas as pd\n",
        "from jai import Trainer"
      ]
    },
    {
      "cell_type": "markdown",
      "metadata": {
        "id": "6OgOZu3FZynh"
      },
      "source": [
        "---\n",
        "\n",
        "## Dataset quick look\n",
        "\n",
        "This dataset contains data collected by the 1990 U.S. Census concerning housing in the state of California. It contains data such as average number of rooms per dwelling per block group,  median income in block group and block group population, a block group being the smallest geographical unit per which the U.S. Census publishes data (typically an area ranging from 600-3000 in population). As the target, the dataset contains the median value of a house per block  group, expressed in hundreds of thousands of dollars."
      ]
    },
    {
      "cell_type": "code",
      "execution_count": 2,
      "metadata": {
        "id": "BCDO8Ei7Ztl6"
      },
      "outputs": [],
      "source": [
        "from sklearn.datasets import fetch_california_housing\n",
        "california_housing = fetch_california_housing(as_frame=True)\n",
        "california_df = pd.DataFrame(data = california_housing.data, columns = california_housing.feature_names)\n",
        "# target is true median value of house per block group\n",
        "california_df['price'] = california_housing.target"
      ]
    },
    {
      "cell_type": "code",
      "execution_count": 3,
      "metadata": {
        "colab": {
          "base_uri": "https://localhost:8080/"
        },
        "id": "W6cCBa7xalBM",
        "outputId": "3bff402a-4f98-46c9-ab48-1d4aad1a5e40"
      },
      "outputs": [
        {
          "name": "stdout",
          "output_type": "stream",
          "text": [
            "<class 'pandas.core.frame.DataFrame'>\n",
            "RangeIndex: 20640 entries, 0 to 20639\n",
            "Data columns (total 9 columns):\n",
            " #   Column      Non-Null Count  Dtype  \n",
            "---  ------      --------------  -----  \n",
            " 0   MedInc      20640 non-null  float64\n",
            " 1   HouseAge    20640 non-null  float64\n",
            " 2   AveRooms    20640 non-null  float64\n",
            " 3   AveBedrms   20640 non-null  float64\n",
            " 4   Population  20640 non-null  float64\n",
            " 5   AveOccup    20640 non-null  float64\n",
            " 6   Latitude    20640 non-null  float64\n",
            " 7   Longitude   20640 non-null  float64\n",
            " 8   price       20640 non-null  float64\n",
            "dtypes: float64(9)\n",
            "memory usage: 1.4 MB\n"
          ]
        }
      ],
      "source": [
        "california_df.info()\n",
        "# More information about what each column represents can be found on https://scikit-learn.org/stable/datasets/real_world.html#california-housing-dataset"
      ]
    },
    {
      "cell_type": "code",
      "execution_count": 4,
      "metadata": {
        "colab": {
          "base_uri": "https://localhost:8080/",
          "height": 204
        },
        "id": "DnH-2VE4cJNR",
        "outputId": "af45c9b5-c0f5-4f85-a878-bc1d6ed3d7a2"
      },
      "outputs": [
        {
          "data": {
            "text/html": [
              "<div>\n",
              "<style scoped>\n",
              "    .dataframe tbody tr th:only-of-type {\n",
              "        vertical-align: middle;\n",
              "    }\n",
              "\n",
              "    .dataframe tbody tr th {\n",
              "        vertical-align: top;\n",
              "    }\n",
              "\n",
              "    .dataframe thead th {\n",
              "        text-align: right;\n",
              "    }\n",
              "</style>\n",
              "<table border=\"1\" class=\"dataframe\">\n",
              "  <thead>\n",
              "    <tr style=\"text-align: right;\">\n",
              "      <th></th>\n",
              "      <th>MedInc</th>\n",
              "      <th>HouseAge</th>\n",
              "      <th>AveRooms</th>\n",
              "      <th>AveBedrms</th>\n",
              "      <th>Population</th>\n",
              "      <th>AveOccup</th>\n",
              "      <th>Latitude</th>\n",
              "      <th>Longitude</th>\n",
              "      <th>price</th>\n",
              "    </tr>\n",
              "  </thead>\n",
              "  <tbody>\n",
              "    <tr>\n",
              "      <th>0</th>\n",
              "      <td>8.3252</td>\n",
              "      <td>41.0</td>\n",
              "      <td>6.984127</td>\n",
              "      <td>1.023810</td>\n",
              "      <td>322.0</td>\n",
              "      <td>2.555556</td>\n",
              "      <td>37.88</td>\n",
              "      <td>-122.23</td>\n",
              "      <td>4.526</td>\n",
              "    </tr>\n",
              "    <tr>\n",
              "      <th>1</th>\n",
              "      <td>8.3014</td>\n",
              "      <td>21.0</td>\n",
              "      <td>6.238137</td>\n",
              "      <td>0.971880</td>\n",
              "      <td>2401.0</td>\n",
              "      <td>2.109842</td>\n",
              "      <td>37.86</td>\n",
              "      <td>-122.22</td>\n",
              "      <td>3.585</td>\n",
              "    </tr>\n",
              "    <tr>\n",
              "      <th>2</th>\n",
              "      <td>7.2574</td>\n",
              "      <td>52.0</td>\n",
              "      <td>8.288136</td>\n",
              "      <td>1.073446</td>\n",
              "      <td>496.0</td>\n",
              "      <td>2.802260</td>\n",
              "      <td>37.85</td>\n",
              "      <td>-122.24</td>\n",
              "      <td>3.521</td>\n",
              "    </tr>\n",
              "    <tr>\n",
              "      <th>3</th>\n",
              "      <td>5.6431</td>\n",
              "      <td>52.0</td>\n",
              "      <td>5.817352</td>\n",
              "      <td>1.073059</td>\n",
              "      <td>558.0</td>\n",
              "      <td>2.547945</td>\n",
              "      <td>37.85</td>\n",
              "      <td>-122.25</td>\n",
              "      <td>3.413</td>\n",
              "    </tr>\n",
              "    <tr>\n",
              "      <th>4</th>\n",
              "      <td>3.8462</td>\n",
              "      <td>52.0</td>\n",
              "      <td>6.281853</td>\n",
              "      <td>1.081081</td>\n",
              "      <td>565.0</td>\n",
              "      <td>2.181467</td>\n",
              "      <td>37.85</td>\n",
              "      <td>-122.25</td>\n",
              "      <td>3.422</td>\n",
              "    </tr>\n",
              "  </tbody>\n",
              "</table>\n",
              "</div>"
            ],
            "text/plain": [
              "   MedInc  HouseAge  AveRooms  AveBedrms  Population  AveOccup  Latitude  \\\n",
              "0  8.3252      41.0  6.984127   1.023810       322.0  2.555556     37.88   \n",
              "1  8.3014      21.0  6.238137   0.971880      2401.0  2.109842     37.86   \n",
              "2  7.2574      52.0  8.288136   1.073446       496.0  2.802260     37.85   \n",
              "3  5.6431      52.0  5.817352   1.073059       558.0  2.547945     37.85   \n",
              "4  3.8462      52.0  6.281853   1.081081       565.0  2.181467     37.85   \n",
              "\n",
              "   Longitude  price  \n",
              "0    -122.23  4.526  \n",
              "1    -122.22  3.585  \n",
              "2    -122.24  3.521  \n",
              "3    -122.25  3.413  \n",
              "4    -122.25  3.422  "
            ]
          },
          "execution_count": 4,
          "metadata": {},
          "output_type": "execute_result"
        }
      ],
      "source": [
        "# Showing first five rows of DataFrame\n",
        "california_df.head()"
      ]
    },
    {
      "cell_type": "markdown",
      "metadata": {
        "id": "Np-zvQlrb8pw"
      },
      "source": [
        "---\n",
        "\n",
        "## Inserting data into Jai\n",
        "\n",
        "To be able to use Jai's functionalities, we first need to turn the data into a Jai collection. The method used to send data to Jai is j.setup (or j.fit; they are the same), which can then be consumed through the methods j.similar and j.predict. By using the setup method you add your raw data to your JAI environment, use the data to train your model based on the chosen model type and your model’s latent vector representation is then stored in the Jai collection."
      ]
    },
    {
      "cell_type": "code",
      "execution_count": 6,
      "metadata": {
        "colab": {
          "base_uri": "https://localhost:8080/",
          "height": 1000
        },
        "id": "mIXD-sLmb-HQ",
        "outputId": "c633d53c-6eb6-48d7-b4fa-20f8875f6fcd"
      },
      "outputs": [
        {
          "name": "stdout",
          "output_type": "stream",
          "text": [
            "\n",
            "Recognized setup args:\n",
            "- db_type: Supervised\n",
            "- label: \n",
            "  * task             : regression\n",
            "  * label_name       : price\n",
            "  * regression_scaler: None\n",
            "  * quantiles        : []\n"
          ]
        },
        {
          "name": "stderr",
          "output_type": "stream",
          "text": [
            "Insert Data: 100%|██████████| 2/2 [00:00<00:00,  2.54it/s]\n"
          ]
        },
        {
          "name": "stdout",
          "output_type": "stream",
          "text": [
            "\n",
            "Recognized setup args:\n",
            "- db_type: Supervised\n",
            "- label: \n",
            "  * task             : regression\n",
            "  * label_name       : price\n",
            "  * regression_scaler: None\n",
            "  * quantiles        : []\n"
          ]
        },
        {
          "name": "stderr",
          "output_type": "stream",
          "text": [
            "JAI is working: 100%|██████████|22/22 [00:36]\n"
          ]
        },
        {
          "data": {
            "image/png": "[encoded data removed]",
            "text/plain": [
              "<Figure size 432x288 with 1 Axes>"
            ]
          },
          "metadata": {
            "needs_background": "light"
          },
          "output_type": "display_data"
        },
        {
          "name": "stdout",
          "output_type": "stream",
          "text": [
            "\n",
            "Setup Report:\n",
            "Metrics Regression:\n",
            "MAE: 0.44369176030158997\n",
            "MSE: 0.42195257544517517\n",
            "MAPE: 0.23954549431800842\n",
            "R2 Score: 0.6779993327463893\n",
            "Pinball Loss 0.5: 0.22184588015079498\n",
            "\n",
            "Best model at epoch: 25 val_loss: 0.41\n"
          ]
        }
      ],
      "source": [
        "trainer = Trainer(\n",
        "    # JAI collection name\n",
        "    name = 'california_housing',\n",
        "\n",
        "    #verbose 2 -> shows the loss graph at the end of training\n",
        "    verbose = 2\n",
        ")\n",
        "\n",
        "trainer.set_parameters(\n",
        "    #collection type\n",
        "    db_type = 'Supervised',\n",
        "    label =\n",
        "    {\n",
        "        'task':'regression',\n",
        "        'label_name':'price'\n",
        "    },\n",
        ")\n",
        "\n",
        "# When frequency_seconds >= 1, fit will return a Query object ready to consume the collection.\n",
        "query = trainer.fit(\n",
        "    #data to be processed - a Pandas DataFrame is expected\n",
        "    data = california_df,\n",
        "\n",
        "    # Overwrite allows you to overwrite other existing databases with the same name\n",
        "    overwrite = True\n",
        ")"
      ]
    },
    {
      "cell_type": "markdown",
      "metadata": {
        "id": "D5xM89f1ygFa"
      },
      "source": [
        "---\n",
        "\n",
        "## Model Inference\n",
        "\n",
        "We can use the trained model for inference"
      ]
    },
    {
      "cell_type": "code",
      "execution_count": 7,
      "metadata": {
        "colab": {
          "base_uri": "https://localhost:8080/"
        },
        "id": "y27r9v4Iew-b",
        "outputId": "154c6967-990b-4041-f7a6-b7e6417b1d4f"
      },
      "outputs": [
        {
          "name": "stderr",
          "output_type": "stream",
          "text": [
            "Predict: 100%|██████████| 1/1 [00:00<00:00,  2.93it/s]\n",
            "Predict Processing: 100%|██████████| 1/1 [00:00<00:00, 19328.59it/s]\n"
          ]
        }
      ],
      "source": [
        "# every JAI Supervised collection can be used for inference using query.predict()\n",
        "ans = query.predict(\n",
        "    # Remember to drop the label as it is not a feature!\n",
        "    # Predicting the value of the first 5 houses in the dataset\n",
        "    data = california_df.head(1).drop('price',axis = 1),\n",
        "    as_frame = True\n",
        ")"
      ]
    },
    {
      "cell_type": "code",
      "execution_count": 8,
      "metadata": {
        "colab": {
          "base_uri": "https://localhost:8080/",
          "height": 111
        },
        "id": "4hhzjBUdDUXz",
        "outputId": "7c700708-aeb7-4977-e045-5a22d992ebf1"
      },
      "outputs": [
        {
          "data": {
            "text/html": [
              "<div>\n",
              "<style scoped>\n",
              "    .dataframe tbody tr th:only-of-type {\n",
              "        vertical-align: middle;\n",
              "    }\n",
              "\n",
              "    .dataframe tbody tr th {\n",
              "        vertical-align: top;\n",
              "    }\n",
              "\n",
              "    .dataframe thead th {\n",
              "        text-align: right;\n",
              "    }\n",
              "</style>\n",
              "<table border=\"1\" class=\"dataframe\">\n",
              "  <thead>\n",
              "    <tr style=\"text-align: right;\">\n",
              "      <th></th>\n",
              "      <th>predict</th>\n",
              "      <th>Target</th>\n",
              "    </tr>\n",
              "    <tr>\n",
              "      <th>id</th>\n",
              "      <th></th>\n",
              "      <th></th>\n",
              "    </tr>\n",
              "  </thead>\n",
              "  <tbody>\n",
              "    <tr>\n",
              "      <th>0</th>\n",
              "      <td>4.017475</td>\n",
              "      <td>4.526</td>\n",
              "    </tr>\n",
              "  </tbody>\n",
              "</table>\n",
              "</div>"
            ],
            "text/plain": [
              "     predict  Target\n",
              "id                  \n",
              "0   4.017475   4.526"
            ]
          },
          "execution_count": 8,
          "metadata": {},
          "output_type": "execute_result"
        }
      ],
      "source": [
        "ans['Target'] = california_housing.target\n",
        "ans"
      ]
    }
  ],
  "metadata": {
    "colab": {
      "collapsed_sections": [],
      "name": "California Regression.ipynb",
      "provenance": []
    },
    "kernelspec": {
      "display_name": "Python 3.8.13 ('sdk-kazu')",
      "language": "python",
      "name": "python3"
    },
    "language_info": {
      "codemirror_mode": {
        "name": "ipython",
        "version": 3
      },
      "file_extension": ".py",
      "mimetype": "text/x-python",
      "name": "python",
      "nbconvert_exporter": "python",
      "pygments_lexer": "ipython3",
      "version": "3.8.13"
    },
    "vscode": {
      "interpreter": {
        "hash": "8b7e0f45007ecc24d86bc65b57cd5e04fd0ff71bbcc2f3378eebbb56cfcfc92d"
      }
    }
  },
  "nbformat": 4,
  "nbformat_minor": 0
}
