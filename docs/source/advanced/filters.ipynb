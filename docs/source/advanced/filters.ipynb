{
 "cells": [
  {
   "cell_type": "markdown",
   "metadata": {},
   "source": [
    "# Creating a new collection with filters\n",
    "\n",
    "\n",
    "> **Note**:\n",
    "> As of now, you can only set filters upon creating a new collection. It's not possible to set a filter to an existing collection.\n",
    "\n",
    "\n",
    "This section will demonstrate how to create a collection with filters and its implications.\n",
    "\n",
    "\n",
    "> **Note**: As of now, you can only set one filter for each collection.\n",
    "\n",
    "The dataset used is [Wine Reviews](https://www.kaggle.com/datasets/zynicide/wine-reviews) from Kaggle. We'll take a sample of the dataset, so if you are running this example, it won't take too long to get the results (as the entire processing takes around 10 minutes)."
   ]
  },
  {
   "cell_type": "code",
   "execution_count": 1,
   "metadata": {},
   "outputs": [
    {
     "data": {
      "text/html": [
       "<div>\n",
       "<style scoped>\n",
       "    .dataframe tbody tr th:only-of-type {\n",
       "        vertical-align: middle;\n",
       "    }\n",
       "\n",
       "    .dataframe tbody tr th {\n",
       "        vertical-align: top;\n",
       "    }\n",
       "\n",
       "    .dataframe thead th {\n",
       "        text-align: right;\n",
       "    }\n",
       "</style>\n",
       "<table border=\"1\" class=\"dataframe\">\n",
       "  <thead>\n",
       "    <tr style=\"text-align: right;\">\n",
       "      <th></th>\n",
       "      <th>country</th>\n",
       "      <th>description</th>\n",
       "      <th>designation</th>\n",
       "      <th>points</th>\n",
       "      <th>price</th>\n",
       "      <th>province</th>\n",
       "      <th>region_1</th>\n",
       "      <th>region_2</th>\n",
       "      <th>taster_name</th>\n",
       "      <th>taster_twitter_handle</th>\n",
       "      <th>title</th>\n",
       "      <th>variety</th>\n",
       "      <th>winery</th>\n",
       "    </tr>\n",
       "  </thead>\n",
       "  <tbody>\n",
       "    <tr>\n",
       "      <th>0</th>\n",
       "      <td>Italy</td>\n",
       "      <td>Aromas include tropical fruit, broom, brimston...</td>\n",
       "      <td>Vulkà Bianco</td>\n",
       "      <td>87</td>\n",
       "      <td>NaN</td>\n",
       "      <td>Sicily &amp; Sardinia</td>\n",
       "      <td>Etna</td>\n",
       "      <td>NaN</td>\n",
       "      <td>Kerin O’Keefe</td>\n",
       "      <td>@kerinokeefe</td>\n",
       "      <td>Nicosia 2013 Vulkà Bianco  (Etna)</td>\n",
       "      <td>White Blend</td>\n",
       "      <td>Nicosia</td>\n",
       "    </tr>\n",
       "    <tr>\n",
       "      <th>1</th>\n",
       "      <td>Portugal</td>\n",
       "      <td>This is ripe and fruity, a wine that is smooth...</td>\n",
       "      <td>Avidagos</td>\n",
       "      <td>87</td>\n",
       "      <td>15.0</td>\n",
       "      <td>Douro</td>\n",
       "      <td>NaN</td>\n",
       "      <td>NaN</td>\n",
       "      <td>Roger Voss</td>\n",
       "      <td>@vossroger</td>\n",
       "      <td>Quinta dos Avidagos 2011 Avidagos Red (Douro)</td>\n",
       "      <td>Portuguese Red</td>\n",
       "      <td>Quinta dos Avidagos</td>\n",
       "    </tr>\n",
       "    <tr>\n",
       "      <th>2</th>\n",
       "      <td>US</td>\n",
       "      <td>Tart and snappy, the flavors of lime flesh and...</td>\n",
       "      <td>NaN</td>\n",
       "      <td>87</td>\n",
       "      <td>14.0</td>\n",
       "      <td>Oregon</td>\n",
       "      <td>Willamette Valley</td>\n",
       "      <td>Willamette Valley</td>\n",
       "      <td>Paul Gregutt</td>\n",
       "      <td>@paulgwine</td>\n",
       "      <td>Rainstorm 2013 Pinot Gris (Willamette Valley)</td>\n",
       "      <td>Pinot Gris</td>\n",
       "      <td>Rainstorm</td>\n",
       "    </tr>\n",
       "    <tr>\n",
       "      <th>3</th>\n",
       "      <td>US</td>\n",
       "      <td>Pineapple rind, lemon pith and orange blossom ...</td>\n",
       "      <td>Reserve Late Harvest</td>\n",
       "      <td>87</td>\n",
       "      <td>13.0</td>\n",
       "      <td>Michigan</td>\n",
       "      <td>Lake Michigan Shore</td>\n",
       "      <td>NaN</td>\n",
       "      <td>Alexander Peartree</td>\n",
       "      <td>NaN</td>\n",
       "      <td>St. Julian 2013 Reserve Late Harvest Riesling ...</td>\n",
       "      <td>Riesling</td>\n",
       "      <td>St. Julian</td>\n",
       "    </tr>\n",
       "    <tr>\n",
       "      <th>4</th>\n",
       "      <td>US</td>\n",
       "      <td>Much like the regular bottling from 2012, this...</td>\n",
       "      <td>Vintner's Reserve Wild Child Block</td>\n",
       "      <td>87</td>\n",
       "      <td>65.0</td>\n",
       "      <td>Oregon</td>\n",
       "      <td>Willamette Valley</td>\n",
       "      <td>Willamette Valley</td>\n",
       "      <td>Paul Gregutt</td>\n",
       "      <td>@paulgwine</td>\n",
       "      <td>Sweet Cheeks 2012 Vintner's Reserve Wild Child...</td>\n",
       "      <td>Pinot Noir</td>\n",
       "      <td>Sweet Cheeks</td>\n",
       "    </tr>\n",
       "  </tbody>\n",
       "</table>\n",
       "</div>"
      ],
      "text/plain": [
       "    country                                        description  \\\n",
       "0     Italy  Aromas include tropical fruit, broom, brimston...   \n",
       "1  Portugal  This is ripe and fruity, a wine that is smooth...   \n",
       "2        US  Tart and snappy, the flavors of lime flesh and...   \n",
       "3        US  Pineapple rind, lemon pith and orange blossom ...   \n",
       "4        US  Much like the regular bottling from 2012, this...   \n",
       "\n",
       "                          designation  points  price           province  \\\n",
       "0                        Vulkà Bianco      87    NaN  Sicily & Sardinia   \n",
       "1                            Avidagos      87   15.0              Douro   \n",
       "2                                 NaN      87   14.0             Oregon   \n",
       "3                Reserve Late Harvest      87   13.0           Michigan   \n",
       "4  Vintner's Reserve Wild Child Block      87   65.0             Oregon   \n",
       "\n",
       "              region_1           region_2         taster_name  \\\n",
       "0                 Etna                NaN       Kerin O’Keefe   \n",
       "1                  NaN                NaN          Roger Voss   \n",
       "2    Willamette Valley  Willamette Valley        Paul Gregutt   \n",
       "3  Lake Michigan Shore                NaN  Alexander Peartree   \n",
       "4    Willamette Valley  Willamette Valley        Paul Gregutt   \n",
       "\n",
       "  taster_twitter_handle                                              title  \\\n",
       "0          @kerinokeefe                  Nicosia 2013 Vulkà Bianco  (Etna)   \n",
       "1            @vossroger      Quinta dos Avidagos 2011 Avidagos Red (Douro)   \n",
       "2           @paulgwine       Rainstorm 2013 Pinot Gris (Willamette Valley)   \n",
       "3                   NaN  St. Julian 2013 Reserve Late Harvest Riesling ...   \n",
       "4           @paulgwine   Sweet Cheeks 2012 Vintner's Reserve Wild Child...   \n",
       "\n",
       "          variety               winery  \n",
       "0     White Blend              Nicosia  \n",
       "1  Portuguese Red  Quinta dos Avidagos  \n",
       "2      Pinot Gris            Rainstorm  \n",
       "3        Riesling           St. Julian  \n",
       "4      Pinot Noir         Sweet Cheeks  "
      ]
     },
     "execution_count": 1,
     "metadata": {},
     "output_type": "execute_result"
    }
   ],
   "source": [
    "import pandas as pd\n",
    "\n",
    "# Let's take a look at the dataset\n",
    "df = pd.read_csv(\"data/wine-reviews/winemag-data-130k-v2.csv\", index_col=0)\n",
    "\n",
    "# Let's take a sample here\n",
    "SAMPLE_SIZE = 2000\n",
    "# If you wish to use the full dataset, just remove the line bellow\n",
    "df = df.iloc[:SAMPLE_SIZE]\n",
    "\n",
    "df.head()"
   ]
  },
  {
   "cell_type": "markdown",
   "metadata": {},
   "source": [
    "## `Text` Example\n",
    "\n",
    "Here is a simple example of how the filters can be used.\n",
    "\n",
    "We want to create a collection with the \"description\" column of our dataset.\n",
    "We'll be able to peform similarity searches from the descriptions and get the descriptions with similar meanings.\n",
    "\n",
    "Now, if we add the column \"country\" as a filter for this collection, we can filter the results to a country or group of countries of our choice.\n",
    "\n",
    "First, we'll run how to set up a collection using the classes from the Task Module and then use the Jai Class to perform the same thing."
   ]
  },
  {
   "cell_type": "markdown",
   "metadata": {},
   "source": [
    "### Text collection with filters using Trainer Class\n",
    "\n"
   ]
  },
  {
   "cell_type": "code",
   "execution_count": 2,
   "metadata": {},
   "outputs": [
    {
     "name": "stdout",
     "output_type": "stream",
     "text": [
      "\n",
      "Recognized setup args:\n",
      "- db_type: Text\n",
      "- features: \n",
      "  * country:\n",
      "    - dtype: filter\n"
     ]
    }
   ],
   "source": [
    "from jai import Trainer\n",
    "\n",
    "trainer = Trainer(\"wine_description\")\n",
    "trainer.set_parameters(db_type=\"Text\", features={\"country\": {\"dtype\": \"filter\"}})\n"
   ]
  },
  {
   "cell_type": "markdown",
   "metadata": {},
   "source": [
    "> Note: \n",
    "> On setup_parameters attribute, there's a feature named \"text\".\n",
    "> This is only a default, and is corrected to \"description\" on the fit process."
   ]
  },
  {
   "cell_type": "code",
   "execution_count": 3,
   "metadata": {},
   "outputs": [
    {
     "data": {
      "text/plain": [
       "{'db_type': 'Text',\n",
       " 'features': {'text': {'name': 'text', 'dtype': 'text'},\n",
       "  'country': {'name': 'country', 'dtype': 'filter'}}}"
      ]
     },
     "execution_count": 3,
     "metadata": {},
     "output_type": "execute_result"
    }
   ],
   "source": [
    "trainer.setup_parameters"
   ]
  },
  {
   "cell_type": "code",
   "execution_count": 4,
   "metadata": {},
   "outputs": [
    {
     "name": "stderr",
     "output_type": "stream",
     "text": [
      "Insert Data: 100%|██████████| 1/1 [00:00<00:00,  3.84it/s]\n"
     ]
    },
    {
     "name": "stdout",
     "output_type": "stream",
     "text": [
      "\n",
      "Recognized setup args:\n",
      "- db_type: Text\n",
      "- features: \n",
      "  * country:\n",
      "    - dtype: filter\n"
     ]
    },
    {
     "name": "stderr",
     "output_type": "stream",
     "text": [
      "JAI is working: 100%|██████████|12/12 [00:16]\n"
     ]
    }
   ],
   "source": [
    "df_description = df[[\"description\", \"country\"]]\n",
    "query = trainer.fit(df_description, overwrite=True)"
   ]
  },
  {
   "cell_type": "markdown",
   "metadata": {},
   "source": [
    "Here, you can see that the feature \"text\" has been changed to the correct value."
   ]
  },
  {
   "cell_type": "code",
   "execution_count": 5,
   "metadata": {},
   "outputs": [
    {
     "data": {
      "text/plain": [
       "[{'name': 'description', 'dtype': 'text'},\n",
       " {'name': 'country', 'feature_id': 'country', 'dtype': 'filter'}]"
      ]
     },
     "execution_count": 5,
     "metadata": {},
     "output_type": "execute_result"
    }
   ],
   "source": [
    "query.describe()[\"features\"]"
   ]
  },
  {
   "cell_type": "markdown",
   "metadata": {},
   "source": [
    "Here's the list of filters:\n",
    "> Note: the \"_default\" filter is always defined, it will contain the cases where the filter is NaN."
   ]
  },
  {
   "cell_type": "code",
   "execution_count": 6,
   "metadata": {},
   "outputs": [
    {
     "data": {
      "text/plain": [
       "['_default',\n",
       " 'Italy',\n",
       " 'Portugal',\n",
       " 'US',\n",
       " 'Spain',\n",
       " 'France',\n",
       " 'Germany',\n",
       " 'Argentina',\n",
       " 'Chile',\n",
       " 'Australia',\n",
       " 'Austria',\n",
       " 'South Africa',\n",
       " 'New Zealand',\n",
       " 'Israel',\n",
       " 'Hungary',\n",
       " 'Greece',\n",
       " 'Romania',\n",
       " 'Mexico',\n",
       " 'Canada',\n",
       " 'Turkey']"
      ]
     },
     "execution_count": 6,
     "metadata": {},
     "output_type": "execute_result"
    }
   ],
   "source": [
    "query.filters()"
   ]
  },
  {
   "cell_type": "markdown",
   "metadata": {},
   "source": [
    "An example of a normal similarity query"
   ]
  },
  {
   "cell_type": "code",
   "execution_count": 7,
   "metadata": {},
   "outputs": [
    {
     "name": "stderr",
     "output_type": "stream",
     "text": [
      "Similar: 100%|██████████| 1/1 [00:00<00:00,  6.10it/s]\n"
     ]
    },
    {
     "data": {
      "text/html": [
       "<div>\n",
       "<style scoped>\n",
       "    .dataframe tbody tr th:only-of-type {\n",
       "        vertical-align: middle;\n",
       "    }\n",
       "\n",
       "    .dataframe tbody tr th {\n",
       "        vertical-align: top;\n",
       "    }\n",
       "\n",
       "    .dataframe thead th {\n",
       "        text-align: right;\n",
       "    }\n",
       "</style>\n",
       "<table border=\"1\" class=\"dataframe\">\n",
       "  <thead>\n",
       "    <tr style=\"text-align: right;\">\n",
       "      <th></th>\n",
       "      <th>query_id</th>\n",
       "      <th>id</th>\n",
       "      <th>distance</th>\n",
       "    </tr>\n",
       "  </thead>\n",
       "  <tbody>\n",
       "    <tr>\n",
       "      <th>0</th>\n",
       "      <td>0</td>\n",
       "      <td>0</td>\n",
       "      <td>0.000000</td>\n",
       "    </tr>\n",
       "    <tr>\n",
       "      <th>1</th>\n",
       "      <td>0</td>\n",
       "      <td>680</td>\n",
       "      <td>1.580637</td>\n",
       "    </tr>\n",
       "    <tr>\n",
       "      <th>2</th>\n",
       "      <td>0</td>\n",
       "      <td>1022</td>\n",
       "      <td>1.692475</td>\n",
       "    </tr>\n",
       "    <tr>\n",
       "      <th>3</th>\n",
       "      <td>0</td>\n",
       "      <td>1314</td>\n",
       "      <td>1.726672</td>\n",
       "    </tr>\n",
       "    <tr>\n",
       "      <th>4</th>\n",
       "      <td>0</td>\n",
       "      <td>1550</td>\n",
       "      <td>1.856125</td>\n",
       "    </tr>\n",
       "    <tr>\n",
       "      <th>5</th>\n",
       "      <td>0</td>\n",
       "      <td>1292</td>\n",
       "      <td>1.876980</td>\n",
       "    </tr>\n",
       "    <tr>\n",
       "      <th>6</th>\n",
       "      <td>0</td>\n",
       "      <td>223</td>\n",
       "      <td>1.935903</td>\n",
       "    </tr>\n",
       "    <tr>\n",
       "      <th>7</th>\n",
       "      <td>0</td>\n",
       "      <td>22</td>\n",
       "      <td>1.939301</td>\n",
       "    </tr>\n",
       "    <tr>\n",
       "      <th>8</th>\n",
       "      <td>0</td>\n",
       "      <td>1036</td>\n",
       "      <td>1.945883</td>\n",
       "    </tr>\n",
       "    <tr>\n",
       "      <th>9</th>\n",
       "      <td>0</td>\n",
       "      <td>1553</td>\n",
       "      <td>1.981671</td>\n",
       "    </tr>\n",
       "  </tbody>\n",
       "</table>\n",
       "</div>"
      ],
      "text/plain": [
       "   query_id    id  distance\n",
       "0         0     0  0.000000\n",
       "1         0   680  1.580637\n",
       "2         0  1022  1.692475\n",
       "3         0  1314  1.726672\n",
       "4         0  1550  1.856125\n",
       "5         0  1292  1.876980\n",
       "6         0   223  1.935903\n",
       "7         0    22  1.939301\n",
       "8         0  1036  1.945883\n",
       "9         0  1553  1.981671"
      ]
     },
     "execution_count": 7,
     "metadata": {},
     "output_type": "execute_result"
    }
   ],
   "source": [
    "r = query.similar([0], orient=\"flat\", top_k=10)\n",
    "q = pd.DataFrame(r) # we'll structure the results in a dataframe for visualization\n",
    "q"
   ]
  },
  {
   "cell_type": "code",
   "execution_count": 8,
   "metadata": {},
   "outputs": [
    {
     "data": {
      "text/html": [
       "<div>\n",
       "<style scoped>\n",
       "    .dataframe tbody tr th:only-of-type {\n",
       "        vertical-align: middle;\n",
       "    }\n",
       "\n",
       "    .dataframe tbody tr th {\n",
       "        vertical-align: top;\n",
       "    }\n",
       "\n",
       "    .dataframe thead th {\n",
       "        text-align: right;\n",
       "    }\n",
       "</style>\n",
       "<table border=\"1\" class=\"dataframe\">\n",
       "  <thead>\n",
       "    <tr style=\"text-align: right;\">\n",
       "      <th></th>\n",
       "      <th>country</th>\n",
       "      <th>description</th>\n",
       "    </tr>\n",
       "  </thead>\n",
       "  <tbody>\n",
       "    <tr>\n",
       "      <th>0</th>\n",
       "      <td>Italy</td>\n",
       "      <td>Aromas include tropical fruit, broom, brimston...</td>\n",
       "    </tr>\n",
       "    <tr>\n",
       "      <th>680</th>\n",
       "      <td>Spain</td>\n",
       "      <td>Plum, prune and raspberry aromas are solid. Th...</td>\n",
       "    </tr>\n",
       "    <tr>\n",
       "      <th>1022</th>\n",
       "      <td>Italy</td>\n",
       "      <td>Made entirely with Insolia, this opens with su...</td>\n",
       "    </tr>\n",
       "    <tr>\n",
       "      <th>1314</th>\n",
       "      <td>Italy</td>\n",
       "      <td>This opens with smoke, mint, coconut, red berr...</td>\n",
       "    </tr>\n",
       "    <tr>\n",
       "      <th>1550</th>\n",
       "      <td>Italy</td>\n",
       "      <td>Subtly scented, this opens with aromas of citr...</td>\n",
       "    </tr>\n",
       "    <tr>\n",
       "      <th>1292</th>\n",
       "      <td>Italy</td>\n",
       "      <td>This vibrant wine opens with varietal aromas o...</td>\n",
       "    </tr>\n",
       "    <tr>\n",
       "      <th>223</th>\n",
       "      <td>Italy</td>\n",
       "      <td>Bright and creamy, this savory white offers ar...</td>\n",
       "    </tr>\n",
       "    <tr>\n",
       "      <th>22</th>\n",
       "      <td>Italy</td>\n",
       "      <td>Delicate aromas recall white flower and citrus...</td>\n",
       "    </tr>\n",
       "    <tr>\n",
       "      <th>1036</th>\n",
       "      <td>Italy</td>\n",
       "      <td>An attractive fragrance of white flower, stone...</td>\n",
       "    </tr>\n",
       "    <tr>\n",
       "      <th>1553</th>\n",
       "      <td>Italy</td>\n",
       "      <td>Made with Nero di Troia grapes, this has aroma...</td>\n",
       "    </tr>\n",
       "  </tbody>\n",
       "</table>\n",
       "</div>"
      ],
      "text/plain": [
       "     country                                        description\n",
       "0      Italy  Aromas include tropical fruit, broom, brimston...\n",
       "680    Spain  Plum, prune and raspberry aromas are solid. Th...\n",
       "1022   Italy  Made entirely with Insolia, this opens with su...\n",
       "1314   Italy  This opens with smoke, mint, coconut, red berr...\n",
       "1550   Italy  Subtly scented, this opens with aromas of citr...\n",
       "1292   Italy  This vibrant wine opens with varietal aromas o...\n",
       "223    Italy  Bright and creamy, this savory white offers ar...\n",
       "22     Italy  Delicate aromas recall white flower and citrus...\n",
       "1036   Italy  An attractive fragrance of white flower, stone...\n",
       "1553   Italy  Made with Nero di Troia grapes, this has aroma..."
      ]
     },
     "execution_count": 8,
     "metadata": {},
     "output_type": "execute_result"
    }
   ],
   "source": [
    "# the query result on the original data\n",
    "df.loc[q[\"id\"], [\"country\", \"description\"]]"
   ]
  },
  {
   "cell_type": "markdown",
   "metadata": {},
   "source": [
    "Now using filters on the query"
   ]
  },
  {
   "cell_type": "code",
   "execution_count": 9,
   "metadata": {},
   "outputs": [
    {
     "name": "stderr",
     "output_type": "stream",
     "text": [
      "Similar: 100%|██████████| 1/1 [00:00<00:00,  6.03it/s]\n"
     ]
    },
    {
     "data": {
      "text/html": [
       "<div>\n",
       "<style scoped>\n",
       "    .dataframe tbody tr th:only-of-type {\n",
       "        vertical-align: middle;\n",
       "    }\n",
       "\n",
       "    .dataframe tbody tr th {\n",
       "        vertical-align: top;\n",
       "    }\n",
       "\n",
       "    .dataframe thead th {\n",
       "        text-align: right;\n",
       "    }\n",
       "</style>\n",
       "<table border=\"1\" class=\"dataframe\">\n",
       "  <thead>\n",
       "    <tr style=\"text-align: right;\">\n",
       "      <th></th>\n",
       "      <th>country</th>\n",
       "      <th>description</th>\n",
       "    </tr>\n",
       "  </thead>\n",
       "  <tbody>\n",
       "    <tr>\n",
       "      <th>651</th>\n",
       "      <td>France</td>\n",
       "      <td>Subtle notes of clean, fresh lemon zest promis...</td>\n",
       "    </tr>\n",
       "    <tr>\n",
       "      <th>911</th>\n",
       "      <td>France</td>\n",
       "      <td>Juicy dark plum, cherry and boysenberry are up...</td>\n",
       "    </tr>\n",
       "    <tr>\n",
       "      <th>574</th>\n",
       "      <td>France</td>\n",
       "      <td>This bend of 70% Syrah and 30% Grenache is nev...</td>\n",
       "    </tr>\n",
       "    <tr>\n",
       "      <th>82</th>\n",
       "      <td>France</td>\n",
       "      <td>This fruity, sweet wine is immediately attract...</td>\n",
       "    </tr>\n",
       "    <tr>\n",
       "      <th>1301</th>\n",
       "      <td>France</td>\n",
       "      <td>Lightly herbaceous, this is a ripe, lively win...</td>\n",
       "    </tr>\n",
       "    <tr>\n",
       "      <th>994</th>\n",
       "      <td>France</td>\n",
       "      <td>An enticingly perfumed wine, with its white fl...</td>\n",
       "    </tr>\n",
       "    <tr>\n",
       "      <th>879</th>\n",
       "      <td>France</td>\n",
       "      <td>A solid effort, with attractive, balanced blac...</td>\n",
       "    </tr>\n",
       "    <tr>\n",
       "      <th>1340</th>\n",
       "      <td>France</td>\n",
       "      <td>Produced from organic grapes, the wine is ripe...</td>\n",
       "    </tr>\n",
       "    <tr>\n",
       "      <th>211</th>\n",
       "      <td>France</td>\n",
       "      <td>This is taut and sinewy in profile, but shows ...</td>\n",
       "    </tr>\n",
       "    <tr>\n",
       "      <th>448</th>\n",
       "      <td>France</td>\n",
       "      <td>This appealing blend of 50% Roussanne, 30% Gre...</td>\n",
       "    </tr>\n",
       "  </tbody>\n",
       "</table>\n",
       "</div>"
      ],
      "text/plain": [
       "     country                                        description\n",
       "651   France  Subtle notes of clean, fresh lemon zest promis...\n",
       "911   France  Juicy dark plum, cherry and boysenberry are up...\n",
       "574   France  This bend of 70% Syrah and 30% Grenache is nev...\n",
       "82    France  This fruity, sweet wine is immediately attract...\n",
       "1301  France  Lightly herbaceous, this is a ripe, lively win...\n",
       "994   France  An enticingly perfumed wine, with its white fl...\n",
       "879   France  A solid effort, with attractive, balanced blac...\n",
       "1340  France  Produced from organic grapes, the wine is ripe...\n",
       "211   France  This is taut and sinewy in profile, but shows ...\n",
       "448   France  This appealing blend of 50% Roussanne, 30% Gre..."
      ]
     },
     "execution_count": 9,
     "metadata": {},
     "output_type": "execute_result"
    }
   ],
   "source": [
    "q = pd.DataFrame(query.similar([0], orient=\"flat\", top_k=10, filters=[\"France\"]))\n",
    "df.loc[q[\"id\"], [\"country\", \"description\"]]"
   ]
  },
  {
   "cell_type": "markdown",
   "metadata": {},
   "source": [
    "You can also use multiple filters"
   ]
  },
  {
   "cell_type": "code",
   "execution_count": 10,
   "metadata": {},
   "outputs": [
    {
     "name": "stderr",
     "output_type": "stream",
     "text": [
      "Similar: 100%|██████████| 1/1 [00:00<00:00,  6.20it/s]\n"
     ]
    },
    {
     "data": {
      "text/html": [
       "<div>\n",
       "<style scoped>\n",
       "    .dataframe tbody tr th:only-of-type {\n",
       "        vertical-align: middle;\n",
       "    }\n",
       "\n",
       "    .dataframe tbody tr th {\n",
       "        vertical-align: top;\n",
       "    }\n",
       "\n",
       "    .dataframe thead th {\n",
       "        text-align: right;\n",
       "    }\n",
       "</style>\n",
       "<table border=\"1\" class=\"dataframe\">\n",
       "  <thead>\n",
       "    <tr style=\"text-align: right;\">\n",
       "      <th></th>\n",
       "      <th>country</th>\n",
       "      <th>description</th>\n",
       "    </tr>\n",
       "  </thead>\n",
       "  <tbody>\n",
       "    <tr>\n",
       "      <th>680</th>\n",
       "      <td>Spain</td>\n",
       "      <td>Plum, prune and raspberry aromas are solid. Th...</td>\n",
       "    </tr>\n",
       "    <tr>\n",
       "      <th>821</th>\n",
       "      <td>Spain</td>\n",
       "      <td>Bready aromas feature melon as the main fruit ...</td>\n",
       "    </tr>\n",
       "    <tr>\n",
       "      <th>837</th>\n",
       "      <td>Spain</td>\n",
       "      <td>Generic white-fruit and matchstick aromas are ...</td>\n",
       "    </tr>\n",
       "    <tr>\n",
       "      <th>1847</th>\n",
       "      <td>Spain</td>\n",
       "      <td>Aromas of raw oak, paint and dark-berry fruits...</td>\n",
       "    </tr>\n",
       "    <tr>\n",
       "      <th>1531</th>\n",
       "      <td>Spain</td>\n",
       "      <td>Cherry and blackberry aromas come with spice a...</td>\n",
       "    </tr>\n",
       "    <tr>\n",
       "      <th>836</th>\n",
       "      <td>Spain</td>\n",
       "      <td>Apple and melon aromas are standard and light....</td>\n",
       "    </tr>\n",
       "    <tr>\n",
       "      <th>1755</th>\n",
       "      <td>Spain</td>\n",
       "      <td>Aromas of rhubarb, herbs and strawberry mark t...</td>\n",
       "    </tr>\n",
       "    <tr>\n",
       "      <th>651</th>\n",
       "      <td>France</td>\n",
       "      <td>Subtle notes of clean, fresh lemon zest promis...</td>\n",
       "    </tr>\n",
       "    <tr>\n",
       "      <th>5</th>\n",
       "      <td>Spain</td>\n",
       "      <td>Blackberry and raspberry aromas show a typical...</td>\n",
       "    </tr>\n",
       "    <tr>\n",
       "      <th>809</th>\n",
       "      <td>Spain</td>\n",
       "      <td>Mild raisin, black cherry, anise and burnt tir...</td>\n",
       "    </tr>\n",
       "  </tbody>\n",
       "</table>\n",
       "</div>"
      ],
      "text/plain": [
       "     country                                        description\n",
       "680    Spain  Plum, prune and raspberry aromas are solid. Th...\n",
       "821    Spain  Bready aromas feature melon as the main fruit ...\n",
       "837    Spain  Generic white-fruit and matchstick aromas are ...\n",
       "1847   Spain  Aromas of raw oak, paint and dark-berry fruits...\n",
       "1531   Spain  Cherry and blackberry aromas come with spice a...\n",
       "836    Spain  Apple and melon aromas are standard and light....\n",
       "1755   Spain  Aromas of rhubarb, herbs and strawberry mark t...\n",
       "651   France  Subtle notes of clean, fresh lemon zest promis...\n",
       "5      Spain  Blackberry and raspberry aromas show a typical...\n",
       "809    Spain  Mild raisin, black cherry, anise and burnt tir..."
      ]
     },
     "execution_count": 10,
     "metadata": {},
     "output_type": "execute_result"
    }
   ],
   "source": [
    "q = pd.DataFrame(query.similar([0], orient=\"flat\", top_k=10, filters=[\"Spain\", \"France\"]))\n",
    "df.loc[q[\"id\"], [\"country\", \"description\"]]"
   ]
  },
  {
   "cell_type": "markdown",
   "metadata": {},
   "source": [
    "### Text collection with filters using Jai Class\n",
    "\n",
    "Here is the set up to achieve the same results as before.\n",
    "\n",
    "\n",
    "> **Note** \n",
    "> There's a need to treat the data here, because Jai class removes `Na values` on creation of Text and Image collections."
   ]
  },
  {
   "cell_type": "code",
   "execution_count": 11,
   "metadata": {},
   "outputs": [
    {
     "name": "stderr",
     "output_type": "stream",
     "text": [
      "Insert Data: 100%|██████████| 1/1 [00:00<00:00,  3.95it/s]\n"
     ]
    },
    {
     "name": "stdout",
     "output_type": "stream",
     "text": [
      "Training might finish early due to early stopping criteria.\n",
      "\n",
      "Recognized setup args:\n",
      "- db_type: Text\n",
      "- features: \n",
      "  * country:\n",
      "    - dtype: filter\n"
     ]
    },
    {
     "name": "stderr",
     "output_type": "stream",
     "text": [
      "JAI is working: 100%|██████████|12/12 [00:15]\n"
     ]
    },
    {
     "data": {
      "text/plain": [
       "({0: {'Task': 'Adding new data for tabular setup',\n",
       "   'Status': 'Completed',\n",
       "   'Description': 'Insertion completed.',\n",
       "   'Interrupted': False}},\n",
       " {'Task': 'Training Model',\n",
       "  'Status': 'Job Created',\n",
       "  'Description': 'Check status after some time!',\n",
       "  'kwargs': {'db_type': '\"Text\"',\n",
       "   'features': '{\"text\": {\"name\": \"text\", \"dtype\": \"text\"}, \"country\": {\"name\": \"country\", \"dtype\": \"filter\"}}'}})"
      ]
     },
     "execution_count": 11,
     "metadata": {},
     "output_type": "execute_result"
    }
   ],
   "source": [
    "from jai import Jai\n",
    "\n",
    "j = Jai()\n",
    "\n",
    "j.fit(\n",
    "    \"wine_description\",\n",
    "    df_description.fillna(\"_default\"),\n",
    "    db_type=\"Text\",\n",
    "    features={\"country\": {\"dtype\": \"filter\"}},\n",
    "    overwrite=True,\n",
    ")"
   ]
  },
  {
   "cell_type": "code",
   "execution_count": 12,
   "metadata": {},
   "outputs": [
    {
     "data": {
      "text/plain": [
       "['_default',\n",
       " 'Italy',\n",
       " 'Portugal',\n",
       " 'US',\n",
       " 'Spain',\n",
       " 'France',\n",
       " 'Germany',\n",
       " 'Argentina',\n",
       " 'Chile',\n",
       " 'Australia',\n",
       " 'Austria',\n",
       " 'South Africa',\n",
       " 'New Zealand',\n",
       " 'Israel',\n",
       " 'Hungary',\n",
       " 'Greece',\n",
       " 'Romania',\n",
       " 'Mexico',\n",
       " 'Canada',\n",
       " 'Turkey']"
      ]
     },
     "execution_count": 12,
     "metadata": {},
     "output_type": "execute_result"
    }
   ],
   "source": [
    "j.filters(\"wine_description\")"
   ]
  },
  {
   "cell_type": "code",
   "execution_count": 13,
   "metadata": {},
   "outputs": [
    {
     "name": "stderr",
     "output_type": "stream",
     "text": [
      "Similar: 100%|██████████| 1/1 [00:00<00:00,  4.78it/s]\n"
     ]
    },
    {
     "data": {
      "text/plain": [
       "[{'query_id': 0, 'id': 0, 'distance': 0.0},\n",
       " {'query_id': 0, 'id': 1022, 'distance': 1.6924750804901123},\n",
       " {'query_id': 0, 'id': 1314, 'distance': 1.7266716957092285},\n",
       " {'query_id': 0, 'id': 1550, 'distance': 1.856124997138977},\n",
       " {'query_id': 0, 'id': 1292, 'distance': 1.8769800662994385}]"
      ]
     },
     "execution_count": 13,
     "metadata": {},
     "output_type": "execute_result"
    }
   ],
   "source": [
    "j.similar(\"wine_description\", [0], filters=[\"Italy\"], orient=\"flat\")"
   ]
  },
  {
   "cell_type": "markdown",
   "metadata": {},
   "source": [
    "## Tabular Example\n",
    "\n",
    "Here is a slightly more complex example of how the filters can be used.\n",
    "\n",
    "We'll use the same dataset, but create a Selfsupervised collection this time using more columns."
   ]
  },
  {
   "cell_type": "code",
   "execution_count": 14,
   "metadata": {},
   "outputs": [],
   "source": [
    "# the id mapping of the description collection uses the dataframe index\n",
    "# if you made the preprocessing using the Jai class, you may need to treat the NaN value.\n",
    "df_tabular = df[[ \"country\", \"province\", \"region_1\"]].copy()\n",
    "df_tabular.loc[:, 'id_description'] = df_description.index"
   ]
  },
  {
   "cell_type": "markdown",
   "metadata": {},
   "source": [
    "### Tabular - Filters using Trainer Class\n"
   ]
  },
  {
   "cell_type": "code",
   "execution_count": 15,
   "metadata": {},
   "outputs": [
    {
     "name": "stdout",
     "output_type": "stream",
     "text": [
      "\n",
      "Recognized setup args:\n",
      "- db_type: SelfSupervised\n",
      "- features: \n",
      "  * country:\n",
      "    - dtype: filter\n",
      "- pretrained_bases: \n",
      "  * id_name: id_description\n",
      "    db_parent: wine_description\n"
     ]
    }
   ],
   "source": [
    "trainer = Trainer(\"wine_tabular\")\n",
    "trainer.set_parameters(\n",
    "    db_type=\"SelfSupervised\",\n",
    "    features={\"country\": {\"dtype\": \"filter\"}},\n",
    "    # since we alread processed the description column, why not reuse it:\n",
    "    pretrained_bases=[{\"id_name\": \"id_description\", \"db_parent\": \"wine_description\"}], \n",
    ")"
   ]
  },
  {
   "cell_type": "code",
   "execution_count": 16,
   "metadata": {},
   "outputs": [
    {
     "name": "stderr",
     "output_type": "stream",
     "text": [
      "Insert Data: 100%|██████████| 1/1 [00:00<00:00,  5.23it/s]\n"
     ]
    },
    {
     "name": "stdout",
     "output_type": "stream",
     "text": [
      "\n",
      "Recognized setup args:\n",
      "- db_type: SelfSupervised\n",
      "- features: \n",
      "  * country:\n",
      "    - dtype: filter\n",
      "- pretrained_bases: \n",
      "  * id_name: id_description\n",
      "    db_parent: wine_description\n"
     ]
    },
    {
     "name": "stderr",
     "output_type": "stream",
     "text": [
      "JAI is working: 100%|██████████|20/20 [00:11]\n"
     ]
    },
    {
     "name": "stdout",
     "output_type": "stream",
     "text": [
      "\n",
      "Setup Report:\n",
      "\n",
      "Best model at epoch: 23 val_loss: 0.73\n"
     ]
    }
   ],
   "source": [
    "query = trainer.fit(df_tabular, overwrite=True)"
   ]
  },
  {
   "cell_type": "code",
   "execution_count": 17,
   "metadata": {},
   "outputs": [
    {
     "name": "stderr",
     "output_type": "stream",
     "text": [
      "Similar: 100%|██████████| 1/1 [00:00<00:00,  5.99it/s]\n"
     ]
    },
    {
     "data": {
      "text/html": [
       "<div>\n",
       "<style scoped>\n",
       "    .dataframe tbody tr th:only-of-type {\n",
       "        vertical-align: middle;\n",
       "    }\n",
       "\n",
       "    .dataframe tbody tr th {\n",
       "        vertical-align: top;\n",
       "    }\n",
       "\n",
       "    .dataframe thead th {\n",
       "        text-align: right;\n",
       "    }\n",
       "</style>\n",
       "<table border=\"1\" class=\"dataframe\">\n",
       "  <thead>\n",
       "    <tr style=\"text-align: right;\">\n",
       "      <th></th>\n",
       "      <th>country</th>\n",
       "      <th>description</th>\n",
       "    </tr>\n",
       "  </thead>\n",
       "  <tbody>\n",
       "    <tr>\n",
       "      <th>1340</th>\n",
       "      <td>France</td>\n",
       "      <td>Produced from organic grapes, the wine is ripe...</td>\n",
       "    </tr>\n",
       "    <tr>\n",
       "      <th>779</th>\n",
       "      <td>France</td>\n",
       "      <td>This is a powerful, almost concentrated, very ...</td>\n",
       "    </tr>\n",
       "    <tr>\n",
       "      <th>1986</th>\n",
       "      <td>France</td>\n",
       "      <td>For a Morgon, this is relatively light, showin...</td>\n",
       "    </tr>\n",
       "    <tr>\n",
       "      <th>193</th>\n",
       "      <td>France</td>\n",
       "      <td>A citrus-dominated wine, lime and lemon giving...</td>\n",
       "    </tr>\n",
       "    <tr>\n",
       "      <th>1007</th>\n",
       "      <td>France</td>\n",
       "      <td>Concentrated, with white fruits, a strong stre...</td>\n",
       "    </tr>\n",
       "    <tr>\n",
       "      <th>1727</th>\n",
       "      <td>France</td>\n",
       "      <td>Laced with acidity, this is a complex, structu...</td>\n",
       "    </tr>\n",
       "    <tr>\n",
       "      <th>680</th>\n",
       "      <td>Spain</td>\n",
       "      <td>Plum, prune and raspberry aromas are solid. Th...</td>\n",
       "    </tr>\n",
       "    <tr>\n",
       "      <th>958</th>\n",
       "      <td>Spain</td>\n",
       "      <td>Crisp plum and red-bell-pepper aromas lead to ...</td>\n",
       "    </tr>\n",
       "    <tr>\n",
       "      <th>1590</th>\n",
       "      <td>France</td>\n",
       "      <td>Now managed organically, this estate has produ...</td>\n",
       "    </tr>\n",
       "    <tr>\n",
       "      <th>1751</th>\n",
       "      <td>Spain</td>\n",
       "      <td>Briny lemon-lime aromas are simplistic. This b...</td>\n",
       "    </tr>\n",
       "  </tbody>\n",
       "</table>\n",
       "</div>"
      ],
      "text/plain": [
       "     country                                        description\n",
       "1340  France  Produced from organic grapes, the wine is ripe...\n",
       "779   France  This is a powerful, almost concentrated, very ...\n",
       "1986  France  For a Morgon, this is relatively light, showin...\n",
       "193   France  A citrus-dominated wine, lime and lemon giving...\n",
       "1007  France  Concentrated, with white fruits, a strong stre...\n",
       "1727  France  Laced with acidity, this is a complex, structu...\n",
       "680    Spain  Plum, prune and raspberry aromas are solid. Th...\n",
       "958    Spain  Crisp plum and red-bell-pepper aromas lead to ...\n",
       "1590  France  Now managed organically, this estate has produ...\n",
       "1751   Spain  Briny lemon-lime aromas are simplistic. This b..."
      ]
     },
     "execution_count": 17,
     "metadata": {},
     "output_type": "execute_result"
    }
   ],
   "source": [
    "q = pd.DataFrame(query.similar([0], orient=\"flat\", top_k=10, filters=[\"Spain\", \"France\"]))\n",
    "df.loc[q[\"id\"], [\"country\", \"description\"]]"
   ]
  },
  {
   "cell_type": "markdown",
   "metadata": {},
   "source": [
    "### Tabular - Filters using Jai Class\n"
   ]
  },
  {
   "cell_type": "code",
   "execution_count": 18,
   "metadata": {},
   "outputs": [
    {
     "name": "stderr",
     "output_type": "stream",
     "text": [
      "Insert Data: 100%|██████████| 1/1 [00:00<00:00,  3.76it/s]\n"
     ]
    },
    {
     "name": "stdout",
     "output_type": "stream",
     "text": [
      "Training might finish early due to early stopping criteria.\n",
      "\n",
      "Recognized setup args:\n",
      "- db_type: SelfSupervised\n",
      "- features: \n",
      "  * country:\n",
      "    - dtype: filter\n",
      "- pretrained_bases: \n",
      "  * id_name: id_description\n",
      "    db_parent: wine_description\n"
     ]
    },
    {
     "name": "stderr",
     "output_type": "stream",
     "text": [
      "JAI is working: 100%|██████████|20/20 [00:10]\n"
     ]
    },
    {
     "name": "stdout",
     "output_type": "stream",
     "text": [
      "\n",
      "Setup Report:\n",
      "\n",
      "Best model at epoch: 23 val_loss: 0.73\n"
     ]
    },
    {
     "data": {
      "text/plain": [
       "({0: {'Task': 'Adding new data for tabular setup',\n",
       "   'Status': 'Completed',\n",
       "   'Description': 'Insertion completed.',\n",
       "   'Interrupted': False}},\n",
       " {'Task': 'Training Model',\n",
       "  'Status': 'Job Created',\n",
       "  'Description': 'Check status after some time!',\n",
       "  'kwargs': {'db_type': '\"SelfSupervised\"',\n",
       "   'features': '{\"country\": {\"name\": \"country\", \"dtype\": \"filter\"}}',\n",
       "   'pretrained_bases': '[{\"db_parent\": \"wine_description\", \"id_name\": \"id_description\", \"embedding_dim\": 128, \"aggregation_method\": \"sum\"}]'}})"
      ]
     },
     "execution_count": 18,
     "metadata": {},
     "output_type": "execute_result"
    }
   ],
   "source": [
    "j = Jai()\n",
    "\n",
    "j.fit(\n",
    "    \"wine_tabular\",\n",
    "    df_tabular,\n",
    "    db_type=\"SelfSupervised\",\n",
    "    features={\"country\": {\"dtype\": \"filter\"}},\n",
    "    pretrained_bases=[{\"id_name\": \"id_description\", \"db_parent\": \"wine_description\"}], \n",
    "    overwrite=True,\n",
    ")"
   ]
  }
 ],
 "metadata": {
  "kernelspec": {
   "display_name": "Python 3.8.13 ('sdk-kazu')",
   "language": "python",
   "name": "python3"
  },
  "language_info": {
   "codemirror_mode": {
    "name": "ipython",
    "version": 3
   },
   "file_extension": ".py",
   "mimetype": "text/x-python",
   "name": "python",
   "nbconvert_exporter": "python",
   "pygments_lexer": "ipython3",
   "version": "3.8.13"
  },
  "orig_nbformat": 4,
  "vscode": {
   "interpreter": {
    "hash": "8b7e0f45007ecc24d86bc65b57cd5e04fd0ff71bbcc2f3378eebbb56cfcfc92d"
   }
  }
 },
 "nbformat": 4,
 "nbformat_minor": 2
}
