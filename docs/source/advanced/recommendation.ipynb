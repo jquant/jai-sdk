{
    "cells": [
        {
            "cell_type": "markdown",
            "metadata": {},
            "source": [
                "# Recommendation Systems\n",
                "\n",
                "## Basics\n",
                "\n",
                "There are two distinct data sets (they refer to different things, e.g., consumers and products, users and movies, etc.). The objective of the model is to transform the data into vectors (embeddings) in a way that both are in the same vector space; that is, the distance between a vector of \"base A\" and a vector of \"base B\" has some meaning.\n",
                "\n",
                ">Note: This is not possible using the tabular models (`SelfSupervised` or `Supervised`) - training a model for each database - because as the models were not trained \"together,\" it is not possible to guarantee that the distance between the vectors will have any meaning beyond mathematics.\n",
                "\n",
                "Data sets are connected by a third base. (For example, in the case of [movielens](https://grouplens.org/datasets/movielens/), user and movie data are related by the `rating` that each user rated the movies). I separate here into two cases and the discussion below:\n",
                "\n",
                "- with label: there is a `numeric` label that indicates the proximity between the data.\n",
                "- no label: there is no explicit label that indicates the proximity between the data.\n",
                "\n",
                "Therefore, only 2 sets of embedding vectors are generated, as the \"link\" base is used only for training (determining which relations are close or not). To keep track of all operations, training generates 3 bases:\n",
                "- base link generates a \"type 1\" database (\"RecommendationSystem\"). There are no vectors in this base and no models, so it is not possible to use consumption operations (`similar,` `recommendation` or `prediction`)\n",
                "- twin bases generate a \"type 2\" (\"Recommendation\") database each. They are generated from training the `RecommendationSystem` base, so they cannot be created from a setup and have `similar` and `recommendation` consumption operations.\n"
            ]
        },
        {
            "cell_type": "code",
            "execution_count": 1,
            "metadata": {},
            "outputs": [
                {
                    "data": {
                        "text/html": [
                            "<div>\n",
                            "<style scoped>\n",
                            "    .dataframe tbody tr th:only-of-type {\n",
                            "        vertical-align: middle;\n",
                            "    }\n",
                            "\n",
                            "    .dataframe tbody tr th {\n",
                            "        vertical-align: top;\n",
                            "    }\n",
                            "\n",
                            "    .dataframe thead th {\n",
                            "        text-align: right;\n",
                            "    }\n",
                            "</style>\n",
                            "<table border=\"1\" class=\"dataframe\">\n",
                            "  <thead>\n",
                            "    <tr style=\"text-align: right;\">\n",
                            "      <th></th>\n",
                            "      <th>movieId</th>\n",
                            "      <th>title</th>\n",
                            "      <th>genres</th>\n",
                            "    </tr>\n",
                            "  </thead>\n",
                            "  <tbody>\n",
                            "    <tr>\n",
                            "      <th>0</th>\n",
                            "      <td>1</td>\n",
                            "      <td>Toy Story (1995)</td>\n",
                            "      <td>Adventure|Animation|Children|Comedy|Fantasy</td>\n",
                            "    </tr>\n",
                            "    <tr>\n",
                            "      <th>1</th>\n",
                            "      <td>2</td>\n",
                            "      <td>Jumanji (1995)</td>\n",
                            "      <td>Adventure|Children|Fantasy</td>\n",
                            "    </tr>\n",
                            "    <tr>\n",
                            "      <th>2</th>\n",
                            "      <td>3</td>\n",
                            "      <td>Grumpier Old Men (1995)</td>\n",
                            "      <td>Comedy|Romance</td>\n",
                            "    </tr>\n",
                            "    <tr>\n",
                            "      <th>3</th>\n",
                            "      <td>4</td>\n",
                            "      <td>Waiting to Exhale (1995)</td>\n",
                            "      <td>Comedy|Drama|Romance</td>\n",
                            "    </tr>\n",
                            "    <tr>\n",
                            "      <th>4</th>\n",
                            "      <td>5</td>\n",
                            "      <td>Father of the Bride Part II (1995)</td>\n",
                            "      <td>Comedy</td>\n",
                            "    </tr>\n",
                            "  </tbody>\n",
                            "</table>\n",
                            "</div>"
                        ],
                        "text/plain": [
                            "   movieId                               title  \\\n",
                            "0        1                    Toy Story (1995)   \n",
                            "1        2                      Jumanji (1995)   \n",
                            "2        3             Grumpier Old Men (1995)   \n",
                            "3        4            Waiting to Exhale (1995)   \n",
                            "4        5  Father of the Bride Part II (1995)   \n",
                            "\n",
                            "                                        genres  \n",
                            "0  Adventure|Animation|Children|Comedy|Fantasy  \n",
                            "1                   Adventure|Children|Fantasy  \n",
                            "2                               Comedy|Romance  \n",
                            "3                         Comedy|Drama|Romance  \n",
                            "4                                       Comedy  "
                        ]
                    },
                    "execution_count": 1,
                    "metadata": {},
                    "output_type": "execute_result"
                }
            ],
            "source": [
                "import pandas as pd\n",
                "\n",
                "# Let's take a sample here\n",
                "SAMPLE_SIZE = 10000\n",
                "\n",
                "# Import Movielens 100k Database\n",
                "# https://grouplens.org/datasets/movielens/\n",
                "# Don't forget to change the file path\n",
                "raw_movies = pd.read_csv(\"data/ml-25m/movies.csv\")\n",
                "raw_movies.head()"
            ]
        },
        {
            "cell_type": "code",
            "execution_count": 2,
            "metadata": {},
            "outputs": [
                {
                    "data": {
                        "text/html": [
                            "<div>\n",
                            "<style scoped>\n",
                            "    .dataframe tbody tr th:only-of-type {\n",
                            "        vertical-align: middle;\n",
                            "    }\n",
                            "\n",
                            "    .dataframe tbody tr th {\n",
                            "        vertical-align: top;\n",
                            "    }\n",
                            "\n",
                            "    .dataframe thead th {\n",
                            "        text-align: right;\n",
                            "    }\n",
                            "</style>\n",
                            "<table border=\"1\" class=\"dataframe\">\n",
                            "  <thead>\n",
                            "    <tr style=\"text-align: right;\">\n",
                            "      <th></th>\n",
                            "      <th>userId</th>\n",
                            "      <th>movieId</th>\n",
                            "      <th>rating</th>\n",
                            "      <th>timestamp</th>\n",
                            "    </tr>\n",
                            "  </thead>\n",
                            "  <tbody>\n",
                            "    <tr>\n",
                            "      <th>0</th>\n",
                            "      <td>1</td>\n",
                            "      <td>296</td>\n",
                            "      <td>5.0</td>\n",
                            "      <td>1147880044</td>\n",
                            "    </tr>\n",
                            "    <tr>\n",
                            "      <th>1</th>\n",
                            "      <td>1</td>\n",
                            "      <td>306</td>\n",
                            "      <td>3.5</td>\n",
                            "      <td>1147868817</td>\n",
                            "    </tr>\n",
                            "    <tr>\n",
                            "      <th>2</th>\n",
                            "      <td>1</td>\n",
                            "      <td>307</td>\n",
                            "      <td>5.0</td>\n",
                            "      <td>1147868828</td>\n",
                            "    </tr>\n",
                            "    <tr>\n",
                            "      <th>3</th>\n",
                            "      <td>1</td>\n",
                            "      <td>665</td>\n",
                            "      <td>5.0</td>\n",
                            "      <td>1147878820</td>\n",
                            "    </tr>\n",
                            "    <tr>\n",
                            "      <th>4</th>\n",
                            "      <td>1</td>\n",
                            "      <td>899</td>\n",
                            "      <td>3.5</td>\n",
                            "      <td>1147868510</td>\n",
                            "    </tr>\n",
                            "  </tbody>\n",
                            "</table>\n",
                            "</div>"
                        ],
                        "text/plain": [
                            "   userId  movieId  rating   timestamp\n",
                            "0       1      296     5.0  1147880044\n",
                            "1       1      306     3.5  1147868817\n",
                            "2       1      307     5.0  1147868828\n",
                            "3       1      665     5.0  1147878820\n",
                            "4       1      899     3.5  1147868510"
                        ]
                    },
                    "execution_count": 2,
                    "metadata": {},
                    "output_type": "execute_result"
                }
            ],
            "source": [
                "# If you wish to use the full dataset, just remove the nrows argument\n",
                "raw_ratings = pd.read_csv(\"data/ml-25m/ratings.csv\", nrows=SAMPLE_SIZE)\n",
                "raw_ratings.head()"
            ]
        },
        {
            "cell_type": "code",
            "execution_count": 3,
            "metadata": {},
            "outputs": [
                {
                    "data": {
                        "text/html": [
                            "<div>\n",
                            "<style scoped>\n",
                            "    .dataframe tbody tr th:only-of-type {\n",
                            "        vertical-align: middle;\n",
                            "    }\n",
                            "\n",
                            "    .dataframe tbody tr th {\n",
                            "        vertical-align: top;\n",
                            "    }\n",
                            "\n",
                            "    .dataframe thead th {\n",
                            "        text-align: right;\n",
                            "    }\n",
                            "</style>\n",
                            "<table border=\"1\" class=\"dataframe\">\n",
                            "  <thead>\n",
                            "    <tr style=\"text-align: right;\">\n",
                            "      <th></th>\n",
                            "      <th>movieId</th>\n",
                            "      <th>id_genres</th>\n",
                            "      <th>id_title</th>\n",
                            "    </tr>\n",
                            "    <tr>\n",
                            "      <th>movieId</th>\n",
                            "      <th></th>\n",
                            "      <th></th>\n",
                            "      <th></th>\n",
                            "    </tr>\n",
                            "  </thead>\n",
                            "  <tbody>\n",
                            "    <tr>\n",
                            "      <th>1</th>\n",
                            "      <td>1</td>\n",
                            "      <td>[0, 1, 2, 3, 4]</td>\n",
                            "      <td>0</td>\n",
                            "    </tr>\n",
                            "    <tr>\n",
                            "      <th>2</th>\n",
                            "      <td>2</td>\n",
                            "      <td>[0, 2, 4]</td>\n",
                            "      <td>1</td>\n",
                            "    </tr>\n",
                            "    <tr>\n",
                            "      <th>3</th>\n",
                            "      <td>3</td>\n",
                            "      <td>[3, 5]</td>\n",
                            "      <td>2</td>\n",
                            "    </tr>\n",
                            "    <tr>\n",
                            "      <th>5</th>\n",
                            "      <td>5</td>\n",
                            "      <td>[3]</td>\n",
                            "      <td>3</td>\n",
                            "    </tr>\n",
                            "    <tr>\n",
                            "      <th>6</th>\n",
                            "      <td>6</td>\n",
                            "      <td>[6, 7, 8]</td>\n",
                            "      <td>4</td>\n",
                            "    </tr>\n",
                            "  </tbody>\n",
                            "</table>\n",
                            "</div>"
                        ],
                        "text/plain": [
                            "         movieId        id_genres  id_title\n",
                            "movieId                                    \n",
                            "1              1  [0, 1, 2, 3, 4]         0\n",
                            "2              2        [0, 2, 4]         1\n",
                            "3              3           [3, 5]         2\n",
                            "5              5              [3]         3\n",
                            "6              6        [6, 7, 8]         4"
                        ]
                    },
                    "execution_count": 3,
                    "metadata": {},
                    "output_type": "execute_result"
                }
            ],
            "source": [
                "from jai.utilities import split\n",
                "\n",
                "# remove the excess of movie values\n",
                "movies = raw_movies.loc[raw_movies[\"movieId\"].isin(raw_ratings.loc[:, \"movieId\"].to_numpy())].copy()\n",
                "\n",
                "# Here we preprocess the data to be inserted into jai\n",
                "# We split the genres and title columns to be processed as text databases\n",
                "# Furthermore, the genres column contains multiple values for each movie, so we specify a separator.\n",
                "\n",
                "bases, movies = split(movies, {\"genres\": \"|\", \"title\": None})\n",
                "movies.index = movies[\"movieId\"]\n",
                "\n",
                "movies.head()"
            ]
        },
        {
            "cell_type": "code",
            "execution_count": 4,
            "metadata": {},
            "outputs": [
                {
                    "data": {
                        "text/html": [
                            "<div>\n",
                            "<style scoped>\n",
                            "    .dataframe tbody tr th:only-of-type {\n",
                            "        vertical-align: middle;\n",
                            "    }\n",
                            "\n",
                            "    .dataframe tbody tr th {\n",
                            "        vertical-align: top;\n",
                            "    }\n",
                            "\n",
                            "    .dataframe thead th {\n",
                            "        text-align: right;\n",
                            "    }\n",
                            "</style>\n",
                            "<table border=\"1\" class=\"dataframe\">\n",
                            "  <thead>\n",
                            "    <tr style=\"text-align: right;\">\n",
                            "      <th></th>\n",
                            "      <th>userId</th>\n",
                            "    </tr>\n",
                            "  </thead>\n",
                            "  <tbody>\n",
                            "    <tr>\n",
                            "      <th>1</th>\n",
                            "      <td>1</td>\n",
                            "    </tr>\n",
                            "    <tr>\n",
                            "      <th>2</th>\n",
                            "      <td>2</td>\n",
                            "    </tr>\n",
                            "    <tr>\n",
                            "      <th>3</th>\n",
                            "      <td>3</td>\n",
                            "    </tr>\n",
                            "    <tr>\n",
                            "      <th>4</th>\n",
                            "      <td>4</td>\n",
                            "    </tr>\n",
                            "    <tr>\n",
                            "      <th>5</th>\n",
                            "      <td>5</td>\n",
                            "    </tr>\n",
                            "  </tbody>\n",
                            "</table>\n",
                            "</div>"
                        ],
                        "text/plain": [
                            "  userId\n",
                            "1      1\n",
                            "2      2\n",
                            "3      3\n",
                            "4      4\n",
                            "5      5"
                        ]
                    },
                    "execution_count": 4,
                    "metadata": {},
                    "output_type": "execute_result"
                }
            ],
            "source": [
                "# We drop the timestamp column because we won't use it in this example\n",
                "ratings = raw_ratings.drop(\"timestamp\", axis=1)\n",
                "# Then we create the user dataframe from the ratings dataframe.\n",
                "users = pd.DataFrame(\n",
                "    {\"userId\": ratings[\"userId\"].unique().astype(str)}, index=ratings[\"userId\"].unique()\n",
                ")\n",
                "users.head()"
            ]
        },
        {
            "cell_type": "code",
            "execution_count": 5,
            "metadata": {},
            "outputs": [
                {
                    "name": "stdout",
                    "output_type": "stream",
                    "text": [
                        "\n",
                        "Recognized fit arguments:\n",
                        "- db_type: Text\n"
                    ]
                },
                {
                    "name": "stderr",
                    "output_type": "stream",
                    "text": [
                        "Insert Data: 100%|██████████| 1/1 [00:00<00:00,  2.67it/s]\n"
                    ]
                },
                {
                    "name": "stdout",
                    "output_type": "stream",
                    "text": [
                        "\n",
                        "Recognized fit arguments:\n",
                        "- db_type: Text\n"
                    ]
                },
                {
                    "name": "stderr",
                    "output_type": "stream",
                    "text": [
                        "JAI is working: 100%|██████████|12/12 [00:25]\n"
                    ]
                }
            ],
            "source": [
                "from jai import Trainer\n",
                "\n",
                "# Create a movie titles collection in Jai\n",
                "trainer = Trainer(name=\"movie_titles\")\n",
                "trainer.set_parameters(db_type=\"Text\")\n",
                "q_title = trainer.fit(bases[\"title\"], overwrite=True)"
            ]
        },
        {
            "cell_type": "code",
            "execution_count": 6,
            "metadata": {},
            "outputs": [
                {
                    "name": "stdout",
                    "output_type": "stream",
                    "text": [
                        "\n",
                        "Recognized fit arguments:\n",
                        "- db_type: Text\n"
                    ]
                },
                {
                    "name": "stderr",
                    "output_type": "stream",
                    "text": [
                        "Insert Data: 100%|██████████| 1/1 [00:00<00:00,  4.87it/s]\n"
                    ]
                },
                {
                    "name": "stdout",
                    "output_type": "stream",
                    "text": [
                        "\n",
                        "Recognized fit arguments:\n",
                        "- db_type: Text\n"
                    ]
                },
                {
                    "name": "stderr",
                    "output_type": "stream",
                    "text": [
                        "JAI is working: 100%|██████████|12/12 [00:03]\n"
                    ]
                }
            ],
            "source": [
                "# Create a movies genre collection in Jai\n",
                "trainer = Trainer(name=\"genre\")\n",
                "trainer.set_parameters(db_type=\"Text\")\n",
                "q_genre = trainer.fit(bases[\"genres\"], overwrite=True)"
            ]
        },
        {
            "cell_type": "code",
            "execution_count": 7,
            "metadata": {},
            "outputs": [
                {
                    "name": "stdout",
                    "output_type": "stream",
                    "text": [
                        "\n",
                        "Recognized fit arguments:\n",
                        "- db_type: RecommendationSystem\n",
                        "- features: \n",
                        "  * userId:\n",
                        "    - name: userId\n",
                        "    - dtype: category\n",
                        "- pretrained_bases: \n",
                        "  * id_name: movieId\n",
                        "    db_parent: movies\n",
                        "  * id_name: userId\n",
                        "    db_parent: users\n",
                        "  * id_name: id_title\n",
                        "    db_parent: movie_titles\n",
                        "  * id_name: id_genres\n",
                        "    db_parent: genre\n",
                        "- label: \n",
                        "  * label_name: rating\n"
                    ]
                }
            ],
            "source": [
                "# Create the recommendation system\n",
                "trainer = Trainer(name=\"ratings\")\n",
                "trainer.set_parameters(\n",
                "    db_type=\"RecommendationSystem\",\n",
                "    # we explicitly define user id as category, because it's a numeric data.\n",
                "    features={\"userId\": {\"name\": \"userId\", \"dtype\": \"category\"}},\n",
                "    pretrained_bases=[\n",
                "        # we must declare the tower databases as parents even though they don't exist yet\n",
                "        {\"id_name\": \"movieId\", \"db_parent\": \"movies\"},\n",
                "        {\"id_name\": \"userId\", \"db_parent\": \"users\"},\n",
                "        # the text we just preprocessed as parents too.\n",
                "        {\"id_name\": \"id_title\", \"db_parent\": \"movie_titles\"},\n",
                "        {\"id_name\": \"id_genres\", \"db_parent\": \"genre\"},\n",
                "    ],\n",
                "    label={\"label_name\": \"rating\"},\n",
                ")"
            ]
        },
        {
            "cell_type": "code",
            "execution_count": 8,
            "metadata": {},
            "outputs": [
                {
                    "data": {
                        "text/plain": [
                            "{'db_type': 'RecommendationSystem',\n",
                            " 'hyperparams': {'check_val_every_n_epoch': 1,\n",
                            "  'gradient_clip_val': 0.0,\n",
                            "  'gradient_clip_algorithm': 'norm',\n",
                            "  'min_epochs': 15,\n",
                            "  'max_epochs': 500,\n",
                            "  'patience': 10,\n",
                            "  'min_delta': 1e-05,\n",
                            "  'random_seed': 42,\n",
                            "  'split': {'type': 'random', 'split_column': '', 'test_size': 0.2, 'gap': 0},\n",
                            "  'swa_parameters': {'swa_lrs': None,\n",
                            "   'swa_epoch_start': 0.8,\n",
                            "   'annealing_epochs': 10,\n",
                            "   'annealing_strategy': 'cos'},\n",
                            "  'pruning_method': 'l1_unstructured',\n",
                            "  'pruning_amount': 0,\n",
                            "  'batch_size': 512,\n",
                            "  'learning_rate': 0.001,\n",
                            "  'base_left': '',\n",
                            "  'base_right': '',\n",
                            "  'model': {'encoder_layer': '2LM',\n",
                            "   'hidden_latent_dim': 64,\n",
                            "   'dropout_rate': 0.1,\n",
                            "   'momentum': 0.1,\n",
                            "   'normalize': False}},\n",
                            " 'features': {'userId': {'name': 'userId',\n",
                            "   'dtype': 'category',\n",
                            "   'embedding_dim': 32,\n",
                            "   'ncats': 0,\n",
                            "   'fill_value': '_other',\n",
                            "   'min_freq': 1}},\n",
                            " 'pretrained_bases': [{'db_parent': 'movies',\n",
                            "   'id_name': 'movieId',\n",
                            "   'embedding_dim': 128,\n",
                            "   'aggregation_method': 'sum'},\n",
                            "  {'db_parent': 'users',\n",
                            "   'id_name': 'userId',\n",
                            "   'embedding_dim': 128,\n",
                            "   'aggregation_method': 'sum'},\n",
                            "  {'db_parent': 'movie_titles',\n",
                            "   'id_name': 'id_title',\n",
                            "   'embedding_dim': 128,\n",
                            "   'aggregation_method': 'sum'},\n",
                            "  {'db_parent': 'genre',\n",
                            "   'id_name': 'id_genres',\n",
                            "   'embedding_dim': 128,\n",
                            "   'aggregation_method': 'sum'}],\n",
                            " 'label': {'label_name': 'rating', 'label_scaler': 'Standard'}}"
                        ]
                    },
                    "execution_count": 8,
                    "metadata": {},
                    "output_type": "execute_result"
                }
            ],
            "source": [
                "# Let's check the parameters\n",
                "trainer.fit_parameters"
            ]
        },
        {
            "cell_type": "code",
            "execution_count": 9,
            "metadata": {},
            "outputs": [
                {
                    "name": "stderr",
                    "output_type": "stream",
                    "text": [
                        "Insert Data: 100%|██████████| 1/1 [00:00<00:00,  8.34it/s]\n",
                        "Insert Data: 100%|██████████| 1/1 [00:00<00:00,  5.30it/s]\n",
                        "Insert Data: 100%|██████████| 1/1 [00:00<00:00,  4.23it/s]\n"
                    ]
                },
                {
                    "name": "stdout",
                    "output_type": "stream",
                    "text": [
                        "\n",
                        "Recognized fit arguments:\n",
                        "- db_type: RecommendationSystem\n",
                        "- features: \n",
                        "  * userId:\n",
                        "    - name: userId\n",
                        "    - dtype: category\n",
                        "- pretrained_bases: \n",
                        "  * id_name: movieId\n",
                        "    db_parent: movies\n",
                        "  * id_name: userId\n",
                        "    db_parent: users\n",
                        "  * id_name: id_title\n",
                        "    db_parent: movie_titles\n",
                        "  * id_name: id_genres\n",
                        "    db_parent: genre\n",
                        "- label: \n",
                        "  * label_name: rating\n"
                    ]
                },
                {
                    "name": "stderr",
                    "output_type": "stream",
                    "text": [
                        "JAI is working: 100%|██████████|24/24 [00:16]\n"
                    ]
                },
                {
                    "name": "stdout",
                    "output_type": "stream",
                    "text": [
                        "\n",
                        "Setup Report:\n",
                        "\n",
                        "Best model at epoch: 04 val_loss: 0.87\n"
                    ]
                }
            ],
            "source": [
                "# Creating the databases\n",
                "queries = trainer.fit(\n",
                "    {\"users\": users, \"movies\": movies, \"main\": ratings},\n",
                "    overwrite=True,\n",
                ")"
            ]
        },
        {
            "cell_type": "code",
            "execution_count": 10,
            "metadata": {},
            "outputs": [
                {
                    "name": "stderr",
                    "output_type": "stream",
                    "text": [
                        "Recommendation: 100%|██████████| 1/1 [00:00<00:00,  3.18it/s]\n"
                    ]
                },
                {
                    "data": {
                        "text/html": [
                            "<div>\n",
                            "<style scoped>\n",
                            "    .dataframe tbody tr th:only-of-type {\n",
                            "        vertical-align: middle;\n",
                            "    }\n",
                            "\n",
                            "    .dataframe tbody tr th {\n",
                            "        vertical-align: top;\n",
                            "    }\n",
                            "\n",
                            "    .dataframe thead th {\n",
                            "        text-align: right;\n",
                            "    }\n",
                            "</style>\n",
                            "<table border=\"1\" class=\"dataframe\">\n",
                            "  <thead>\n",
                            "    <tr style=\"text-align: right;\">\n",
                            "      <th></th>\n",
                            "      <th>query_id</th>\n",
                            "      <th>id</th>\n",
                            "      <th>distance</th>\n",
                            "      <th>movieId</th>\n",
                            "      <th>title</th>\n",
                            "      <th>genres</th>\n",
                            "    </tr>\n",
                            "  </thead>\n",
                            "  <tbody>\n",
                            "    <tr>\n",
                            "      <th>0</th>\n",
                            "      <td>1</td>\n",
                            "      <td>5349</td>\n",
                            "      <td>1.246595</td>\n",
                            "      <td>5349</td>\n",
                            "      <td>Spider-Man (2002)</td>\n",
                            "      <td>Action|Adventure|Sci-Fi|Thriller</td>\n",
                            "    </tr>\n",
                            "    <tr>\n",
                            "      <th>1</th>\n",
                            "      <td>1</td>\n",
                            "      <td>480</td>\n",
                            "      <td>1.255526</td>\n",
                            "      <td>480</td>\n",
                            "      <td>Jurassic Park (1993)</td>\n",
                            "      <td>Action|Adventure|Sci-Fi|Thriller</td>\n",
                            "    </tr>\n",
                            "    <tr>\n",
                            "      <th>2</th>\n",
                            "      <td>1</td>\n",
                            "      <td>6333</td>\n",
                            "      <td>1.258553</td>\n",
                            "      <td>6333</td>\n",
                            "      <td>X2: X-Men United (2003)</td>\n",
                            "      <td>Action|Adventure|Sci-Fi|Thriller</td>\n",
                            "    </tr>\n",
                            "    <tr>\n",
                            "      <th>3</th>\n",
                            "      <td>1</td>\n",
                            "      <td>3703</td>\n",
                            "      <td>1.266036</td>\n",
                            "      <td>3703</td>\n",
                            "      <td>Road Warrior, The (Mad Max 2) (1981)</td>\n",
                            "      <td>Action|Adventure|Sci-Fi|Thriller</td>\n",
                            "    </tr>\n",
                            "    <tr>\n",
                            "      <th>4</th>\n",
                            "      <td>1</td>\n",
                            "      <td>849</td>\n",
                            "      <td>1.266751</td>\n",
                            "      <td>849</td>\n",
                            "      <td>Escape from L.A. (1996)</td>\n",
                            "      <td>Action|Adventure|Sci-Fi|Thriller</td>\n",
                            "    </tr>\n",
                            "  </tbody>\n",
                            "</table>\n",
                            "</div>"
                        ],
                        "text/plain": [
                            "   query_id    id  distance  movieId                                 title  \\\n",
                            "0         1  5349  1.246595     5349                     Spider-Man (2002)   \n",
                            "1         1   480  1.255526      480                  Jurassic Park (1993)   \n",
                            "2         1  6333  1.258553     6333               X2: X-Men United (2003)   \n",
                            "3         1  3703  1.266036     3703  Road Warrior, The (Mad Max 2) (1981)   \n",
                            "4         1   849  1.266751      849               Escape from L.A. (1996)   \n",
                            "\n",
                            "                             genres  \n",
                            "0  Action|Adventure|Sci-Fi|Thriller  \n",
                            "1  Action|Adventure|Sci-Fi|Thriller  \n",
                            "2  Action|Adventure|Sci-Fi|Thriller  \n",
                            "3  Action|Adventure|Sci-Fi|Thriller  \n",
                            "4  Action|Adventure|Sci-Fi|Thriller  "
                        ]
                    },
                    "execution_count": 10,
                    "metadata": {},
                    "output_type": "execute_result"
                }
            ],
            "source": [
                "# Consuming the recommendation database\n",
                "# since we're consuming the movies collection, the return will be of movies id \n",
                "# We input user information to get recommended movies\n",
                "user_ids = [1]\n",
                "r = queries[\"movies\"].recommendation(user_ids, orient='flat')\n",
                "\n",
                "# merging to original data\n",
                "dfr = pd.DataFrame(r)\n",
                "dfr = dfr.merge(raw_movies, \n",
                "                how=\"left\",\n",
                "                left_on=\"id\",\n",
                "                right_on=\"movieId\")\n",
                "dfr"
            ]
        },
        {
            "cell_type": "code",
            "execution_count": 11,
            "metadata": {},
            "outputs": [
                {
                    "name": "stderr",
                    "output_type": "stream",
                    "text": [
                        "Recommendation: 100%|██████████| 1/1 [00:00<00:00,  5.10it/s]\n"
                    ]
                }
            ],
            "source": [
                "# also possible to make the recommendation the other way around\n",
                "# We input movies information to get recommended users\n",
                "movie_ids = [508]\n",
                "r = queries[\"users\"].recommendation(movie_ids, orient='flat')"
            ]
        },
        {
            "cell_type": "code",
            "execution_count": 12,
            "metadata": {},
            "outputs": [
                {
                    "name": "stderr",
                    "output_type": "stream",
                    "text": [
                        "Similar: 100%|██████████| 1/1 [00:00<00:00,  7.13it/s]\n"
                    ]
                },
                {
                    "data": {
                        "text/html": [
                            "<div>\n",
                            "<style scoped>\n",
                            "    .dataframe tbody tr th:only-of-type {\n",
                            "        vertical-align: middle;\n",
                            "    }\n",
                            "\n",
                            "    .dataframe tbody tr th {\n",
                            "        vertical-align: top;\n",
                            "    }\n",
                            "\n",
                            "    .dataframe thead th {\n",
                            "        text-align: right;\n",
                            "    }\n",
                            "</style>\n",
                            "<table border=\"1\" class=\"dataframe\">\n",
                            "  <thead>\n",
                            "    <tr style=\"text-align: right;\">\n",
                            "      <th></th>\n",
                            "      <th>query_id</th>\n",
                            "      <th>id</th>\n",
                            "      <th>distance</th>\n",
                            "    </tr>\n",
                            "  </thead>\n",
                            "  <tbody>\n",
                            "    <tr>\n",
                            "      <th>0</th>\n",
                            "      <td>1</td>\n",
                            "      <td>1</td>\n",
                            "      <td>0.000000</td>\n",
                            "    </tr>\n",
                            "    <tr>\n",
                            "      <th>1</th>\n",
                            "      <td>1</td>\n",
                            "      <td>44</td>\n",
                            "      <td>0.768691</td>\n",
                            "    </tr>\n",
                            "    <tr>\n",
                            "      <th>2</th>\n",
                            "      <td>1</td>\n",
                            "      <td>27</td>\n",
                            "      <td>0.831203</td>\n",
                            "    </tr>\n",
                            "    <tr>\n",
                            "      <th>3</th>\n",
                            "      <td>1</td>\n",
                            "      <td>21</td>\n",
                            "      <td>0.856622</td>\n",
                            "    </tr>\n",
                            "    <tr>\n",
                            "      <th>4</th>\n",
                            "      <td>1</td>\n",
                            "      <td>25</td>\n",
                            "      <td>0.931707</td>\n",
                            "    </tr>\n",
                            "  </tbody>\n",
                            "</table>\n",
                            "</div>"
                        ],
                        "text/plain": [
                            "   query_id  id  distance\n",
                            "0         1   1  0.000000\n",
                            "1         1  44  0.768691\n",
                            "2         1  27  0.831203\n",
                            "3         1  21  0.856622\n",
                            "4         1  25  0.931707"
                        ]
                    },
                    "execution_count": 12,
                    "metadata": {},
                    "output_type": "execute_result"
                }
            ],
            "source": [
                "# Using the similarity on the database\n",
                "# since we're consuming the users collection, the return will be of users id \n",
                "s = queries[\"users\"].similar(user_ids, orient='flat')\n",
                "pd.DataFrame(s)"
            ]
        }
    ],
    "metadata": {
        "kernelspec": {
            "display_name": "Python 3.8.13 ('sdk-kazu')",
            "language": "python",
            "name": "python3"
        },
        "language_info": {
            "codemirror_mode": {
                "name": "ipython",
                "version": 3
            },
            "file_extension": ".py",
            "mimetype": "text/x-python",
            "name": "python",
            "nbconvert_exporter": "python",
            "pygments_lexer": "ipython3",
            "version": "3.8.13"
        },
        "orig_nbformat": 4,
        "vscode": {
            "interpreter": {
                "hash": "8b7e0f45007ecc24d86bc65b57cd5e04fd0ff71bbcc2f3378eebbb56cfcfc92d"
            }
        }
    },
    "nbformat": 4,
    "nbformat_minor": 2
}
