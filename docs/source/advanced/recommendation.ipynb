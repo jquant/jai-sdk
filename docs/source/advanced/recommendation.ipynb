{
 "cells": [
  {
   "cell_type": "markdown",
   "metadata": {},
   "source": [
    "# Recommendation Systems"
   ]
  },
  {
   "cell_type": "code",
   "execution_count": 3,
   "metadata": {},
   "outputs": [],
   "source": [
    "import pandas as pd\n",
    "\n",
    "# Let's take a sample here\n",
    "SAMPLE_SIZE = 2000\n",
    "\n",
    "# Import Movielens 100k Database\n",
    "# https://grouplens.org/datasets/movielens/\n",
    "# Don't forget to change the file path\n",
    "raw_movies = pd.read_csv(\"data/ml-25m/movies.csv\", )\n",
    "# If you wish to use the full dataset, just remove the nrows argument\n",
    "raw_ratings = pd.read_csv(\"data/ml-25m/ratings.csv\", nrows=SAMPLE_SIZE)"
   ]
  },
  {
   "cell_type": "code",
   "execution_count": null,
   "metadata": {},
   "outputs": [],
   "source": [
    "\n",
    "from jai import Trainer\n",
    "from jai.utilities import split\n",
    "\n",
    "\n",
    "# Fix Movies Data\n",
    "bases, movies = split(raw_movies, {\"genres\": \"|\", \"title\": None})\n",
    "movies.index = movies[\"movieId\"]\n",
    "\n",
    "ratings = raw_ratings.drop(\"timestamp\", axis=1)\n",
    "users = pd.DataFrame(\n",
    "    {\"userId\": ratings[\"userId\"].unique().astype(str)}, index=ratings[\"userId\"].unique()\n",
    ")\n"
   ]
  },
  {
   "cell_type": "code",
   "execution_count": null,
   "metadata": {},
   "outputs": [],
   "source": [
    "\n",
    "### Send Movie Titles, Genre and Tag Data to JAI\n",
    "trainer = Trainer(name=\"movie_titles\")\n",
    "trainer.set_parameters(db_type=\"Text\")\n",
    "q_title = trainer.fit(bases[\"title\"], overwrite=True)\n"
   ]
  },
  {
   "cell_type": "code",
   "execution_count": null,
   "metadata": {},
   "outputs": [],
   "source": [
    "\n",
    "\n",
    "# movies genre\n",
    "trainer = Trainer(name=\"genre\")\n",
    "trainer.set_parameters(db_type=\"Text\")\n",
    "q_genre = trainer.fit(bases[\"genres\"], overwrite=True)\n"
   ]
  },
  {
   "cell_type": "code",
   "execution_count": null,
   "metadata": {},
   "outputs": [],
   "source": [
    "\n",
    "#%%\n",
    "trainer = Trainer(name=\"ratings\")\n",
    "trainer.set_parameters(\n",
    "    db_type=\"RecommendationSystem\",\n",
    "    hyperparams={\"batch_size\": 0, \"model\": {\"hidden_latent_dim\": 512}},\n",
    "    features={\"userId\": {\"name\": \"userId\", \"dtype\": \"category\"}},\n",
    "    pretrained_bases=[\n",
    "        {\"id_name\": \"movieId\", \"db_parent\": \"movies\"},\n",
    "        {\"id_name\": \"userId\", \"db_parent\": \"users\"},\n",
    "        {\"id_name\": \"id_title\", \"db_parent\": \"movie_titles\"},\n",
    "        {\"id_name\": \"id_genres\", \"db_parent\": \"genre\"},\n",
    "    ],\n",
    "    label={\"label_name\": \"rating\"},\n",
    ")\n"
   ]
  },
  {
   "cell_type": "code",
   "execution_count": null,
   "metadata": {},
   "outputs": [],
   "source": [
    "trainer.setup_parameters"
   ]
  },
  {
   "cell_type": "code",
   "execution_count": null,
   "metadata": {},
   "outputs": [],
   "source": [
    "\n",
    "queries = trainer.fit(\n",
    "    {\"users\": users, \"movies\": movies, \"main\": ratings},\n",
    "    overwrite=True,\n",
    ")\n"
   ]
  },
  {
   "cell_type": "code",
   "execution_count": null,
   "metadata": {},
   "outputs": [],
   "source": [
    "# r = j.recommendation(\"movies\", [uid], top_k=100)\n"
   ]
  },
  {
   "cell_type": "code",
   "execution_count": null,
   "metadata": {},
   "outputs": [],
   "source": [
    "\n",
    "# dfr = pd.DataFrame(r[0]['results'])\n",
    "# dfr = dfr.merge(raw_movies, how=\"left\",\n",
    "#                   left_on=\"id\",\n",
    "#                   right_on=\"movieId\")\n",
    "# dfr\n",
    "\n",
    "# s = j.similar(\"users\", [uid], top_k=100)\n",
    "# dfs = pd.DataFrame(s[0]['results'])\n",
    "\n",
    "# %%\n"
   ]
  }
 ],
 "metadata": {
  "kernelspec": {
   "display_name": "Python 3.8.13 ('sdk-kazu')",
   "language": "python",
   "name": "python3"
  },
  "language_info": {
   "codemirror_mode": {
    "name": "ipython",
    "version": 3
   },
   "file_extension": ".py",
   "mimetype": "text/x-python",
   "name": "python",
   "nbconvert_exporter": "python",
   "pygments_lexer": "ipython3",
   "version": "3.8.13"
  },
  "orig_nbformat": 4,
  "vscode": {
   "interpreter": {
    "hash": "8b7e0f45007ecc24d86bc65b57cd5e04fd0ff71bbcc2f3378eebbb56cfcfc92d"
   }
  }
 },
 "nbformat": 4,
 "nbformat_minor": 2
}
