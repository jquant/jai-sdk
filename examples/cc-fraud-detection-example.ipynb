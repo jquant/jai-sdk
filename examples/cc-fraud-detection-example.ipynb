{
 "cells": [
  {
   "cell_type": "markdown",
   "id": "4f67ee61",
   "metadata": {},
   "source": [
    "# Objective\n",
    "Create a machine learning model using JAI to solve a classification problem with unbalanced classes. In this first attempt we will use the [Kaggle Credit Card Fraud Detection](https://www.kaggle.com/mlg-ulb/creditcardfraud) dataset. Basically what you will find in the dataset are 30 columns, most of them with encripted information about different customers and which of these customers might default or not. Have fun! And if you have any doubts, check our documentation or ask us on our slack =]."
   ]
  },
  {
   "cell_type": "markdown",
   "id": "50c2d672",
   "metadata": {},
   "source": [
    "# Imports "
   ]
  },
  {
   "cell_type": "code",
   "execution_count": null,
   "id": "a33ae2ac",
   "metadata": {
    "ExecuteTime": {
     "end_time": "2021-12-12T21:56:45.139796Z",
     "start_time": "2021-12-12T21:56:45.135239Z"
    }
   },
   "outputs": [],
   "source": [
    "import pandas as pd\n",
    "from jai import Jai\n",
    "from sklearn import metrics\n",
    "from tabulate import tabulate\n",
    "from sklearn.metrics import roc_auc_score\n",
    "from sklearn.model_selection import train_test_split"
   ]
  },
  {
   "cell_type": "markdown",
   "id": "d4569ac7",
   "metadata": {},
   "source": [
    "# Generating your JAI account (if you don't have it already)"
   ]
  },
  {
   "cell_type": "code",
   "execution_count": null,
   "id": "cb2ac56c",
   "metadata": {
    "ExecuteTime": {
     "end_time": "2021-12-12T21:56:45.350039Z",
     "start_time": "2021-12-12T21:56:45.345675Z"
    }
   },
   "outputs": [],
   "source": [
    "# ATTENTION: If you haven't generate your key yet, just run the command below\n",
    "#Jai.get_auth_key(email='email@mail.com', firstName='Jai', lastName='Z')"
   ]
  },
  {
   "cell_type": "markdown",
   "id": "3a00c620",
   "metadata": {},
   "source": [
    "# Instantiating JAI"
   ]
  },
  {
   "cell_type": "code",
   "execution_count": null,
   "id": "f2285b5a",
   "metadata": {
    "ExecuteTime": {
     "end_time": "2021-12-12T21:56:46.880092Z",
     "start_time": "2021-12-12T21:56:46.876351Z"
    }
   },
   "outputs": [],
   "source": [
    "# Insert here your Authentication Key, that you have received in your email\n",
    "AUTH_KEY= \"insert_your_auth_key_here\"\n",
    "j = Jai(AUTH_KEY)"
   ]
  },
  {
   "cell_type": "markdown",
   "id": "80e7a253",
   "metadata": {},
   "source": [
    "# Loading the dataset and checking basic information"
   ]
  },
  {
   "cell_type": "code",
   "execution_count": null,
   "id": "537a0eb4",
   "metadata": {
    "ExecuteTime": {
     "end_time": "2021-12-12T21:56:51.468463Z",
     "start_time": "2021-12-12T21:56:50.071711Z"
    }
   },
   "outputs": [],
   "source": [
    "df = pd.read_csv('https://myceliademo.blob.core.windows.net/example-classification-cc-default/creditcard.csv', index_col=0)\n"
   ]
  },
  {
   "cell_type": "code",
   "execution_count": null,
   "id": "c8a2391c",
   "metadata": {
    "ExecuteTime": {
     "end_time": "2021-12-10T17:56:21.783267Z",
     "start_time": "2021-12-10T17:56:21.693409Z"
    }
   },
   "outputs": [],
   "source": [
    "df.head()"
   ]
  },
  {
   "cell_type": "code",
   "execution_count": null,
   "id": "5f7d6c5a",
   "metadata": {
    "ExecuteTime": {
     "end_time": "2021-12-10T17:56:22.714577Z",
     "start_time": "2021-12-10T17:56:22.708697Z"
    }
   },
   "outputs": [],
   "source": [
    "df.shape"
   ]
  },
  {
   "cell_type": "code",
   "execution_count": null,
   "id": "ff8c0b70",
   "metadata": {
    "ExecuteTime": {
     "end_time": "2021-12-10T17:56:24.203257Z",
     "start_time": "2021-12-10T17:56:23.547969Z"
    }
   },
   "outputs": [],
   "source": [
    "df.describe()"
   ]
  },
  {
   "cell_type": "code",
   "execution_count": null,
   "id": "3d2b1856",
   "metadata": {
    "ExecuteTime": {
     "end_time": "2021-12-10T17:56:24.544263Z",
     "start_time": "2021-12-10T17:56:24.488956Z"
    }
   },
   "outputs": [],
   "source": [
    "df.info()"
   ]
  },
  {
   "cell_type": "code",
   "execution_count": null,
   "id": "64d9a41f",
   "metadata": {
    "ExecuteTime": {
     "end_time": "2021-12-10T17:56:25.044885Z",
     "start_time": "2021-12-10T17:56:25.032939Z"
    }
   },
   "outputs": [],
   "source": [
    "df[\"Class\"].value_counts()"
   ]
  },
  {
   "cell_type": "markdown",
   "id": "380dd055",
   "metadata": {},
   "source": [
    "**Perceptions**: Was we can see, we are dealing only with numerical data in this dataset. Another very important characteristic to see is how skewed the classes are, where less than 1% of our dataset is defaulting. This will impact how we will train our model."
   ]
  },
  {
   "cell_type": "markdown",
   "id": "6c419b96",
   "metadata": {},
   "source": [
    "# Classification model "
   ]
  },
  {
   "cell_type": "code",
   "execution_count": null,
   "id": "758a36d2",
   "metadata": {
    "ExecuteTime": {
     "end_time": "2021-12-12T21:56:54.635087Z",
     "start_time": "2021-12-12T21:56:54.520212Z"
    }
   },
   "outputs": [],
   "source": [
    "# Just splitting the dataset here to show how we would use the j.predict methord further on\n",
    "# When using j.fit in you real application, this is not necessary\n",
    "X_train, X_test, y_train, y_test = train_test_split(\n",
    "            df.drop([\"Class\"],axis=1), df[\"Class\"], test_size=0.3, random_state=42)"
   ]
  },
  {
   "cell_type": "code",
   "execution_count": null,
   "id": "2823686e",
   "metadata": {
    "ExecuteTime": {
     "end_time": "2021-12-12T21:56:54.962888Z",
     "start_time": "2021-12-12T21:56:54.938819Z"
    }
   },
   "outputs": [],
   "source": [
    "# For classification models, we need to pass a dataframe contianing the label to JAI\n",
    "train = pd.concat([X_train,y_train],axis=1)"
   ]
  },
  {
   "cell_type": "code",
   "execution_count": null,
   "id": "39e816db",
   "metadata": {
    "ExecuteTime": {
     "end_time": "2021-12-12T21:56:55.393734Z",
     "start_time": "2021-12-12T21:56:55.384612Z"
    }
   },
   "outputs": [],
   "source": [
    "# Checking the distribution of the class after the split\n",
    "train[\"Class\"].value_counts()"
   ]
  },
  {
   "cell_type": "markdown",
   "id": "e72c39ed",
   "metadata": {},
   "source": [
    "Now we are gonna train, test and validate our model with **j.fit**. This will create a **collection** inside JAI which will contain one **vector for each line** of our train dataset. These vectores are a numerical representation of each row that compress the whole information and extracts the most important characteristics of these data, where the vectors of the examples (rows) that are similar will be close to each other on its vectorial space =]."
   ]
  },
  {
   "cell_type": "code",
   "execution_count": null,
   "id": "b1ee5013",
   "metadata": {
    "ExecuteTime": {
     "end_time": "2021-12-10T18:02:40.759322Z",
     "start_time": "2021-12-10T17:57:58.769652Z"
    },
    "scrolled": true
   },
   "outputs": [],
   "source": [
    "j.fit(\n",
    "    # Here you will name your collection inside JAI\n",
    "    name=\"cc_fraud_supervised\", \n",
    "    \n",
    "    # data should always receive a dataframe, even if it is of one column. \n",
    "    data=train, \n",
    "    \n",
    "    # Here you will define the type of model you want to. The other options you have are  \n",
    "    db_type='Supervised', \n",
    "    \n",
    "    # You can set these parameter to True if you want to overweite an already created collection\n",
    "    overwrite = False,\n",
    "    \n",
    "    # verbose =2 will bring the loss graph as well as the metrics result.\n",
    "    verbose=2,\n",
    "    \n",
    "    # The split type as stratified guarantee that the same proportion of both classes are maintained for train, validation and test\n",
    "    split = {'type':'stratified', \"split_column\": \"Class\"},\n",
    "    \n",
    "    # When we set task as *metric_classification* we use Supervised Contrastive Loss, which tries to make examples \n",
    "    #of the same class closer and make those of different classes apart \n",
    "    label={\"task\": \"metric_classification\", \"label_name\": \"Class\"}\n",
    ")"
   ]
  },
  {
   "cell_type": "markdown",
   "id": "afa76e34",
   "metadata": {},
   "source": [
    "# Checking your collection information"
   ]
  },
  {
   "cell_type": "code",
   "execution_count": null,
   "id": "24260ac1",
   "metadata": {
    "ExecuteTime": {
     "end_time": "2021-12-10T18:04:13.045689Z",
     "start_time": "2021-12-10T18:04:11.671170Z"
    }
   },
   "outputs": [],
   "source": [
    "# List all collections in your subscription and some info about them\n",
    "j.info"
   ]
  },
  {
   "cell_type": "code",
   "execution_count": null,
   "id": "1c568890",
   "metadata": {
    "ExecuteTime": {
     "end_time": "2021-12-03T18:57:41.107540Z",
     "start_time": "2021-12-03T18:49:12.264506Z"
    }
   },
   "outputs": [],
   "source": [
    "# Download the generated vectors. If you have too many vectors, this can take a while\n",
    "#vectors = j.download_vectors('cc_fraud_supervised')"
   ]
  },
  {
   "cell_type": "code",
   "execution_count": null,
   "id": "fe3a3a82",
   "metadata": {
    "ExecuteTime": {
     "end_time": "2021-12-03T18:58:29.857749Z",
     "start_time": "2021-12-03T18:58:29.852142Z"
    }
   },
   "outputs": [],
   "source": [
    "len(vectors)"
   ]
  },
  {
   "cell_type": "code",
   "execution_count": null,
   "id": "a8e09341",
   "metadata": {},
   "outputs": [],
   "source": [
    "vectors[0]"
   ]
  },
  {
   "cell_type": "code",
   "execution_count": null,
   "id": "d9bb2e59",
   "metadata": {
    "ExecuteTime": {
     "end_time": "2021-12-03T19:05:51.306531Z",
     "start_time": "2021-12-03T19:05:51.300697Z"
    }
   },
   "outputs": [],
   "source": [
    "# The default size of each vector for the Supervised is 64\n",
    "len(vectors[0])"
   ]
  },
  {
   "cell_type": "markdown",
   "id": "a270284a",
   "metadata": {},
   "source": [
    "**Hurray \\0/!!!** Now your model is already deployed to be consumed by your applications. We will show below two way to apply your model to new data =]."
   ]
  },
  {
   "cell_type": "markdown",
   "id": "1a75e652",
   "metadata": {},
   "source": [
    "# Make predictions and analysing the results"
   ]
  },
  {
   "cell_type": "markdown",
   "id": "92f0ac37",
   "metadata": {},
   "source": [
    "## Predictions without predict_proba"
   ]
  },
  {
   "cell_type": "code",
   "execution_count": null,
   "id": "a34eeb45",
   "metadata": {
    "ExecuteTime": {
     "end_time": "2021-12-12T21:58:45.539551Z",
     "start_time": "2021-12-12T21:57:34.391199Z"
    }
   },
   "outputs": [],
   "source": [
    "# Now we will make the predictions\n",
    "#In this case, it will use 0.5 as threshold to return the predicted class\n",
    "ans = j.predict(\n",
    "    \n",
    "    # Collection to be queried\n",
    "    name='cc_fraud_supervised',\n",
    "    \n",
    "    # This will make your ansewer return as a dataframe\n",
    "    as_frame=True,\n",
    "    \n",
    "    # Here you will pass a dataframe to predict which examples are default or not\n",
    "    data=X_test\n",
    ")\n"
   ]
  },
  {
   "cell_type": "code",
   "execution_count": null,
   "id": "f7cc6683",
   "metadata": {
    "ExecuteTime": {
     "end_time": "2021-12-12T21:59:03.360440Z",
     "start_time": "2021-12-12T21:59:03.342081Z"
    },
    "scrolled": true
   },
   "outputs": [],
   "source": [
    "# ATTENTION: JAI ALWAYS RETURNS THE ANSWERS ORDERED BY ID! Bringin y_test like this will avoid mismathings.\n",
    "ans[\"y_true\"] = y_test"
   ]
  },
  {
   "cell_type": "code",
   "execution_count": null,
   "id": "7b1507b4",
   "metadata": {
    "ExecuteTime": {
     "end_time": "2021-12-12T21:59:04.002915Z",
     "start_time": "2021-12-12T21:59:03.992235Z"
    }
   },
   "outputs": [],
   "source": [
    "print(tabulate(ans.head(), headers='keys', tablefmt='rst'))"
   ]
  },
  {
   "cell_type": "code",
   "execution_count": null,
   "id": "8597dd09",
   "metadata": {
    "ExecuteTime": {
     "end_time": "2021-12-12T21:59:20.952965Z",
     "start_time": "2021-12-12T21:59:20.832949Z"
    }
   },
   "outputs": [],
   "source": [
    "print(metrics.classification_report( ans[\"y_true\"],ans[\"predict\"],target_names=['0','1']))"
   ]
  },
  {
   "cell_type": "markdown",
   "id": "8a60bb75",
   "metadata": {},
   "source": [
    "## Predictions using predict_proba"
   ]
  },
  {
   "cell_type": "code",
   "execution_count": null,
   "id": "040fa18c",
   "metadata": {
    "ExecuteTime": {
     "end_time": "2021-12-12T22:00:38.006725Z",
     "start_time": "2021-12-12T21:59:30.394403Z"
    }
   },
   "outputs": [],
   "source": [
    "ans = j.predict(\n",
    "    \n",
    "    # Collection to be queried\n",
    "    name='cc_fraud_supervised',\n",
    "    \n",
    "    # This will bring the probabilities predicted\n",
    "    predict_proba = True,\n",
    "    \n",
    "    # This will make your ansewer return as a dataframe\n",
    "    as_frame=True,\n",
    "    \n",
    "    # Here you will pass a dataframe to predict which examples are default or not\n",
    "    data=X_test\n",
    ")\n",
    "\n",
    "\n",
    "\n",
    "    >>> ans = j.predict(\n",
    "    >>>     \n",
    "    >>>     # Collection to be queried\n",
    "    >>>     name='cc_fraud_supervised',\n",
    "    >>>     \n",
    "    >>>     # This will bring the probabilities predicted\n",
    "    >>>     predict_proba = True,\n",
    "    >>>     \n",
    "    >>>     # This will make your ansewer return as a dataframe\n",
    "    >>>     as_frame=True,\n",
    "    >>>     \n",
    "    >>>     # Here you will pass a dataframe to predict which examples are default or not\n",
    "    >>>     data=X_test\n",
    "    >>> )"
   ]
  },
  {
   "cell_type": "code",
   "execution_count": null,
   "id": "570dba4c",
   "metadata": {
    "ExecuteTime": {
     "end_time": "2021-12-12T22:01:24.216506Z",
     "start_time": "2021-12-12T22:01:24.210604Z"
    }
   },
   "outputs": [],
   "source": [
    "# ATTENTION: JAI ALWAYS RETURNS THE ANSWERS ORDERED BY ID! Bringin y_test like this will avoid mismathings.\n",
    "ans[\"y_true\"] = y_test"
   ]
  },
  {
   "cell_type": "code",
   "execution_count": null,
   "id": "0766bc54",
   "metadata": {
    "ExecuteTime": {
     "end_time": "2021-12-12T22:01:24.821243Z",
     "start_time": "2021-12-12T22:01:24.812728Z"
    }
   },
   "outputs": [],
   "source": [
    "print(tabulate(ans.head(), headers='keys', tablefmt='rst'))"
   ]
  },
  {
   "cell_type": "code",
   "execution_count": null,
   "id": "46bff18e",
   "metadata": {
    "ExecuteTime": {
     "end_time": "2021-12-12T22:01:25.583028Z",
     "start_time": "2021-12-12T22:01:25.526396Z"
    }
   },
   "outputs": [],
   "source": [
    "# Calculating AUC Score using the predictions of examples being 1\n",
    "roc_auc_score(ans[\"y_true\"], ans[\"1\"])"
   ]
  },
  {
   "cell_type": "markdown",
   "id": "48334c4f",
   "metadata": {},
   "source": [
    "# Making your predictions using the API Rest"
   ]
  },
  {
   "cell_type": "code",
   "execution_count": null,
   "id": "28eb067f",
   "metadata": {
    "ExecuteTime": {
     "end_time": "2021-11-22T19:10:53.253742Z",
     "start_time": "2021-11-22T19:10:50.216793Z"
    }
   },
   "outputs": [],
   "source": [
    "# Import requests libraries\n",
    "import requests\n",
    "\n",
    "# Set Authentication header\n",
    "header={'Auth': AUTH_KEY}\n",
    "\n",
    "# Set collection name\n",
    "db_name = 'cc_fraud_supervised'\n",
    "\n",
    "# Model inference endpoint\n",
    "url_predict = f\"https://mycelia.azure-api.net/predict/{db_name}\"\n",
    "\n",
    "# json body\n",
    "# Note that we need to provide a column named 'id'\n",
    "# Also note that we drop the 'PRICE' column because it is not a feature\n",
    "body = X_test.reset_index().rename(columns={'index':'id'}).head().to_dict(orient='records')\n",
    "\n",
    "# Make the request\n",
    "ans = requests.put(url_predict, json=body, headers=header)\n",
    "ans.json()"
   ]
  }
 ],
 "metadata": {
  "kernelspec": {
   "display_name": "Python (jai)",
   "language": "python",
   "name": "jai"
  },
  "language_info": {
   "codemirror_mode": {
    "name": "ipython",
    "version": 3
   },
   "file_extension": ".py",
   "mimetype": "text/x-python",
   "name": "python",
   "nbconvert_exporter": "python",
   "pygments_lexer": "ipython3",
   "version": "3.8.12"
  },
  "toc": {
   "base_numbering": 1,
   "nav_menu": {},
   "number_sections": true,
   "sideBar": true,
   "skip_h1_title": false,
   "title_cell": "Table of Contents",
   "title_sidebar": "Contents",
   "toc_cell": false,
   "toc_position": {},
   "toc_section_display": true,
   "toc_window_display": false
  }
 },
 "nbformat": 4,
 "nbformat_minor": 5
}
