{
 "cells": [
  {
   "cell_type": "markdown",
   "metadata": {},
   "source": [
    "<img src=\"https://jaipresentation.blob.core.windows.net/comm/jai_avatar.png\" width=\"100\" align=\"right\"/>\n",
    "\n",
    "# JAI - Trust your data\n",
    "\n",
    "## Fill: leverage JAI to smart-fill your missing data\n",
    "This is an example of how to use the fill missing values capabilities of JAI.\n",
    "\n",
    "In this notebook we will use a subset of the [PC Games 2020](https://www.kaggle.com/jesneuman/pc-games) dataset to mask some values about whether or not a game is Indie and fill them again using JAI.\n",
    "\n",
    "You can install JAI in your environment using `pip install jai-sdk`.\n",
    "\n",
    "And you can read the docs [here](https://jai-sdk.readthedocs.io/en/stable/)!\n",
    "\n",
    "If you have any comments or suggestions, feel free to contact us: support@getjai.com\n",
    "\n",
    "*Drop by drop is the water pot filled. Likewise, the wise man, gathering it little by little, fills himself with good.* - Buddha"
   ]
  },
  {
   "cell_type": "code",
   "execution_count": 26,
   "metadata": {},
   "outputs": [],
   "source": [
    "# JAI imports\n",
    "from jai import Jai\n",
    "from jai.utilities import predict2df\n",
    "\n",
    "# I/O and data manipulation imports\n",
    "import pandas as pd\n",
    "import numpy as np"
   ]
  },
  {
   "cell_type": "markdown",
   "metadata": {},
   "source": [
    "## Reading data"
   ]
  },
  {
   "cell_type": "code",
   "execution_count": 27,
   "metadata": {},
   "outputs": [],
   "source": [
    "# it might take a few seconds to download this dataset (10MB) to your computer\n",
    "DATASET_URL = \"https://jaipresentation.blob.core.windows.net/data/games_jai.parquet\"\n",
    "df_games = pd.read_parquet(DATASET_URL).astype({\"Indie\": \"object\"})"
   ]
  },
  {
   "cell_type": "markdown",
   "metadata": {},
   "source": [
    "### Let's check how many NaN are there in each column"
   ]
  },
  {
   "cell_type": "code",
   "execution_count": 28,
   "metadata": {},
   "outputs": [
    {
     "data": {
      "text/plain": [
       "id             0\n",
       "Name           0\n",
       "Genres         0\n",
       "Indie          0\n",
       "Platform       0\n",
       "Players        0\n",
       "Description    0\n",
       "dtype: int64"
      ]
     },
     "execution_count": 28,
     "metadata": {},
     "output_type": "execute_result"
    }
   ],
   "source": [
    "df_games.isna().sum()"
   ]
  },
  {
   "cell_type": "markdown",
   "metadata": {},
   "source": [
    "### And let's also check how many unique values are in each column"
   ]
  },
  {
   "cell_type": "code",
   "execution_count": 29,
   "metadata": {},
   "outputs": [
    {
     "data": {
      "text/plain": [
       "id             11570\n",
       "Name           10927\n",
       "Genres           739\n",
       "Indie              2\n",
       "Platform        1503\n",
       "Players           29\n",
       "Description    10921\n",
       "dtype: int64"
      ]
     },
     "execution_count": 29,
     "metadata": {},
     "output_type": "execute_result"
    }
   ],
   "source": [
    "df_games.nunique()"
   ]
  },
  {
   "cell_type": "markdown",
   "metadata": {},
   "source": [
    "### And the number of rows as well"
   ]
  },
  {
   "cell_type": "code",
   "execution_count": 30,
   "metadata": {},
   "outputs": [
    {
     "data": {
      "text/plain": [
       "11570"
      ]
     },
     "execution_count": 30,
     "metadata": {},
     "output_type": "execute_result"
    }
   ],
   "source": [
    "df_games.shape[0]"
   ]
  },
  {
   "cell_type": "markdown",
   "metadata": {},
   "source": [
    "Columns like 'Genres' and 'Players' have too many unique values compared to the total number of rows. So we will use the 'Indie' column instead. \n",
    "\n",
    "In the following cells, we are going to randomly select 15% of rows and set their 'Indie' value to NaN. \n",
    "\n",
    "After that, we will use JAI's `fill` method to actually fill these values we deliberately masked."
   ]
  },
  {
   "cell_type": "markdown",
   "metadata": {},
   "source": [
    "## Create a random mask using 15% of rows"
   ]
  },
  {
   "cell_type": "code",
   "execution_count": 31,
   "metadata": {},
   "outputs": [],
   "source": [
    "mask = np.unique(np.random.randint(low=0, high=df_games.shape[0], size=int(df_games.shape[0] * 0.15)))"
   ]
  },
  {
   "cell_type": "markdown",
   "metadata": {},
   "source": [
    "## Create a new dataframe where the indexes will be used to set the 'Indie' column to NaN"
   ]
  },
  {
   "cell_type": "code",
   "execution_count": 32,
   "metadata": {},
   "outputs": [],
   "source": [
    "column_to_fill = \"Indie\"\n",
    "df_masked = df_games.copy()\n",
    "df_masked.loc[mask, column_to_fill] = np.nan"
   ]
  },
  {
   "cell_type": "code",
   "execution_count": 33,
   "metadata": {},
   "outputs": [
    {
     "data": {
      "text/plain": [
       "id                0\n",
       "Name              0\n",
       "Genres            0\n",
       "Indie          1609\n",
       "Platform          0\n",
       "Players           0\n",
       "Description       0\n",
       "dtype: int64"
      ]
     },
     "execution_count": 33,
     "metadata": {},
     "output_type": "execute_result"
    }
   ],
   "source": [
    "# make sure we masked some values in the Indie column\n",
    "df_masked.isna().sum()"
   ]
  },
  {
   "cell_type": "markdown",
   "metadata": {},
   "source": [
    "## Now we can use JAI to fill these missing values!"
   ]
  },
  {
   "cell_type": "code",
   "execution_count": 34,
   "metadata": {},
   "outputs": [],
   "source": [
    "j = Jai()"
   ]
  },
  {
   "cell_type": "markdown",
   "metadata": {},
   "source": [
    "### We call `fill` passing a given `name` for the database, the `data` itself and the `column` we want the NaN values to be filled."
   ]
  },
  {
   "cell_type": "markdown",
   "metadata": {},
   "source": [
    "### There is a 'gotcha', though...\n",
    "\n",
    "As a rule of thumb, we should send data that us humans would normally use to actually fill those values. In this sense, columns `Name`, `Genres` and `Indie` should suffice to learn if a NaN value is an Indie game or not. Other columns like `Players` or `Description` do not provide much relevant information and would probably get in the way of JAI's learning."
   ]
  },
  {
   "cell_type": "code",
   "execution_count": 35,
   "metadata": {},
   "outputs": [],
   "source": [
    "# set which columns to use\n",
    "cols_to_use = [\"id\", \"Name\", \"Genres\", \"Indie\"]"
   ]
  },
  {
   "cell_type": "code",
   "execution_count": 36,
   "metadata": {
    "scrolled": false
   },
   "outputs": [
    {
     "name": "stderr",
     "output_type": "stream",
     "text": [
      "Insert Data: 100%|██████████| 1/1 [00:01<00:00,  1.57s/it]\n",
      "JAI is working: 100%|██████████| 12/12 [02:19<00:00, 11.66s/it]\n",
      "Insert Data: 100%|██████████| 1/1 [00:01<00:00,  1.07s/it]\n",
      "JAI is working: 100%|██████████| 5/5 [00:21<00:00,  4.30s/it]\n",
      "Insert Data: 100%|██████████| 1/1 [00:01<00:00,  1.26s/it]\n",
      "JAI is working: 100%|██████████| 12/12 [02:03<00:00, 10.27s/it]\n",
      "Insert Data: 100%|██████████| 1/1 [00:01<00:00,  1.12s/it]\n",
      "JAI is working: 100%|██████████| 5/5 [00:32<00:00,  6.46s/it]\n",
      "Insert Data: 100%|██████████| 1/1 [00:01<00:00,  1.61s/it]\n",
      "Recognized setup args:\n",
      "hyperparams: {'learning_rate': 0.0001}\n",
      "mycelia_bases: [{'id_name': 'id_Name', 'db_parent': 'games_fill_name'}, {'id_name': 'id_Genres', 'db_parent': 'games_fill_genres'}]\n",
      "label: {'task': 'metric_classification', 'label_name': 'Indie'}\n",
      "split: {'type': 'stratified', 'split_column': 'Indie', 'test_size': 0.2}\n",
      "JAI is working: 100%|██████████| 18/18 [01:37<00:00,  5.43s/it]\n",
      "Insert Data: 100%|██████████| 1/1 [00:01<00:00,  1.63s/it]\n",
      "JAI is working: 100%|██████████| 5/5 [00:10<00:00,  2.15s/it]\n",
      "Predict: 100%|██████████| 1/1 [00:03<00:00,  3.01s/it]\n"
     ]
    }
   ],
   "source": [
    "db_name = \"games_fill\"\n",
    "results = j.fill(name=db_name,\n",
    "                 data=df_masked[cols_to_use],\n",
    "                 column=column_to_fill,\n",
    "                 db_type=\"FastText\",\n",
    "                 hyperparams={\"learning_rate\": 0.0001})"
   ]
  },
  {
   "cell_type": "markdown",
   "metadata": {},
   "source": [
    "### Finally, we process the results..."
   ]
  },
  {
   "cell_type": "code",
   "execution_count": 37,
   "metadata": {},
   "outputs": [
    {
     "name": "stderr",
     "output_type": "stream",
     "text": [
      "Predict all ids: 100%|██████████| 1609/1609 [00:00<00:00, 458311.38it/s]\n"
     ]
    },
    {
     "data": {
      "text/html": [
       "<div>\n",
       "<style scoped>\n",
       "    .dataframe tbody tr th:only-of-type {\n",
       "        vertical-align: middle;\n",
       "    }\n",
       "\n",
       "    .dataframe tbody tr th {\n",
       "        vertical-align: top;\n",
       "    }\n",
       "\n",
       "    .dataframe thead th {\n",
       "        text-align: right;\n",
       "    }\n",
       "</style>\n",
       "<table border=\"1\" class=\"dataframe\">\n",
       "  <thead>\n",
       "    <tr style=\"text-align: right;\">\n",
       "      <th></th>\n",
       "      <th>id</th>\n",
       "      <th>predict</th>\n",
       "      <th>probability(%)</th>\n",
       "    </tr>\n",
       "  </thead>\n",
       "  <tbody>\n",
       "    <tr>\n",
       "      <th>0</th>\n",
       "      <td>7</td>\n",
       "      <td>0.0</td>\n",
       "      <td>64.92</td>\n",
       "    </tr>\n",
       "    <tr>\n",
       "      <th>1</th>\n",
       "      <td>25</td>\n",
       "      <td>0.0</td>\n",
       "      <td>70.16</td>\n",
       "    </tr>\n",
       "    <tr>\n",
       "      <th>2</th>\n",
       "      <td>26</td>\n",
       "      <td>0.0</td>\n",
       "      <td>60.96</td>\n",
       "    </tr>\n",
       "    <tr>\n",
       "      <th>3</th>\n",
       "      <td>30</td>\n",
       "      <td>1.0</td>\n",
       "      <td>56.13</td>\n",
       "    </tr>\n",
       "    <tr>\n",
       "      <th>4</th>\n",
       "      <td>35</td>\n",
       "      <td>0.0</td>\n",
       "      <td>61.86</td>\n",
       "    </tr>\n",
       "    <tr>\n",
       "      <th>...</th>\n",
       "      <td>...</td>\n",
       "      <td>...</td>\n",
       "      <td>...</td>\n",
       "    </tr>\n",
       "    <tr>\n",
       "      <th>1604</th>\n",
       "      <td>30095</td>\n",
       "      <td>0.0</td>\n",
       "      <td>52.17</td>\n",
       "    </tr>\n",
       "    <tr>\n",
       "      <th>1605</th>\n",
       "      <td>30107</td>\n",
       "      <td>1.0</td>\n",
       "      <td>70.80</td>\n",
       "    </tr>\n",
       "    <tr>\n",
       "      <th>1606</th>\n",
       "      <td>30166</td>\n",
       "      <td>1.0</td>\n",
       "      <td>69.05</td>\n",
       "    </tr>\n",
       "    <tr>\n",
       "      <th>1607</th>\n",
       "      <td>30195</td>\n",
       "      <td>0.0</td>\n",
       "      <td>53.03</td>\n",
       "    </tr>\n",
       "    <tr>\n",
       "      <th>1608</th>\n",
       "      <td>30209</td>\n",
       "      <td>1.0</td>\n",
       "      <td>75.33</td>\n",
       "    </tr>\n",
       "  </tbody>\n",
       "</table>\n",
       "<p>1609 rows × 3 columns</p>\n",
       "</div>"
      ],
      "text/plain": [
       "         id predict  probability(%)\n",
       "0         7     0.0           64.92\n",
       "1        25     0.0           70.16\n",
       "2        26     0.0           60.96\n",
       "3        30     1.0           56.13\n",
       "4        35     0.0           61.86\n",
       "...     ...     ...             ...\n",
       "1604  30095     0.0           52.17\n",
       "1605  30107     1.0           70.80\n",
       "1606  30166     1.0           69.05\n",
       "1607  30195     0.0           53.03\n",
       "1608  30209     1.0           75.33\n",
       "\n",
       "[1609 rows x 3 columns]"
      ]
     },
     "execution_count": 37,
     "metadata": {},
     "output_type": "execute_result"
    }
   ],
   "source": [
    "processed = predict2df(results)\n",
    "df_result = pd.DataFrame(processed).sort_values('id')\n",
    "df_result"
   ]
  },
  {
   "cell_type": "markdown",
   "metadata": {},
   "source": [
    "### ... and check the accuracy of the fill"
   ]
  },
  {
   "cell_type": "code",
   "execution_count": 38,
   "metadata": {},
   "outputs": [
    {
     "data": {
      "text/plain": [
       "0.8433809819763829"
      ]
     },
     "execution_count": 38,
     "metadata": {},
     "output_type": "execute_result"
    }
   ],
   "source": [
    "predicted = df_result[\"predict\"]\n",
    "ground_truth = df_games.loc[mask].drop_duplicates().sort_index()[column_to_fill]\n",
    "np.equal(predicted.to_numpy(), ground_truth.astype(str).to_numpy()).sum() / predicted.shape[0]"
   ]
  },
  {
   "cell_type": "markdown",
   "metadata": {},
   "source": [
    "The `fill` method correctly predicted the values on over 80% of the samples! Let's plug these results back into our original dataframe"
   ]
  },
  {
   "cell_type": "code",
   "execution_count": 39,
   "metadata": {},
   "outputs": [],
   "source": [
    "df_filled = df_masked.copy()\n",
    "df_filled.loc[mask, \"Indie\"] = df_result[\"predict\"].tolist()"
   ]
  },
  {
   "cell_type": "code",
   "execution_count": 41,
   "metadata": {},
   "outputs": [
    {
     "data": {
      "text/plain": [
       "id             0\n",
       "Name           0\n",
       "Genres         0\n",
       "Indie          0\n",
       "Platform       0\n",
       "Players        0\n",
       "Description    0\n",
       "dtype: int64"
      ]
     },
     "execution_count": 41,
     "metadata": {},
     "output_type": "execute_result"
    }
   ],
   "source": [
    "df_filled.isna().sum()"
   ]
  }
 ],
 "metadata": {
  "kernelspec": {
   "display_name": "Python 3.7.9 64-bit ('teste': conda)",
   "language": "python",
   "name": "python37964bittesteconda1543f1c219704c4ea077a4e6376e3e28"
  },
  "language_info": {
   "codemirror_mode": {
    "name": "ipython",
    "version": 3
   },
   "file_extension": ".py",
   "mimetype": "text/x-python",
   "name": "python",
   "nbconvert_exporter": "python",
   "pygments_lexer": "ipython3",
   "version": "3.7.9-final"
  }
 },
 "nbformat": 4,
 "nbformat_minor": 2
}
