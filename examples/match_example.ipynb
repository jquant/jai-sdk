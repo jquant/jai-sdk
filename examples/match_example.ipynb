{
 "cells": [
  {
   "cell_type": "markdown",
   "metadata": {},
   "source": [
    "<img src=\"https://jaipresentation.blob.core.windows.net/comm/jai_avatar.png\" width=\"100\" align=\"right\"/>\n",
    "\n",
    "# JAI - Trust your data\n",
    "\n",
    "## Match: find samples that refer to the same thing\n",
    "This is an example of how to use the match capabilities of JAI.\n",
    "\n",
    "In this notebook we will use a subset of the [PC Games 2020](https://www.kaggle.com/jesneuman/pc-games) dataset. We will split column `Platform` into two different series and match them.\n",
    "\n",
    "You can install JAI in your environment using `pip install jai-sdk`.\n",
    "\n",
    "And you can read the docs [here](https://jai-sdk.readthedocs.io/en/stable/)!\n",
    "\n",
    "If you have any comments or suggestions, feel free to contact us: support@getjai.com\n",
    "\n",
    "*The goal of life is to make your heartbeat match the beat of the universe, to match your nature with Nature.* - Joseph Campbell"
   ]
  },
  {
   "cell_type": "code",
   "execution_count": 4,
   "metadata": {},
   "outputs": [],
   "source": [
    "# JAI imports\n",
    "from jai import Jai\n",
    "\n",
    "# I/O import\n",
    "import pandas as pd\n",
    "import numpy as np"
   ]
  },
  {
   "cell_type": "markdown",
   "metadata": {},
   "source": [
    "\n",
    "## Reading data"
   ]
  },
  {
   "cell_type": "code",
   "execution_count": 5,
   "metadata": {},
   "outputs": [],
   "source": [
    "# it might take a few seconds to download this dataset (10MB) to your computer\n",
    "DATASET_URL = \"https://jaipresentation.blob.core.windows.net/data/games_jai.parquet\"\n",
    "df_games = pd.read_parquet(DATASET_URL)"
   ]
  },
  {
   "cell_type": "code",
   "execution_count": 6,
   "metadata": {},
   "outputs": [
    {
     "data": {
      "text/plain": [
       "PC                                                             4977\n",
       "macOS, PC                                                       517\n",
       "Linux, macOS, PC                                                472\n",
       "Linux, PC, macOS                                                453\n",
       "PC, macOS                                                       433\n",
       "                                                               ... \n",
       "PC, macOS, Xbox One, PlayStation 4, PlayStation 3, Xbox 360       1\n",
       "PC, macOS, Nintendo Switch, Xbox One, PlayStation 4               1\n",
       "Xbox 360, PlayStation 3                                           1\n",
       "PC, PlayStation 3, Dreamcast, PlayStation, PS Vita, PSP           1\n",
       "macOS, iOS, PC, Android, Wii, Nintendo DS                         1\n",
       "Name: Platform, Length: 1503, dtype: int64"
      ]
     },
     "execution_count": 6,
     "metadata": {},
     "output_type": "execute_result"
    }
   ],
   "source": [
    "# checking values in the Platform column\n",
    "df_games[\"Platform\"].value_counts()"
   ]
  },
  {
   "cell_type": "markdown",
   "metadata": {},
   "source": [
    "We can see column `Platform` has some values that actually refer to the same thing (i.e., \"Linux, macOS, PC\" and \"Linux, PC, macOS\"). So we can split this column into two and match these occurrences."
   ]
  },
  {
   "cell_type": "markdown",
   "metadata": {},
   "source": [
    "## Let us get unique representations of each value in the `Platform` column. In other words, \"Linux, macOS, PC\" and \"Linux, PC, macOS\" will be reduced to \"Linux, macOS, PC\". "
   ]
  },
  {
   "cell_type": "code",
   "execution_count": 7,
   "metadata": {},
   "outputs": [],
   "source": [
    "# Helper function to remove unwanted characters from\n",
    "# a particular string\n",
    "def remove_chars(data):\n",
    "    chars_to_remove = [\"{\", \"}\", \"'\"]\n",
    "    for char in chars_to_remove:\n",
    "        data = data.replace(char, \"\")\n",
    "    return data"
   ]
  },
  {
   "cell_type": "code",
   "execution_count": 8,
   "metadata": {},
   "outputs": [],
   "source": [
    "# The ideia is to create sets of each value.\n",
    "# This way, {\"Linux\", \"PC\", \"macOS\"} and {\"macOS\", \"Linux\", \"PC\"} refer to the same thing\n",
    "values_set = [set([item2 for item2 in item.split(\", \")]) for item in df_games[\"Platform\"].tolist()]\n",
    "unique_values = []\n",
    "for item in values_set:\n",
    "    if item not in unique_values:\n",
    "        unique_values.append(item)\n",
    "\n",
    "unique_values_series = [remove_chars(str(item)) for item in unique_values]\n"
   ]
  },
  {
   "cell_type": "markdown",
   "metadata": {},
   "source": [
    "## We will create two datasets, `A` and `B`. Dataset `A` will have the unique values (sets) of each occurence, whereas dataset `B` will be the actual `Platform` column and all of its permutations."
   ]
  },
  {
   "cell_type": "code",
   "execution_count": 12,
   "metadata": {},
   "outputs": [],
   "source": [
    "col = \"Platform\"\n",
    "dfA = pd.Series(unique_values_series)\n",
    "dfB = df_games[col]"
   ]
  },
  {
   "cell_type": "markdown",
   "metadata": {},
   "source": [
    "## We can use JAI to find match values in each dataframe!"
   ]
  },
  {
   "cell_type": "code",
   "execution_count": 13,
   "metadata": {},
   "outputs": [],
   "source": [
    "j = Jai()"
   ]
  },
  {
   "cell_type": "markdown",
   "metadata": {},
   "source": [
    "### We call `match` passing a given `name` for the database and both Pandas Series as `data1` and `data2`"
   ]
  },
  {
   "cell_type": "code",
   "execution_count": 63,
   "metadata": {},
   "outputs": [
    {
     "name": "stderr",
     "output_type": "stream",
     "text": [
      "Insert Data: 100%|██████████| 1/1 [00:01<00:00,  1.54s/it]\n",
      "JAI is working: 100%|██████████| 12/12 [01:04<00:00,  5.36s/it]\n",
      "Similar: 100%|██████████| 1/1 [00:33<00:00, 33.13s/it]\n",
      "Fiding threshold: 100%|██████████| 1157/1157 [00:00<00:00, 441325.00it/s]\n",
      "/home/paulo/anaconda3/envs/teste/lib/python3.7/site-packages/jai/processing.py:56: UserWarning: Threshold calculated automatically.\n",
      "  warnings.warn(\"Threshold calculated automatically.\")\n",
      "Process:  39%|███▉      | 4566/11570 [00:00<00:00, 45649.05it/s]\n",
      "random sample size: 1157\n",
      "threshold: 5.3241986734065e-06\n",
      "\n",
      "Process: 100%|██████████| 11570/11570 [00:00<00:00, 45651.63it/s]\n"
     ]
    }
   ],
   "source": [
    "db_name = \"games_match\"\n",
    "results = j.match(name=db_name, data_left=dfA, data_right=dfB, db_type=\"FastText\", top_k=20)"
   ]
  },
  {
   "cell_type": "markdown",
   "metadata": {},
   "source": [
    "## The results provide all the matches found between the IDs of both datasets and it looks like the following"
   ]
  },
  {
   "cell_type": "code",
   "execution_count": 64,
   "metadata": {},
   "outputs": [
    {
     "data": {
      "text/html": [
       "<div>\n",
       "<style scoped>\n",
       "    .dataframe tbody tr th:only-of-type {\n",
       "        vertical-align: middle;\n",
       "    }\n",
       "\n",
       "    .dataframe tbody tr th {\n",
       "        vertical-align: top;\n",
       "    }\n",
       "\n",
       "    .dataframe thead th {\n",
       "        text-align: right;\n",
       "    }\n",
       "</style>\n",
       "<table border=\"1\" class=\"dataframe\">\n",
       "  <thead>\n",
       "    <tr style=\"text-align: right;\">\n",
       "      <th></th>\n",
       "      <th>id_left</th>\n",
       "      <th>distance</th>\n",
       "      <th>id_right</th>\n",
       "    </tr>\n",
       "  </thead>\n",
       "  <tbody>\n",
       "    <tr>\n",
       "      <th>0</th>\n",
       "      <td>2</td>\n",
       "      <td>0.000000e+00</td>\n",
       "      <td>2</td>\n",
       "    </tr>\n",
       "    <tr>\n",
       "      <th>1</th>\n",
       "      <td>2</td>\n",
       "      <td>0.000000e+00</td>\n",
       "      <td>4</td>\n",
       "    </tr>\n",
       "    <tr>\n",
       "      <th>2</th>\n",
       "      <td>85</td>\n",
       "      <td>3.259472e-06</td>\n",
       "      <td>5</td>\n",
       "    </tr>\n",
       "    <tr>\n",
       "      <th>3</th>\n",
       "      <td>247</td>\n",
       "      <td>3.208111e-06</td>\n",
       "      <td>6</td>\n",
       "    </tr>\n",
       "    <tr>\n",
       "      <th>4</th>\n",
       "      <td>623</td>\n",
       "      <td>3.172757e-06</td>\n",
       "      <td>11</td>\n",
       "    </tr>\n",
       "    <tr>\n",
       "      <th>...</th>\n",
       "      <td>...</td>\n",
       "      <td>...</td>\n",
       "      <td>...</td>\n",
       "    </tr>\n",
       "    <tr>\n",
       "      <th>7810</th>\n",
       "      <td>2</td>\n",
       "      <td>0.000000e+00</td>\n",
       "      <td>11563</td>\n",
       "    </tr>\n",
       "    <tr>\n",
       "      <th>7811</th>\n",
       "      <td>2</td>\n",
       "      <td>0.000000e+00</td>\n",
       "      <td>11564</td>\n",
       "    </tr>\n",
       "    <tr>\n",
       "      <th>7812</th>\n",
       "      <td>2</td>\n",
       "      <td>0.000000e+00</td>\n",
       "      <td>11566</td>\n",
       "    </tr>\n",
       "    <tr>\n",
       "      <th>7813</th>\n",
       "      <td>2</td>\n",
       "      <td>0.000000e+00</td>\n",
       "      <td>11568</td>\n",
       "    </tr>\n",
       "    <tr>\n",
       "      <th>7814</th>\n",
       "      <td>6</td>\n",
       "      <td>4.338612e-15</td>\n",
       "      <td>11569</td>\n",
       "    </tr>\n",
       "  </tbody>\n",
       "</table>\n",
       "<p>7815 rows × 3 columns</p>\n",
       "</div>"
      ],
      "text/plain": [
       "      id_left      distance  id_right\n",
       "0           2  0.000000e+00         2\n",
       "1           2  0.000000e+00         4\n",
       "2          85  3.259472e-06         5\n",
       "3         247  3.208111e-06         6\n",
       "4         623  3.172757e-06        11\n",
       "...       ...           ...       ...\n",
       "7810        2  0.000000e+00     11563\n",
       "7811        2  0.000000e+00     11564\n",
       "7812        2  0.000000e+00     11566\n",
       "7813        2  0.000000e+00     11568\n",
       "7814        6  4.338612e-15     11569\n",
       "\n",
       "[7815 rows x 3 columns]"
      ]
     },
     "execution_count": 64,
     "metadata": {},
     "output_type": "execute_result"
    }
   ],
   "source": [
    "results"
   ]
  },
  {
   "cell_type": "markdown",
   "metadata": {},
   "source": [
    "## The most interesting part is to look for IDs that did not match 100% (i.e., their distances to one another are greater than 0)"
   ]
  },
  {
   "cell_type": "code",
   "execution_count": 65,
   "metadata": {},
   "outputs": [
    {
     "data": {
      "text/html": [
       "<div>\n",
       "<style scoped>\n",
       "    .dataframe tbody tr th:only-of-type {\n",
       "        vertical-align: middle;\n",
       "    }\n",
       "\n",
       "    .dataframe tbody tr th {\n",
       "        vertical-align: top;\n",
       "    }\n",
       "\n",
       "    .dataframe thead th {\n",
       "        text-align: right;\n",
       "    }\n",
       "</style>\n",
       "<table border=\"1\" class=\"dataframe\">\n",
       "  <thead>\n",
       "    <tr style=\"text-align: right;\">\n",
       "      <th></th>\n",
       "      <th>id_left</th>\n",
       "      <th>distance</th>\n",
       "      <th>id_right</th>\n",
       "    </tr>\n",
       "  </thead>\n",
       "  <tbody>\n",
       "    <tr>\n",
       "      <th>2</th>\n",
       "      <td>85</td>\n",
       "      <td>3.259472e-06</td>\n",
       "      <td>5</td>\n",
       "    </tr>\n",
       "    <tr>\n",
       "      <th>3</th>\n",
       "      <td>247</td>\n",
       "      <td>3.208111e-06</td>\n",
       "      <td>6</td>\n",
       "    </tr>\n",
       "    <tr>\n",
       "      <th>4</th>\n",
       "      <td>623</td>\n",
       "      <td>3.172757e-06</td>\n",
       "      <td>11</td>\n",
       "    </tr>\n",
       "    <tr>\n",
       "      <th>5</th>\n",
       "      <td>85</td>\n",
       "      <td>3.259472e-06</td>\n",
       "      <td>13</td>\n",
       "    </tr>\n",
       "    <tr>\n",
       "      <th>6</th>\n",
       "      <td>85</td>\n",
       "      <td>3.259485e-06</td>\n",
       "      <td>15</td>\n",
       "    </tr>\n",
       "    <tr>\n",
       "      <th>...</th>\n",
       "      <td>...</td>\n",
       "      <td>...</td>\n",
       "      <td>...</td>\n",
       "    </tr>\n",
       "    <tr>\n",
       "      <th>7620</th>\n",
       "      <td>538</td>\n",
       "      <td>4.486850e-06</td>\n",
       "      <td>11349</td>\n",
       "    </tr>\n",
       "    <tr>\n",
       "      <th>7656</th>\n",
       "      <td>137</td>\n",
       "      <td>1.521367e-15</td>\n",
       "      <td>11394</td>\n",
       "    </tr>\n",
       "    <tr>\n",
       "      <th>7664</th>\n",
       "      <td>137</td>\n",
       "      <td>2.097389e-15</td>\n",
       "      <td>11402</td>\n",
       "    </tr>\n",
       "    <tr>\n",
       "      <th>7736</th>\n",
       "      <td>247</td>\n",
       "      <td>3.208107e-06</td>\n",
       "      <td>11480</td>\n",
       "    </tr>\n",
       "    <tr>\n",
       "      <th>7814</th>\n",
       "      <td>6</td>\n",
       "      <td>4.338612e-15</td>\n",
       "      <td>11569</td>\n",
       "    </tr>\n",
       "  </tbody>\n",
       "</table>\n",
       "<p>955 rows × 3 columns</p>\n",
       "</div>"
      ],
      "text/plain": [
       "      id_left      distance  id_right\n",
       "2          85  3.259472e-06         5\n",
       "3         247  3.208111e-06         6\n",
       "4         623  3.172757e-06        11\n",
       "5          85  3.259472e-06        13\n",
       "6          85  3.259485e-06        15\n",
       "...       ...           ...       ...\n",
       "7620      538  4.486850e-06     11349\n",
       "7656      137  1.521367e-15     11394\n",
       "7664      137  2.097389e-15     11402\n",
       "7736      247  3.208107e-06     11480\n",
       "7814        6  4.338612e-15     11569\n",
       "\n",
       "[955 rows x 3 columns]"
      ]
     },
     "execution_count": 65,
     "metadata": {},
     "output_type": "execute_result"
    }
   ],
   "source": [
    "not_the_same = results.loc[results[\"distance\"] != 0.]\n",
    "not_the_same"
   ]
  },
  {
   "cell_type": "markdown",
   "metadata": {},
   "source": [
    "## Let's look at the results for IDs 85 and 137"
   ]
  },
  {
   "cell_type": "code",
   "execution_count": 69,
   "metadata": {},
   "outputs": [
    {
     "name": "stdout",
     "output_type": "stream",
     "text": [
      "dfA: PlayStation 4, Xbox One\n",
      "\n",
      "Similar results found on dfB:\n",
      "['PlayStation 4, PC, Xbox One' 'PC, PlayStation 4, Xbox One'\n",
      " 'PlayStation 4, Xbox One']\n"
     ]
    }
   ],
   "source": [
    "id = 85\n",
    "print(f\"ID {id} on dfA: {dfA.iloc[id]}\\n\")\n",
    "print(\"Similar results found on dfB:\")\n",
    "print(dfB.loc[results.loc[results[\"id_left\"] == id][\"id_right\"].to_numpy()].unique())"
   ]
  },
  {
   "cell_type": "code",
   "execution_count": 72,
   "metadata": {},
   "outputs": [
    {
     "name": "stdout",
     "output_type": "stream",
     "text": [
      "ID 137 on dfA: macOS, Linux, iOS, PC\n",
      "\n",
      "Similar results found on dfB:\n",
      "['iOS, macOS, Linux, PC' 'macOS, iOS, Linux, PC' 'iOS, Linux, macOS, PC'\n",
      " 'Linux, macOS, iOS, PC' 'macOS, Linux, iOS, PC']\n"
     ]
    }
   ],
   "source": [
    "id = 137\n",
    "print(f\"ID {id} on dfA: {dfA.iloc[id]}\\n\")\n",
    "print(\"Similar results found on dfB:\")\n",
    "print(dfB.loc[results.loc[results[\"id_left\"] == id][\"id_right\"].to_numpy()].unique())"
   ]
  },
  {
   "cell_type": "markdown",
   "metadata": {},
   "source": [
    "## Discussion\n",
    "We can see that results for ID 85 were not as consistent as those for ID 137. Values for ID 85 in `dfB` were not permutations of `'Playstation 4, 'Xbox One'`, but values with `'PC'` included as well. The differences are subtle, that's why JAI considered them to be similar.\n",
    "\n",
    "On the other hand, results for ID 137 were spot on. Their permutations were distinctive enough from other entries, so JAI correctly identified them as being the same thing.\n",
    "\n",
    "This example shows that the `match` application really helps us narrow down similar values on different datasets, and that some results should undergo a quick review to remove inconsistencies that JAI could not solve by itself."
   ]
  }
 ],
 "metadata": {
  "kernelspec": {
   "display_name": "Python 3.7.9 64-bit ('teste': conda)",
   "language": "python",
   "name": "python37964bittesteconda1543f1c219704c4ea077a4e6376e3e28"
  },
  "language_info": {
   "codemirror_mode": {
    "name": "ipython",
    "version": 3
   },
   "file_extension": ".py",
   "mimetype": "text/x-python",
   "name": "python",
   "nbconvert_exporter": "python",
   "pygments_lexer": "ipython3",
   "version": "3.7.9-final"
  }
 },
 "nbformat": 4,
 "nbformat_minor": 2
}
