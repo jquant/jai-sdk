{
 "cells": [
  {
   "cell_type": "markdown",
   "metadata": {},
   "source": [
    "<img src=\"https://jaipresentation.blob.core.windows.net/comm/jai_avatar.png\" width=\"100\" align=\"right\"/>\n",
    "\n",
    "# JAI - Trust your data\n",
    "\n",
    "## Sanity: checking if your data is valid\n",
    "This is an example of how to use the sanity check capabilities of JAI.\n",
    "\n",
    "In this notebook we will use a subset of the [PC Games 2020](https://www.kaggle.com/jesneuman/pc-games) dataset to check if the `Name`, `Genres` and `Indie` information are valid.\n",
    "\n",
    "You can install JAI in your environment using `pip install jai-sdk`.\n",
    "\n",
    "And you can read the docs [here](https://jai-sdk.readthedocs.io/en/stable/)!\n",
    "\n",
    "If you have any comments or suggestions, feel free to contact us: support@getjai.com\n",
    "\n",
    "*The object of life is not to be on the side of the majority, but to escape finding oneself in the ranks of the insane.* - Marcus Aurelius"
   ]
  },
  {
   "cell_type": "code",
   "execution_count": 30,
   "metadata": {},
   "outputs": [],
   "source": [
    "# JAI imports\n",
    "from jai import Jai\n",
    "from jai.processing import process_predict\n",
    "\n",
    "# I/O imports\n",
    "import pandas as pd"
   ]
  },
  {
   "cell_type": "markdown",
   "metadata": {},
   "source": [
    "## Reading data"
   ]
  },
  {
   "cell_type": "code",
   "execution_count": 2,
   "metadata": {},
   "outputs": [],
   "source": [
    "# it might take a few seconds to download this dataset (10MB) to your computer\n",
    "DATASET_URL = \"https://jaipresentation.blob.core.windows.net/data/games_jai.parquet\"\n",
    "df_games = pd.read_parquet(DATASET_URL)"
   ]
  },
  {
   "cell_type": "markdown",
   "metadata": {},
   "source": [
    "## Use columns `id`, `Name`, `Genres`, `Description` and `Indie`\n",
    "\n",
    "Why? As a rule of thumb, we should send data that us humans would normally use to actually check the validity of each value. In this sense, columns Name, Genres and Indie represent a fair subset that are prone to errors when filling information in."
   ]
  },
  {
   "cell_type": "code",
   "execution_count": 31,
   "metadata": {},
   "outputs": [],
   "source": [
    "#cols = [\"id\", \"Name\", \"Genres\", \"Indie\", \"Description\"]\n",
    "cols = [\"id\", \"Name\", \"Genres\", \"Platform\", \"Description\"]\n",
    "df_sanity = df_games[cols]"
   ]
  },
  {
   "cell_type": "markdown",
   "metadata": {},
   "source": [
    "## Now we can use JAI to check the sanity of this data!"
   ]
  },
  {
   "cell_type": "code",
   "execution_count": 32,
   "metadata": {},
   "outputs": [],
   "source": [
    "j = Jai(\"f0e4c4a6d35d4eb1a871093468fbf679\")"
   ]
  },
  {
   "cell_type": "markdown",
   "metadata": {},
   "source": [
    "### We call `sanity` passing a given `name` for the database, the `data` itself and the fraction (`frac`) of the data to be appended to the dataframe as invalid values (by shuffling them)."
   ]
  },
  {
   "cell_type": "code",
   "execution_count": 34,
   "metadata": {},
   "outputs": [],
   "source": [
    "db_name = \"games_sanity6\"\n",
    "frac = 0.3"
   ]
  },
  {
   "cell_type": "code",
   "execution_count": 35,
   "metadata": {},
   "outputs": [],
   "source": [
    "db_types = {\"Name\": \"FastText\", \"Genre\": \"FastText\", \"Description\": \"Text\", \"Platform\": \"FastText\"}\n",
    "ref = [\"Genres\"]"
   ]
  },
  {
   "cell_type": "code",
   "execution_count": 36,
   "metadata": {},
   "outputs": [
    {
     "output_type": "stream",
     "name": "stderr",
     "text": [
      "Insert Data: 100%|██████████| 1/1 [00:01<00:00,  1.86s/it]\n",
      "JAI is working: 100%|██████████| 12/12 [01:05<00:00,  5.48s/it]\n",
      "Insert Data: 100%|██████████| 1/1 [00:01<00:00,  1.74s/it]\n",
      "Recognized setup args:\n",
      "hyperparams: {'nt': 1000.0}\n",
      "JAI is working: 100%|██████████| 11/11 [00:22<00:00,  2.01s/it]\n",
      "Insert Data: 100%|██████████| 1/1 [00:01<00:00,  1.90s/it]\n",
      "JAI is working: 100%|██████████| 12/12 [01:06<00:00,  5.51s/it]\n",
      "Insert Data: 100%|██████████| 1/1 [00:14<00:00, 14.44s/it]\n",
      "JAI is working: 100%|██████████| 9/9 [07:33<00:00, 50.41s/it]\n",
      "Insert Data: 100%|██████████| 1/1 [00:02<00:00,  2.18s/it]\n",
      "Recognized setup args:\n",
      "mycelia_bases: [{'id_name': 'id_Name', 'db_parent': 'games_sanity6_name'}, {'id_name': 'id_Name', 'db_parent': 'games_sanity6_name'}, {'id_name': 'id_Genres', 'db_parent': 'games_sanity6_genres'}, {'id_name': 'id_Genres', 'db_parent': 'games_sanity6_genres'}, {'id_name': 'id_Platform', 'db_parent': 'games_sanity6_platform'}, {'id_name': 'id_Platform', 'db_parent': 'games_sanity6_platform'}, {'id_name': 'id_Description', 'db_parent': 'games_sanity6_description'}, {'id_name': 'id_Description', 'db_parent': 'games_sanity6_description'}]\n",
      "label: {'task': 'metric_classification', 'label_name': 'is_valid'}\n",
      "split: {'type': 'stratified', 'split_column': 'is_valid', 'test_size': 0.2}\n",
      "JAI is working: 100%|██████████| 18/18 [00:55<00:00,  3.09s/it]\n",
      "Predict: 100%|██████████| 1/1 [00:10<00:00, 10.67s/it]\n"
     ]
    }
   ],
   "source": [
    "results = j.sanity(name=db_name,\n",
    "                 data=df_sanity,\n",
    "                 frac=frac,\n",
    "                 columns_ref=ref,\n",
    "                 db_type=db_types)"
   ]
  },
  {
   "cell_type": "markdown",
   "metadata": {},
   "source": [
    "### Finally, we process the results..."
   ]
  },
  {
   "cell_type": "code",
   "execution_count": 37,
   "metadata": {},
   "outputs": [
    {
     "output_type": "stream",
     "name": "stderr",
     "text": [
      "Predict all ids: 100%|██████████| 11570/11570 [00:00<00:00, 700180.32it/s]\n"
     ]
    }
   ],
   "source": [
    "processed = process_predict(results)\n",
    "df_result = pd.DataFrame(processed).sort_values('id')"
   ]
  },
  {
   "cell_type": "code",
   "execution_count": 38,
   "metadata": {},
   "outputs": [
    {
     "output_type": "execute_result",
     "data": {
      "text/plain": [
       "          id  predict  probability(%)\n",
       "0          1  Invalid           50.98\n",
       "1          2  Invalid           51.31\n",
       "2          4  Invalid           51.51\n",
       "3          5    Valid           50.71\n",
       "4          6  Invalid           51.23\n",
       "...      ...      ...             ...\n",
       "11565  30209  Invalid           50.57\n",
       "11566  30225  Invalid           51.61\n",
       "11567  30230  Invalid           51.33\n",
       "11568  30239  Invalid           51.88\n",
       "11569  30243  Invalid           51.02\n",
       "\n",
       "[11570 rows x 3 columns]"
      ],
      "text/html": "<div>\n<style scoped>\n    .dataframe tbody tr th:only-of-type {\n        vertical-align: middle;\n    }\n\n    .dataframe tbody tr th {\n        vertical-align: top;\n    }\n\n    .dataframe thead th {\n        text-align: right;\n    }\n</style>\n<table border=\"1\" class=\"dataframe\">\n  <thead>\n    <tr style=\"text-align: right;\">\n      <th></th>\n      <th>id</th>\n      <th>predict</th>\n      <th>probability(%)</th>\n    </tr>\n  </thead>\n  <tbody>\n    <tr>\n      <th>0</th>\n      <td>1</td>\n      <td>Invalid</td>\n      <td>50.98</td>\n    </tr>\n    <tr>\n      <th>1</th>\n      <td>2</td>\n      <td>Invalid</td>\n      <td>51.31</td>\n    </tr>\n    <tr>\n      <th>2</th>\n      <td>4</td>\n      <td>Invalid</td>\n      <td>51.51</td>\n    </tr>\n    <tr>\n      <th>3</th>\n      <td>5</td>\n      <td>Valid</td>\n      <td>50.71</td>\n    </tr>\n    <tr>\n      <th>4</th>\n      <td>6</td>\n      <td>Invalid</td>\n      <td>51.23</td>\n    </tr>\n    <tr>\n      <th>...</th>\n      <td>...</td>\n      <td>...</td>\n      <td>...</td>\n    </tr>\n    <tr>\n      <th>11565</th>\n      <td>30209</td>\n      <td>Invalid</td>\n      <td>50.57</td>\n    </tr>\n    <tr>\n      <th>11566</th>\n      <td>30225</td>\n      <td>Invalid</td>\n      <td>51.61</td>\n    </tr>\n    <tr>\n      <th>11567</th>\n      <td>30230</td>\n      <td>Invalid</td>\n      <td>51.33</td>\n    </tr>\n    <tr>\n      <th>11568</th>\n      <td>30239</td>\n      <td>Invalid</td>\n      <td>51.88</td>\n    </tr>\n    <tr>\n      <th>11569</th>\n      <td>30243</td>\n      <td>Invalid</td>\n      <td>51.02</td>\n    </tr>\n  </tbody>\n</table>\n<p>11570 rows × 3 columns</p>\n</div>"
     },
     "metadata": {},
     "execution_count": 38
    }
   ],
   "source": [
    "df_result"
   ]
  },
  {
   "cell_type": "markdown",
   "metadata": {},
   "source": [
    "### ...and check how many entries were valid"
   ]
  },
  {
   "cell_type": "code",
   "execution_count": 39,
   "metadata": {},
   "outputs": [
    {
     "output_type": "execute_result",
     "data": {
      "text/plain": [
       "Invalid    7880\n",
       "Valid      3690\n",
       "Name: predict, dtype: int64"
      ]
     },
     "metadata": {},
     "execution_count": 39
    }
   ],
   "source": [
    "df_result[\"predict\"].value_counts()"
   ]
  },
  {
   "cell_type": "markdown",
   "metadata": {},
   "source": [
    "This output indicates that there are a little over 3% of samples that have some kind of inconsistency. We can check which ones were flaged as Invalid:"
   ]
  },
  {
   "cell_type": "code",
   "execution_count": 29,
   "metadata": {},
   "outputs": [
    {
     "output_type": "execute_result",
     "data": {
      "text/plain": [
       "          id                      Name  \\\n",
       "2          4  The Elder Scrolls Online   \n",
       "6          8             Rocket League   \n",
       "8         10                      Rust   \n",
       "9         11        Grand Theft Auto V   \n",
       "15        17       Black Desert Online   \n",
       "...      ...                       ...   \n",
       "11563  30204                 Night Fly   \n",
       "11564  30206        Curse in our heads   \n",
       "11565  30209         Rocks and Rockets   \n",
       "11566  30225            Rainbow Hunter   \n",
       "11568  30239            Knight Fighter   \n",
       "\n",
       "                                                  Genres  Indie  \\\n",
       "2                             Massively Multiplayer, RPG    0.0   \n",
       "6                          Action, Indie, Racing, Sports    1.0   \n",
       "8      Action, Adventure, Indie, Massively Multiplaye...    1.0   \n",
       "9                                      Action, Adventure    0.0   \n",
       "15     Action, Adventure, Massively Multiplayer, RPG,...    0.0   \n",
       "...                                                  ...    ...   \n",
       "11563                                   Adventure, Indie    1.0   \n",
       "11564                                              Indie    1.0   \n",
       "11565                                   Adventure, Indie    1.0   \n",
       "11566                           Adventure, Casual, Indie    1.0   \n",
       "11568                   Action, Adventure, Casual, Indie    1.0   \n",
       "\n",
       "                                                Platform  \\\n",
       "2                                                     PC   \n",
       "6      Linux, macOS, PC, PlayStation 4, Xbox One, Nin...   \n",
       "8                             Xbox One, macOS, PC, Linux   \n",
       "9      PlayStation 5, PC, PlayStation 4, PlayStation ...   \n",
       "15                           PC, PlayStation 4, Xbox One   \n",
       "...                                                  ...   \n",
       "11563                                                 PC   \n",
       "11564                                                 PC   \n",
       "11565       PC, PS Vita, PSP, PlayStation 3, Nintendo DS   \n",
       "11566                                                 PC   \n",
       "11568                                                 PC   \n",
       "\n",
       "                                            Players  \\\n",
       "2                   singleplayer, multiplayer, coop   \n",
       "6      singleplayer, multiplayer, coop, online coop   \n",
       "8               multiplayer, pvp, coop, online coop   \n",
       "9                   singleplayer, multiplayer, coop   \n",
       "15                           multiplayer, pvp, coop   \n",
       "...                                             ...   \n",
       "11563                                  singleplayer   \n",
       "11564                                  singleplayer   \n",
       "11565                                  singleplayer   \n",
       "11566                                  singleplayer   \n",
       "11568                                  singleplayer   \n",
       "\n",
       "                                             Description  \n",
       "2      Includes The Elder Scrolls Online base game an...  \n",
       "6      Highly competitive soccer game with rocket-car...  \n",
       "8      To survive is the main task in the game Rust. ...  \n",
       "9      Rockstar Games went bigger, since their previo...  \n",
       "15     Players will enjoy jaw-dropping graphics, intu...  \n",
       "...                                                  ...  \n",
       "11563  Night Fly - 2D game that will give you a chanc...  \n",
       "11564  Exciting indie game based on the legendary fil...  \n",
       "11565  Rocks and Rockets - a terrific action game whe...  \n",
       "11566  Willy is a little boy who loves songs, drawing...  \n",
       "11568  Knight Fighter  Knight Fighters is a 2D side-s...  \n",
       "\n",
       "[5191 rows x 7 columns]"
      ],
      "text/html": "<div>\n<style scoped>\n    .dataframe tbody tr th:only-of-type {\n        vertical-align: middle;\n    }\n\n    .dataframe tbody tr th {\n        vertical-align: top;\n    }\n\n    .dataframe thead th {\n        text-align: right;\n    }\n</style>\n<table border=\"1\" class=\"dataframe\">\n  <thead>\n    <tr style=\"text-align: right;\">\n      <th></th>\n      <th>id</th>\n      <th>Name</th>\n      <th>Genres</th>\n      <th>Indie</th>\n      <th>Platform</th>\n      <th>Players</th>\n      <th>Description</th>\n    </tr>\n  </thead>\n  <tbody>\n    <tr>\n      <th>2</th>\n      <td>4</td>\n      <td>The Elder Scrolls Online</td>\n      <td>Massively Multiplayer, RPG</td>\n      <td>0.0</td>\n      <td>PC</td>\n      <td>singleplayer, multiplayer, coop</td>\n      <td>Includes The Elder Scrolls Online base game an...</td>\n    </tr>\n    <tr>\n      <th>6</th>\n      <td>8</td>\n      <td>Rocket League</td>\n      <td>Action, Indie, Racing, Sports</td>\n      <td>1.0</td>\n      <td>Linux, macOS, PC, PlayStation 4, Xbox One, Nin...</td>\n      <td>singleplayer, multiplayer, coop, online coop</td>\n      <td>Highly competitive soccer game with rocket-car...</td>\n    </tr>\n    <tr>\n      <th>8</th>\n      <td>10</td>\n      <td>Rust</td>\n      <td>Action, Adventure, Indie, Massively Multiplaye...</td>\n      <td>1.0</td>\n      <td>Xbox One, macOS, PC, Linux</td>\n      <td>multiplayer, pvp, coop, online coop</td>\n      <td>To survive is the main task in the game Rust. ...</td>\n    </tr>\n    <tr>\n      <th>9</th>\n      <td>11</td>\n      <td>Grand Theft Auto V</td>\n      <td>Action, Adventure</td>\n      <td>0.0</td>\n      <td>PlayStation 5, PC, PlayStation 4, PlayStation ...</td>\n      <td>singleplayer, multiplayer, coop</td>\n      <td>Rockstar Games went bigger, since their previo...</td>\n    </tr>\n    <tr>\n      <th>15</th>\n      <td>17</td>\n      <td>Black Desert Online</td>\n      <td>Action, Adventure, Massively Multiplayer, RPG,...</td>\n      <td>0.0</td>\n      <td>PC, PlayStation 4, Xbox One</td>\n      <td>multiplayer, pvp, coop</td>\n      <td>Players will enjoy jaw-dropping graphics, intu...</td>\n    </tr>\n    <tr>\n      <th>...</th>\n      <td>...</td>\n      <td>...</td>\n      <td>...</td>\n      <td>...</td>\n      <td>...</td>\n      <td>...</td>\n      <td>...</td>\n    </tr>\n    <tr>\n      <th>11563</th>\n      <td>30204</td>\n      <td>Night Fly</td>\n      <td>Adventure, Indie</td>\n      <td>1.0</td>\n      <td>PC</td>\n      <td>singleplayer</td>\n      <td>Night Fly - 2D game that will give you a chanc...</td>\n    </tr>\n    <tr>\n      <th>11564</th>\n      <td>30206</td>\n      <td>Curse in our heads</td>\n      <td>Indie</td>\n      <td>1.0</td>\n      <td>PC</td>\n      <td>singleplayer</td>\n      <td>Exciting indie game based on the legendary fil...</td>\n    </tr>\n    <tr>\n      <th>11565</th>\n      <td>30209</td>\n      <td>Rocks and Rockets</td>\n      <td>Adventure, Indie</td>\n      <td>1.0</td>\n      <td>PC, PS Vita, PSP, PlayStation 3, Nintendo DS</td>\n      <td>singleplayer</td>\n      <td>Rocks and Rockets - a terrific action game whe...</td>\n    </tr>\n    <tr>\n      <th>11566</th>\n      <td>30225</td>\n      <td>Rainbow Hunter</td>\n      <td>Adventure, Casual, Indie</td>\n      <td>1.0</td>\n      <td>PC</td>\n      <td>singleplayer</td>\n      <td>Willy is a little boy who loves songs, drawing...</td>\n    </tr>\n    <tr>\n      <th>11568</th>\n      <td>30239</td>\n      <td>Knight Fighter</td>\n      <td>Action, Adventure, Casual, Indie</td>\n      <td>1.0</td>\n      <td>PC</td>\n      <td>singleplayer</td>\n      <td>Knight Fighter  Knight Fighters is a 2D side-s...</td>\n    </tr>\n  </tbody>\n</table>\n<p>5191 rows × 7 columns</p>\n</div>"
     },
     "metadata": {},
     "execution_count": 29
    }
   ],
   "source": [
    "df_games.loc[df_result[\"predict\"] == \"Invalid\"]"
   ]
  },
  {
   "source": [
    "Some entries, such as IDs 21 and 29830, indicate entries that are indeed invalid (given that `Genres` state that the game is Indie, but the `Indie` column say it is not). Other entries seem to be misclassified and should undergo a quick human validation."
   ],
   "cell_type": "markdown",
   "metadata": {}
  }
 ],
 "metadata": {
  "kernelspec": {
   "display_name": "Python 3.7.9 64-bit ('teste': conda)",
   "language": "python",
   "name": "python37964bittesteconda1543f1c219704c4ea077a4e6376e3e28"
  },
  "language_info": {
   "codemirror_mode": {
    "name": "ipython",
    "version": 3
   },
   "file_extension": ".py",
   "mimetype": "text/x-python",
   "name": "python",
   "nbconvert_exporter": "python",
   "pygments_lexer": "ipython3",
   "version": "3.7.9-final"
  }
 },
 "nbformat": 4,
 "nbformat_minor": 2
}