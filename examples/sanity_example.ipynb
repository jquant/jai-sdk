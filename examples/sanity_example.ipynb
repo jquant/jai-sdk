{
 "cells": [
  {
   "cell_type": "markdown",
   "metadata": {},
   "source": [
    "<img src=\"https://jaipresentation.blob.core.windows.net/comm/jai_avatar.png\" width=\"100\" align=\"right\"/>\n",
    "\n",
    "# JAI - Trust your data\n",
    "\n",
    "## Sanity: checking if your data is valid\n",
    "This is an example of how to use the sanity check capabilities of JAI.\n",
    "\n",
    "In this notebook we will use a subset of the [PC Games 2020](https://www.kaggle.com/jesneuman/pc-games) dataset to check if the `Name`, `Genres` and `Indie` information are valid.\n",
    "\n",
    "You can install JAI in your environment using `pip install jai-sdk`.\n",
    "\n",
    "And you can read the docs [here](https://jai-sdk.readthedocs.io/en/stable/)!\n",
    "\n",
    "If you have any comments or suggestions, feel free to contact us: jedis@jquant.com.br\n",
    "\n",
    "*The object of life is not to be on the side of the majority, but to escape finding oneself in the ranks of the insane.* - Marcus Aurelius"
   ]
  },
  {
   "cell_type": "code",
   "execution_count": 1,
   "metadata": {},
   "outputs": [],
   "source": [
    "# JAI imports\n",
    "from jai import Jai\n",
    "from jai.processing import process_predict\n",
    "\n",
    "# I/O imports\n",
    "import pandas as pd"
   ]
  },
  {
   "cell_type": "markdown",
   "metadata": {},
   "source": [
    "## Reading data"
   ]
  },
  {
   "cell_type": "code",
   "execution_count": 2,
   "metadata": {},
   "outputs": [],
   "source": [
    "# it might take a few seconds to download this dataset (10MB) to your computer\n",
    "DATASET_URL = \"https://jaipresentation.blob.core.windows.net/data/games_jai.parquet\"\n",
    "df_games = pd.read_parquet(DATASET_URL)"
   ]
  },
  {
   "cell_type": "markdown",
   "metadata": {},
   "source": [
    "## Use columns `id`, `Name`, `Genres` and `Indie`\n",
    "\n",
    "Why? As a rule of thumb, we should send data that us humans would normally use to actually check the validity of each value. In this sense, columns Name, Genres and Indie represent a fair subset that are prone to errors when filling information in."
   ]
  },
  {
   "cell_type": "code",
   "execution_count": 3,
   "metadata": {},
   "outputs": [],
   "source": [
    "df_sanity = df_games[[\"id\", \"Name\", \"Genres\", \"Indie\"]]"
   ]
  },
  {
   "cell_type": "markdown",
   "metadata": {},
   "source": [
    "## Now we can use JAI to check the sanity of this data!"
   ]
  },
  {
   "cell_type": "code",
   "execution_count": 4,
   "metadata": {},
   "outputs": [],
   "source": [
    "j = Jai(\"YOUR_AUTH_KEY\")"
   ]
  },
  {
   "cell_type": "markdown",
   "metadata": {},
   "source": [
    "### We call `sanity` passing a given `name` for the database, the `data` itself and the fraction (`frac`) of the data to be appended to the dataframe as invalid values (by shuffling them)."
   ]
  },
  {
   "cell_type": "code",
   "execution_count": 9,
   "metadata": {},
   "outputs": [],
   "source": [
    "db_name = \"games_sanity2\"\n",
    "frac = 0.25"
   ]
  },
  {
   "cell_type": "code",
   "execution_count": 10,
   "metadata": {},
   "outputs": [
    {
     "output_type": "stream",
     "name": "stderr",
     "text": [
      "Insert Data: 100%|██████████| 1/1 [00:01<00:00,  1.44s/it]\n",
      "Recognized setup args:\n",
      "hyperparams: {'nt': 1000.0}\n",
      "JAI is working: 100%|██████████| 11/11 [05:50<00:00, 31.87s/it]\n",
      "Insert Data: 100%|██████████| 1/1 [00:01<00:00,  1.37s/it]\n",
      "Recognized setup args:\n",
      "hyperparams: {'nt': 1000.0}\n",
      "JAI is working: 100%|██████████| 11/11 [00:21<00:00,  1.95s/it]\n",
      "Insert Data: 100%|██████████| 1/1 [00:01<00:00,  1.74s/it]\n",
      "Recognized setup args:\n",
      "mycelia_bases: [{'id_name': 'id_Name', 'db_parent': 'games_sanity2_name'}, {'id_name': 'id_Name', 'db_parent': 'games_sanity2_name'}, {'id_name': 'id_Genres', 'db_parent': 'games_sanity2_genres'}, {'id_name': 'id_Genres', 'db_parent': 'games_sanity2_genres'}]\n",
      "label: {'task': 'metric_classification', 'label_name': 'is_valid'}\n",
      "split: {'type': 'stratified', 'split_column': 'is_valid', 'test_size': 0.2}\n",
      "JAI is working: 100%|██████████| 18/18 [01:36<00:00,  5.38s/it]\n",
      "Predict: 100%|██████████| 1/1 [00:06<00:00,  6.99s/it]\n"
     ]
    }
   ],
   "source": [
    "results = j.sanity(name=db_name,\n",
    "                 data=df_sanity,\n",
    "                 frac=frac,\n",
    "                 columns_ref=[\"Indie\"])"
   ]
  },
  {
   "cell_type": "markdown",
   "metadata": {},
   "source": [
    "### Finally, we process the results..."
   ]
  },
  {
   "cell_type": "code",
   "execution_count": 11,
   "metadata": {},
   "outputs": [
    {
     "output_type": "stream",
     "name": "stderr",
     "text": [
      "Predict all ids: 100%|██████████| 11570/11570 [00:00<00:00, 282289.45it/s]\n"
     ]
    }
   ],
   "source": [
    "processed = process_predict(results)\n",
    "df_result = pd.DataFrame(processed).sort_values('id')"
   ]
  },
  {
   "cell_type": "code",
   "execution_count": 12,
   "metadata": {},
   "outputs": [
    {
     "output_type": "execute_result",
     "data": {
      "text/plain": [
       "          id  predict  probability(%)\n",
       "0          1    Valid           80.68\n",
       "1          2  Invalid           56.17\n",
       "2          4  Invalid           90.73\n",
       "3          5    Valid           85.29\n",
       "4          6    Valid           91.78\n",
       "...      ...      ...             ...\n",
       "11565  30209    Valid           89.10\n",
       "11566  30225    Valid           87.92\n",
       "11567  30230    Valid           90.72\n",
       "11568  30239    Valid           87.13\n",
       "11569  30243    Valid           88.72\n",
       "\n",
       "[11570 rows x 3 columns]"
      ],
      "text/html": "<div>\n<style scoped>\n    .dataframe tbody tr th:only-of-type {\n        vertical-align: middle;\n    }\n\n    .dataframe tbody tr th {\n        vertical-align: top;\n    }\n\n    .dataframe thead th {\n        text-align: right;\n    }\n</style>\n<table border=\"1\" class=\"dataframe\">\n  <thead>\n    <tr style=\"text-align: right;\">\n      <th></th>\n      <th>id</th>\n      <th>predict</th>\n      <th>probability(%)</th>\n    </tr>\n  </thead>\n  <tbody>\n    <tr>\n      <th>0</th>\n      <td>1</td>\n      <td>Valid</td>\n      <td>80.68</td>\n    </tr>\n    <tr>\n      <th>1</th>\n      <td>2</td>\n      <td>Invalid</td>\n      <td>56.17</td>\n    </tr>\n    <tr>\n      <th>2</th>\n      <td>4</td>\n      <td>Invalid</td>\n      <td>90.73</td>\n    </tr>\n    <tr>\n      <th>3</th>\n      <td>5</td>\n      <td>Valid</td>\n      <td>85.29</td>\n    </tr>\n    <tr>\n      <th>4</th>\n      <td>6</td>\n      <td>Valid</td>\n      <td>91.78</td>\n    </tr>\n    <tr>\n      <th>...</th>\n      <td>...</td>\n      <td>...</td>\n      <td>...</td>\n    </tr>\n    <tr>\n      <th>11565</th>\n      <td>30209</td>\n      <td>Valid</td>\n      <td>89.10</td>\n    </tr>\n    <tr>\n      <th>11566</th>\n      <td>30225</td>\n      <td>Valid</td>\n      <td>87.92</td>\n    </tr>\n    <tr>\n      <th>11567</th>\n      <td>30230</td>\n      <td>Valid</td>\n      <td>90.72</td>\n    </tr>\n    <tr>\n      <th>11568</th>\n      <td>30239</td>\n      <td>Valid</td>\n      <td>87.13</td>\n    </tr>\n    <tr>\n      <th>11569</th>\n      <td>30243</td>\n      <td>Valid</td>\n      <td>88.72</td>\n    </tr>\n  </tbody>\n</table>\n<p>11570 rows × 3 columns</p>\n</div>"
     },
     "metadata": {},
     "execution_count": 12
    }
   ],
   "source": [
    "df_result"
   ]
  },
  {
   "cell_type": "markdown",
   "metadata": {},
   "source": [
    "### ...and check how many entries were valid"
   ]
  },
  {
   "cell_type": "code",
   "execution_count": 13,
   "metadata": {},
   "outputs": [
    {
     "output_type": "execute_result",
     "data": {
      "text/plain": [
       "Valid      11066\n",
       "Invalid      504\n",
       "Name: predict, dtype: int64"
      ]
     },
     "metadata": {},
     "execution_count": 13
    }
   ],
   "source": [
    "df_result[\"predict\"].value_counts()"
   ]
  },
  {
   "cell_type": "markdown",
   "metadata": {},
   "source": [
    "This output indicates that there are a little over 3% of samples that have some kind of inconsistency. We can check which ones were flaged as Invalid:"
   ]
  },
  {
   "cell_type": "code",
   "execution_count": 15,
   "metadata": {},
   "outputs": [
    {
     "output_type": "execute_result",
     "data": {
      "text/plain": [
       "          id                          Name  \\\n",
       "1          2                     Destiny 2   \n",
       "2          4      The Elder Scrolls Online   \n",
       "15        17           Black Desert Online   \n",
       "18        21            Deep Rock Galactic   \n",
       "41        48                 Disco Elysium   \n",
       "...      ...                           ...   \n",
       "11383  29170           Master of Mutations   \n",
       "11388  29197              Escape: The Room   \n",
       "11472  29618                 Forest Plague   \n",
       "11500  29786  Rupert and Riley Shipwrecked   \n",
       "11508  29830                       SpinZap   \n",
       "\n",
       "                                                  Genres  Indie  \\\n",
       "1                        Action, Adventure, Free to Play    0.0   \n",
       "2                             Massively Multiplayer, RPG    0.0   \n",
       "15     Action, Adventure, Massively Multiplayer, RPG,...    0.0   \n",
       "18                                         Action, Indie    0.0   \n",
       "41                                                   RPG    1.0   \n",
       "...                                                  ...    ...   \n",
       "11383                                           Strategy    1.0   \n",
       "11388                                          Adventure    1.0   \n",
       "11472                                 Action, Simulation    1.0   \n",
       "11500                          Action, Adventure, Casual    1.0   \n",
       "11508                              Action, Casual, Indie    0.0   \n",
       "\n",
       "                                                Platform  \\\n",
       "1      PlayStation 5, Web, Xbox Series X, PC, Xbox On...   \n",
       "2                                                     PC   \n",
       "15                           PC, PlayStation 4, Xbox One   \n",
       "18                                                    PC   \n",
       "41                                                    PC   \n",
       "...                                                  ...   \n",
       "11383                                          macOS, PC   \n",
       "11388                                                iOS   \n",
       "11472                                          macOS, PC   \n",
       "11500                                                 PC   \n",
       "11508                                                 PC   \n",
       "\n",
       "                                            Players  \\\n",
       "1                    multiplayer, coop, online coop   \n",
       "2                   singleplayer, multiplayer, coop   \n",
       "15                           multiplayer, pvp, coop   \n",
       "18     singleplayer, multiplayer, coop, online coop   \n",
       "41                                     singleplayer   \n",
       "...                                             ...   \n",
       "11383                                  singleplayer   \n",
       "11388                                  singleplayer   \n",
       "11472                                  singleplayer   \n",
       "11500                                  singleplayer   \n",
       "11508                             multiplayer, coop   \n",
       "\n",
       "                                             Description  \n",
       "1      Destiny 2 is an online multiplayer first-perso...  \n",
       "2      Includes The Elder Scrolls Online base game an...  \n",
       "15     Players will enjoy jaw-dropping graphics, intu...  \n",
       "18     DEEP ROCK GALACTIC is a first-person co-operat...  \n",
       "41     Disco Elysium is a groundbreaking blend of har...  \n",
       "...                                                  ...  \n",
       "11383  Welcome to the laboratory\\r\\nThe game mechanic...  \n",
       "11388  This is an \"escape the room\" type of game in w...  \n",
       "11472  This forest has one key difference from the hu...  \n",
       "11500  Rupert and Riley Shipwrecked!\\n\\r\\nIn this sid...  \n",
       "11508  SpinZap is a challenging game in classic arcad...  \n",
       "\n",
       "[504 rows x 7 columns]"
      ],
      "text/html": "<div>\n<style scoped>\n    .dataframe tbody tr th:only-of-type {\n        vertical-align: middle;\n    }\n\n    .dataframe tbody tr th {\n        vertical-align: top;\n    }\n\n    .dataframe thead th {\n        text-align: right;\n    }\n</style>\n<table border=\"1\" class=\"dataframe\">\n  <thead>\n    <tr style=\"text-align: right;\">\n      <th></th>\n      <th>id</th>\n      <th>Name</th>\n      <th>Genres</th>\n      <th>Indie</th>\n      <th>Platform</th>\n      <th>Players</th>\n      <th>Description</th>\n    </tr>\n  </thead>\n  <tbody>\n    <tr>\n      <th>1</th>\n      <td>2</td>\n      <td>Destiny 2</td>\n      <td>Action, Adventure, Free to Play</td>\n      <td>0.0</td>\n      <td>PlayStation 5, Web, Xbox Series X, PC, Xbox On...</td>\n      <td>multiplayer, coop, online coop</td>\n      <td>Destiny 2 is an online multiplayer first-perso...</td>\n    </tr>\n    <tr>\n      <th>2</th>\n      <td>4</td>\n      <td>The Elder Scrolls Online</td>\n      <td>Massively Multiplayer, RPG</td>\n      <td>0.0</td>\n      <td>PC</td>\n      <td>singleplayer, multiplayer, coop</td>\n      <td>Includes The Elder Scrolls Online base game an...</td>\n    </tr>\n    <tr>\n      <th>15</th>\n      <td>17</td>\n      <td>Black Desert Online</td>\n      <td>Action, Adventure, Massively Multiplayer, RPG,...</td>\n      <td>0.0</td>\n      <td>PC, PlayStation 4, Xbox One</td>\n      <td>multiplayer, pvp, coop</td>\n      <td>Players will enjoy jaw-dropping graphics, intu...</td>\n    </tr>\n    <tr>\n      <th>18</th>\n      <td>21</td>\n      <td>Deep Rock Galactic</td>\n      <td>Action, Indie</td>\n      <td>0.0</td>\n      <td>PC</td>\n      <td>singleplayer, multiplayer, coop, online coop</td>\n      <td>DEEP ROCK GALACTIC is a first-person co-operat...</td>\n    </tr>\n    <tr>\n      <th>41</th>\n      <td>48</td>\n      <td>Disco Elysium</td>\n      <td>RPG</td>\n      <td>1.0</td>\n      <td>PC</td>\n      <td>singleplayer</td>\n      <td>Disco Elysium is a groundbreaking blend of har...</td>\n    </tr>\n    <tr>\n      <th>...</th>\n      <td>...</td>\n      <td>...</td>\n      <td>...</td>\n      <td>...</td>\n      <td>...</td>\n      <td>...</td>\n      <td>...</td>\n    </tr>\n    <tr>\n      <th>11383</th>\n      <td>29170</td>\n      <td>Master of Mutations</td>\n      <td>Strategy</td>\n      <td>1.0</td>\n      <td>macOS, PC</td>\n      <td>singleplayer</td>\n      <td>Welcome to the laboratory\\r\\nThe game mechanic...</td>\n    </tr>\n    <tr>\n      <th>11388</th>\n      <td>29197</td>\n      <td>Escape: The Room</td>\n      <td>Adventure</td>\n      <td>1.0</td>\n      <td>iOS</td>\n      <td>singleplayer</td>\n      <td>This is an \"escape the room\" type of game in w...</td>\n    </tr>\n    <tr>\n      <th>11472</th>\n      <td>29618</td>\n      <td>Forest Plague</td>\n      <td>Action, Simulation</td>\n      <td>1.0</td>\n      <td>macOS, PC</td>\n      <td>singleplayer</td>\n      <td>This forest has one key difference from the hu...</td>\n    </tr>\n    <tr>\n      <th>11500</th>\n      <td>29786</td>\n      <td>Rupert and Riley Shipwrecked</td>\n      <td>Action, Adventure, Casual</td>\n      <td>1.0</td>\n      <td>PC</td>\n      <td>singleplayer</td>\n      <td>Rupert and Riley Shipwrecked!\\n\\r\\nIn this sid...</td>\n    </tr>\n    <tr>\n      <th>11508</th>\n      <td>29830</td>\n      <td>SpinZap</td>\n      <td>Action, Casual, Indie</td>\n      <td>0.0</td>\n      <td>PC</td>\n      <td>multiplayer, coop</td>\n      <td>SpinZap is a challenging game in classic arcad...</td>\n    </tr>\n  </tbody>\n</table>\n<p>504 rows × 7 columns</p>\n</div>"
     },
     "metadata": {},
     "execution_count": 15
    }
   ],
   "source": [
    "df_games.loc[df_result[\"predict\"] == \"Invalid\"]"
   ]
  },
  {
   "source": [
    "Some entries, such as IDs 21 and 29830, indicate entries that are indeed invalid (given that `Genres` state that the game is Indie, but the `Indie` column say it is not). Other entries seem to be misclassified and should undergo a quick human validation."
   ],
   "cell_type": "markdown",
   "metadata": {}
  }
 ],
 "metadata": {
  "kernelspec": {
   "display_name": "Python 3.7.9 64-bit ('teste': conda)",
   "language": "python",
   "name": "python37964bittesteconda1543f1c219704c4ea077a4e6376e3e28"
  },
  "language_info": {
   "codemirror_mode": {
    "name": "ipython",
    "version": 3
   },
   "file_extension": ".py",
   "mimetype": "text/x-python",
   "name": "python",
   "nbconvert_exporter": "python",
   "pygments_lexer": "ipython3",
   "version": "3.7.9-final"
  }
 },
 "nbformat": 4,
 "nbformat_minor": 2
}