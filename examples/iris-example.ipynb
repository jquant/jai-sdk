{
 "cells": [
  {
   "cell_type": "markdown",
   "id": "4f67ee61",
   "metadata": {},
   "source": [
    "# Objective\n",
    "Create a notebook using JAI to solve a classification problem. In this first attempt we will use the Iris dataset. This dataset brings us 150 rows with 4 different flower characteristics that will be used to classify each flower as one of the 3 different types of irises’ (Setosa, Versicolour, and Virginica). Have fun! And if you have any doubts, check our documentation or ask us on our slack =]."
   ]
  },
  {
   "cell_type": "markdown",
   "id": "50c2d672",
   "metadata": {},
   "source": [
    "# Imports "
   ]
  },
  {
   "cell_type": "code",
   "execution_count": 1,
   "id": "a33ae2ac",
   "metadata": {
    "ExecuteTime": {
     "end_time": "2021-12-12T22:15:39.527234Z",
     "start_time": "2021-12-12T22:15:37.466147Z"
    }
   },
   "outputs": [],
   "source": [
    "import numpy as np\n",
    "import pandas as pd\n",
    "from sklearn import metrics\n",
    "from tabulate import tabulate\n",
    "from sklearn.datasets import load_iris\n",
    "from sklearn.metrics import roc_auc_score\n",
    "from sklearn.model_selection import train_test_split"
   ]
  },
  {
   "cell_type": "markdown",
   "id": "d4569ac7",
   "metadata": {},
   "source": [
    "# Generating your JAI account (if you don't have it already)"
   ]
  },
  {
   "cell_type": "code",
   "execution_count": null,
   "id": "cb2ac56c",
   "metadata": {
    "ExecuteTime": {
     "end_time": "2021-12-10T17:47:08.707932Z",
     "start_time": "2021-12-10T17:47:08.704906Z"
    }
   },
   "outputs": [],
   "source": [
    "# ATTENTION: If you haven't generate your key yet, just run the command below\n",
    "#Jai.get_auth_key(email='email@mail.com', firstName='Jai', lastName='Z')"
   ]
  },
  {
   "cell_type": "markdown",
   "id": "3a00c620",
   "metadata": {},
   "source": [
    "# Instantiating JAI"
   ]
  },
  {
   "cell_type": "code",
   "execution_count": 2,
   "id": "f2285b5a",
   "metadata": {
    "ExecuteTime": {
     "end_time": "2021-12-12T22:15:44.026921Z",
     "start_time": "2021-12-12T22:15:44.022204Z"
    }
   },
   "outputs": [],
   "source": [
    "from jai import Jai\n",
    "j = Jai()"
   ]
  },
  {
   "cell_type": "markdown",
   "id": "80e7a253",
   "metadata": {},
   "source": [
    "# Loading the the dataset and checking basic information"
   ]
  },
  {
   "cell_type": "code",
   "execution_count": 3,
   "id": "537a0eb4",
   "metadata": {
    "ExecuteTime": {
     "end_time": "2021-12-12T22:17:24.971758Z",
     "start_time": "2021-12-12T22:17:24.930637Z"
    }
   },
   "outputs": [
    {
     "data": {
      "text/html": [
       "<div>\n",
       "<style scoped>\n",
       "    .dataframe tbody tr th:only-of-type {\n",
       "        vertical-align: middle;\n",
       "    }\n",
       "\n",
       "    .dataframe tbody tr th {\n",
       "        vertical-align: top;\n",
       "    }\n",
       "\n",
       "    .dataframe thead th {\n",
       "        text-align: right;\n",
       "    }\n",
       "</style>\n",
       "<table border=\"1\" class=\"dataframe\">\n",
       "  <thead>\n",
       "    <tr style=\"text-align: right;\">\n",
       "      <th></th>\n",
       "      <th>sepal length (cm)</th>\n",
       "      <th>sepal width (cm)</th>\n",
       "      <th>petal length (cm)</th>\n",
       "      <th>petal width (cm)</th>\n",
       "    </tr>\n",
       "  </thead>\n",
       "  <tbody>\n",
       "    <tr>\n",
       "      <th>0</th>\n",
       "      <td>5.1</td>\n",
       "      <td>3.5</td>\n",
       "      <td>1.4</td>\n",
       "      <td>0.2</td>\n",
       "    </tr>\n",
       "    <tr>\n",
       "      <th>1</th>\n",
       "      <td>4.9</td>\n",
       "      <td>3.0</td>\n",
       "      <td>1.4</td>\n",
       "      <td>0.2</td>\n",
       "    </tr>\n",
       "    <tr>\n",
       "      <th>2</th>\n",
       "      <td>4.7</td>\n",
       "      <td>3.2</td>\n",
       "      <td>1.3</td>\n",
       "      <td>0.2</td>\n",
       "    </tr>\n",
       "    <tr>\n",
       "      <th>3</th>\n",
       "      <td>4.6</td>\n",
       "      <td>3.1</td>\n",
       "      <td>1.5</td>\n",
       "      <td>0.2</td>\n",
       "    </tr>\n",
       "    <tr>\n",
       "      <th>4</th>\n",
       "      <td>5.0</td>\n",
       "      <td>3.6</td>\n",
       "      <td>1.4</td>\n",
       "      <td>0.2</td>\n",
       "    </tr>\n",
       "  </tbody>\n",
       "</table>\n",
       "</div>"
      ],
      "text/plain": [
       "   sepal length (cm)  sepal width (cm)  petal length (cm)  petal width (cm)\n",
       "0                5.1               3.5                1.4               0.2\n",
       "1                4.9               3.0                1.4               0.2\n",
       "2                4.7               3.2                1.3               0.2\n",
       "3                4.6               3.1                1.5               0.2\n",
       "4                5.0               3.6                1.4               0.2"
      ]
     },
     "execution_count": 3,
     "metadata": {},
     "output_type": "execute_result"
    }
   ],
   "source": [
    "df = pd.DataFrame(load_iris(as_frame=True).data)\n",
    "target = load_iris(as_frame=True).target\n",
    "df.head()"
   ]
  },
  {
   "cell_type": "code",
   "execution_count": null,
   "id": "7fe5b53d",
   "metadata": {
    "ExecuteTime": {
     "end_time": "2021-12-10T17:47:11.656662Z",
     "start_time": "2021-12-10T17:47:11.649650Z"
    }
   },
   "outputs": [],
   "source": [
    "print(tabulate(df.head(), headers='keys', tablefmt='rst'))"
   ]
  },
  {
   "cell_type": "code",
   "execution_count": null,
   "id": "5f7d6c5a",
   "metadata": {
    "ExecuteTime": {
     "end_time": "2021-12-10T17:47:12.459669Z",
     "start_time": "2021-12-10T17:47:12.453688Z"
    }
   },
   "outputs": [],
   "source": [
    "df.shape"
   ]
  },
  {
   "cell_type": "code",
   "execution_count": null,
   "id": "ff8c0b70",
   "metadata": {
    "ExecuteTime": {
     "end_time": "2021-12-10T17:47:12.923931Z",
     "start_time": "2021-12-10T17:47:12.895100Z"
    }
   },
   "outputs": [],
   "source": [
    "df.describe()"
   ]
  },
  {
   "cell_type": "code",
   "execution_count": null,
   "id": "3d2b1856",
   "metadata": {
    "ExecuteTime": {
     "end_time": "2021-12-10T17:47:13.400206Z",
     "start_time": "2021-12-10T17:47:13.387691Z"
    }
   },
   "outputs": [],
   "source": [
    "df.info()"
   ]
  },
  {
   "cell_type": "code",
   "execution_count": null,
   "id": "0edb727a",
   "metadata": {
    "ExecuteTime": {
     "end_time": "2021-12-10T17:47:14.033975Z",
     "start_time": "2021-12-10T17:47:14.026283Z"
    }
   },
   "outputs": [],
   "source": [
    "target.value_counts()"
   ]
  },
  {
   "cell_type": "markdown",
   "id": "6c419b96",
   "metadata": {},
   "source": [
    "# Classification model "
   ]
  },
  {
   "cell_type": "code",
   "execution_count": 4,
   "id": "758a36d2",
   "metadata": {
    "ExecuteTime": {
     "end_time": "2021-12-12T22:17:28.667072Z",
     "start_time": "2021-12-12T22:17:28.650975Z"
    }
   },
   "outputs": [],
   "source": [
    "df = pd.DataFrame(load_iris(as_frame=True).data)\n",
    "target = load_iris(as_frame=True).target\n",
    "\n",
    "X_train, X_test, y_train, y_test = train_test_split(\n",
    "            df, target, test_size=0.3, random_state=42)"
   ]
  },
  {
   "cell_type": "code",
   "execution_count": 5,
   "id": "2823686e",
   "metadata": {
    "ExecuteTime": {
     "end_time": "2021-12-12T22:17:29.791132Z",
     "start_time": "2021-12-12T22:17:29.785281Z"
    }
   },
   "outputs": [],
   "source": [
    "train = pd.concat([X_train,y_train],axis=1)"
   ]
  },
  {
   "cell_type": "markdown",
   "id": "122fa31d",
   "metadata": {},
   "source": [
    "Now we are gonna train, test and validate our model with **j.fit**. This will create a **collection** inside JAI which will contain one **vector for each line** of our train dataset. These vectores are a numerical representation of each row that compress the whole information and extracts the most important characteristics of these data, where the vectors of the examples (rows) that are similar will be close to each other on its vectorial space =]."
   ]
  },
  {
   "cell_type": "code",
   "execution_count": null,
   "id": "b1ee5013",
   "metadata": {
    "ExecuteTime": {
     "end_time": "2021-12-10T17:53:23.834078Z",
     "start_time": "2021-12-10T17:47:16.946976Z"
    }
   },
   "outputs": [],
   "source": [
    "j.fit(\n",
    "    # Here you will name your collection inside JAI\n",
    "    name=\"iris_supervised\", \n",
    "    \n",
    "    # data should always receive a dataframe, even if it is of one column. \n",
    "    data=train, \n",
    "    \n",
    "    # Here you will define the type of model you want to. The other options you have are SelfSupervised,\n",
    "    #Text, FastText, TextEdit, Image \n",
    "    db_type='Supervised', \n",
    "    \n",
    "    # You can set these parameter to True if you want to overweite an already created collection\n",
    "    #overwrite = True,\n",
    "    \n",
    "    # verbose =2 will bring the loss graph as well as the metrics result.\n",
    "    verbose=2,\n",
    "    \n",
    "    # When we set task as *classification* we use Cross Entropy Loss. For more information, check our documentation\n",
    "    label={\"task\": \"classification\",\n",
    "           \"label_name\": \"target\"}\n",
    ")"
   ]
  },
  {
   "cell_type": "markdown",
   "id": "de002125",
   "metadata": {},
   "source": [
    "# Checking your collection information"
   ]
  },
  {
   "cell_type": "code",
   "execution_count": null,
   "id": "d6afc672",
   "metadata": {
    "ExecuteTime": {
     "end_time": "2021-12-10T17:55:31.635209Z",
     "start_time": "2021-12-10T17:55:29.686263Z"
    }
   },
   "outputs": [],
   "source": [
    "# List all collections in your subscription and some info about them\n",
    "j.info"
   ]
  },
  {
   "cell_type": "code",
   "execution_count": null,
   "id": "54cbb5dc",
   "metadata": {
    "ExecuteTime": {
     "end_time": "2021-12-09T19:38:40.836170Z",
     "start_time": "2021-12-09T19:38:28.821081Z"
    }
   },
   "outputs": [],
   "source": [
    "# Download the generated vectors. If you have too many vectors, this can take a while\n",
    "vectors = j.download_vectors('cc_fraud_supervised')"
   ]
  },
  {
   "cell_type": "code",
   "execution_count": null,
   "id": "81b43a3f",
   "metadata": {
    "ExecuteTime": {
     "end_time": "2021-12-09T19:39:04.752977Z",
     "start_time": "2021-12-09T19:39:04.745821Z"
    }
   },
   "outputs": [],
   "source": [
    "len(vectors)"
   ]
  },
  {
   "cell_type": "code",
   "execution_count": null,
   "id": "d831a050",
   "metadata": {
    "ExecuteTime": {
     "end_time": "2021-12-09T19:39:28.737573Z",
     "start_time": "2021-12-09T19:39:28.727392Z"
    }
   },
   "outputs": [],
   "source": [
    "vectors[0]"
   ]
  },
  {
   "cell_type": "code",
   "execution_count": null,
   "id": "5d3baf97",
   "metadata": {
    "ExecuteTime": {
     "end_time": "2021-12-09T19:39:06.034745Z",
     "start_time": "2021-12-09T19:39:06.028475Z"
    }
   },
   "outputs": [],
   "source": [
    "# The default size of each vector for the Supervised is 64\n",
    "len(vectors[0])"
   ]
  },
  {
   "cell_type": "markdown",
   "id": "58685e83",
   "metadata": {},
   "source": [
    "**Hurray \\0/!!!** Now your model is already deployed to be consumed by your applications. We will show below two way to apply your model to new data =]."
   ]
  },
  {
   "cell_type": "markdown",
   "id": "afa76e34",
   "metadata": {},
   "source": [
    "# Make predictions and analysing the results"
   ]
  },
  {
   "cell_type": "markdown",
   "id": "405fb42d",
   "metadata": {},
   "source": [
    "## Predictions without predict_proba"
   ]
  },
  {
   "cell_type": "code",
   "execution_count": 6,
   "id": "a34eeb45",
   "metadata": {
    "ExecuteTime": {
     "end_time": "2021-12-12T22:19:01.498641Z",
     "start_time": "2021-12-12T22:18:52.391358Z"
    }
   },
   "outputs": [
    {
     "name": "stderr",
     "output_type": "stream",
     "text": [
      "Predict: 100%|██████████████████████████████████████████████████████████████████████████████████████████████████████████████████████████████████████████████████████████████| 1/1 [00:04<00:00,  4.59s/it]\n",
      "Predict Processing: 100%|█████████████████████████████████████████████████████████████████████████████████████████████████████████████████████████████████████████████| 45/45 [00:00<00:00, 199096.71it/s]\n"
     ]
    }
   ],
   "source": [
    "# Now we will make the predictions\n",
    "#In this case, it will use 0.5 as threshold to return the predicted class\n",
    "ans = j.predict(\n",
    "    \n",
    "    # Collection to be queried\n",
    "    name='iris_supervised',\n",
    "    \n",
    "    # This will make your ansewer return as a dataframe\n",
    "    as_frame=True,\n",
    "    \n",
    "    # Here you will pass a dataframe to predict which examples are Setosa, Versicolour, and Virginica\n",
    "    data=X_test\n",
    ")"
   ]
  },
  {
   "cell_type": "code",
   "execution_count": 7,
   "id": "f7cc6683",
   "metadata": {
    "ExecuteTime": {
     "end_time": "2021-12-12T22:25:31.971912Z",
     "start_time": "2021-12-12T22:25:31.965947Z"
    },
    "scrolled": true
   },
   "outputs": [],
   "source": [
    "# ATTENTION: JAI ALWAYS RETURNS THE ANSWERS ORDERED BY ID! Bringin y_test like this will avoid mismathings.\n",
    "ans[\"y_true\"] = y_test"
   ]
  },
  {
   "cell_type": "code",
   "execution_count": 8,
   "id": "eef0f7c4",
   "metadata": {
    "ExecuteTime": {
     "end_time": "2021-12-12T22:25:38.706759Z",
     "start_time": "2021-12-12T22:25:38.698787Z"
    },
    "scrolled": true
   },
   "outputs": [
    {
     "name": "stdout",
     "output_type": "stream",
     "text": [
      "====  =========  ========\n",
      "  id    predict    y_true\n",
      "====  =========  ========\n",
      "   4          0         0\n",
      "   9          0         0\n",
      "  10          0         0\n",
      "  11          0         0\n",
      "  12          0         0\n",
      "====  =========  ========\n"
     ]
    }
   ],
   "source": [
    "print(tabulate(ans.head(), headers='keys', tablefmt='rst'))"
   ]
  },
  {
   "cell_type": "code",
   "execution_count": 9,
   "id": "8597dd09",
   "metadata": {
    "ExecuteTime": {
     "end_time": "2021-12-12T22:26:15.839824Z",
     "start_time": "2021-12-12T22:26:15.825222Z"
    }
   },
   "outputs": [
    {
     "name": "stdout",
     "output_type": "stream",
     "text": [
      "              precision    recall  f1-score   support\n",
      "\n",
      "           0       1.00      1.00      1.00        19\n",
      "           1       1.00      1.00      1.00        13\n",
      "           2       1.00      1.00      1.00        13\n",
      "\n",
      "    accuracy                           1.00        45\n",
      "   macro avg       1.00      1.00      1.00        45\n",
      "weighted avg       1.00      1.00      1.00        45\n",
      "\n"
     ]
    }
   ],
   "source": [
    "print(metrics.classification_report( ans[\"y_true\"],ans[\"predict\"],target_names=['0','1','2']))"
   ]
  },
  {
   "cell_type": "markdown",
   "id": "6fd1f1f0",
   "metadata": {},
   "source": [
    "## Predictions using predict_proba"
   ]
  },
  {
   "cell_type": "code",
   "execution_count": 10,
   "id": "04c60ddf",
   "metadata": {
    "ExecuteTime": {
     "end_time": "2021-12-12T22:27:04.725416Z",
     "start_time": "2021-12-12T22:26:58.856615Z"
    }
   },
   "outputs": [
    {
     "name": "stderr",
     "output_type": "stream",
     "text": [
      "Predict: 100%|██████████████████████████████████████████████████████████████████████████████████████████████████████████████████████████████████████████████████████████████| 1/1 [00:02<00:00,  2.36s/it]\n",
      "Predict Processing: 100%|██████████████████████████████████████████████████████████████████████████████████████████████████████████████████████████████████████████████| 45/45 [00:00<00:00, 25042.28it/s]\n"
     ]
    }
   ],
   "source": [
    "ans = j.predict(\n",
    "    \n",
    "    # Collection to be queried\n",
    "    name='iris_supervised',\n",
    "    \n",
    "    # This will bring the probabilities predicted\n",
    "    predict_proba = True,\n",
    "    \n",
    "    # This will make your ansewer return as a dataframe\n",
    "    as_frame=True,\n",
    "    \n",
    "    # Here you will pass a dataframe to predict which examples are Setosa, Versicolour, and Virginica\n",
    "    data=X_test\n",
    ")"
   ]
  },
  {
   "cell_type": "code",
   "execution_count": 11,
   "id": "8b7b7553",
   "metadata": {
    "ExecuteTime": {
     "end_time": "2021-12-12T22:27:06.338180Z",
     "start_time": "2021-12-12T22:27:06.333028Z"
    }
   },
   "outputs": [],
   "source": [
    "# ATTENTION: JAI ALWAYS RETURNS THE ANSWERS ORDERED BY ID! Bringin y_test like this will avoid mismathings.\n",
    "ans[\"y_true\"] = y_test"
   ]
  },
  {
   "cell_type": "code",
   "execution_count": 12,
   "id": "b9c2b595",
   "metadata": {
    "ExecuteTime": {
     "end_time": "2021-12-12T22:27:08.090277Z",
     "start_time": "2021-12-12T22:27:08.083353Z"
    }
   },
   "outputs": [
    {
     "name": "stdout",
     "output_type": "stream",
     "text": [
      "====  ========  =========  =========  =========  ================  ========\n",
      "  id         0          1          2    predict    probability(%)    y_true\n",
      "====  ========  =========  =========  =========  ================  ========\n",
      "   4  0.967401  0.0158325  0.0167661          0             96.74         0\n",
      "   9  0.975747  0.0116164  0.0126364          0             97.57         0\n",
      "  10  0.962914  0.0186806  0.0184058          0             96.29         0\n",
      "  11  0.969209  0.0147728  0.0160187          0             96.92         0\n",
      "  12  0.977361  0.0108368  0.0118019          0             97.74         0\n",
      "====  ========  =========  =========  =========  ================  ========\n"
     ]
    }
   ],
   "source": [
    "print(tabulate(ans.head(), headers='keys', tablefmt='rst'))"
   ]
  },
  {
   "cell_type": "code",
   "execution_count": 13,
   "id": "287a2e85",
   "metadata": {
    "ExecuteTime": {
     "end_time": "2021-12-12T22:27:28.618288Z",
     "start_time": "2021-12-12T22:27:28.604606Z"
    }
   },
   "outputs": [
    {
     "data": {
      "text/plain": [
       "1.0"
      ]
     },
     "execution_count": 13,
     "metadata": {},
     "output_type": "execute_result"
    }
   ],
   "source": [
    "# Calculating AUC Score\n",
    "roc_auc_score(ans[\"y_true\"], np.array(ans[[\"0\",\"1\",\"2\"]]), multi_class='ovr')"
   ]
  },
  {
   "cell_type": "markdown",
   "id": "a51876c9",
   "metadata": {},
   "source": [
    "Eventhough this result might scare you, JAI backend is made to provide a robust performance and prevent overfitting. "
   ]
  },
  {
   "cell_type": "markdown",
   "id": "56ff7360",
   "metadata": {},
   "source": [
    "# Model inference via REST API"
   ]
  },
  {
   "cell_type": "code",
   "execution_count": null,
   "id": "68b16dce",
   "metadata": {},
   "outputs": [],
   "source": [
    "# Import requests libraries\n",
    "import requests\n",
    "\n",
    "# Set Authentication header\n",
    "header={'Auth': AUTH_KEY}\n",
    "\n",
    "# Set collection name\n",
    "db_name = 'iris_supervised' \n",
    "\n",
    "# Model inference endpoint\n",
    "url_predict = f\"https://mycelia.azure-api.net/predict/{db_name}\"\n",
    "\n",
    "# json body\n",
    "# Note that we need to provide a column named 'id'\n",
    "# Also note that we drop the 'PRICE' column because it is not a feature\n",
    "body = X_test.reset_index().rename(columns={'index':'id'}).head().to_dict(orient='records')\n",
    "\n",
    "# Make the request\n",
    "ans = requests.put(url_predict, json=body, headers=header)\n",
    "ans.json()"
   ]
  },
  {
   "cell_type": "markdown",
   "id": "8b2c58b5",
   "metadata": {},
   "source": [
    "# Plotting embeddings"
   ]
  },
  {
   "cell_type": "code",
   "execution_count": null,
   "id": "dbf02d19",
   "metadata": {
    "ExecuteTime": {
     "end_time": "2021-12-09T21:02:35.971211Z",
     "start_time": "2021-12-09T21:02:35.550193Z"
    }
   },
   "outputs": [],
   "source": [
    "# Display images\n",
    "from IPython.display import Image\n",
    "from IPython.core.display import HTML \n",
    "\n",
    "# Import libraries\n",
    "import pandas as pd\n",
    "import numpy as np\n",
    "from sklearn.manifold import TSNE\n",
    "import requests\n",
    "\n",
    "import plotly.express as px"
   ]
  },
  {
   "cell_type": "code",
   "execution_count": null,
   "id": "6851189d",
   "metadata": {
    "ExecuteTime": {
     "end_time": "2021-12-09T21:02:47.873536Z",
     "start_time": "2021-12-09T21:02:38.317434Z"
    }
   },
   "outputs": [],
   "source": [
    "# Download generated vectors\n",
    "vectors = j.download_vectors('iris_supervised')\n",
    "\n",
    "# 1115 stores, encoded into 64 dimensions\n",
    "vectors.shape\n",
    "\n",
    "# hamm...just numbers I guess ¯\\_(ツ)_/¯ \n",
    "vectors\n",
    "\n",
    "#fit tsne for dimensionality reduction\n",
    "stores_embedded = TSNE(n_components=2, learning_rate='auto',\n",
    "                init='random').fit_transform(vectors)\n",
    "\n",
    "# 1115 stores, now encoded into 2 dimensions for visualization\n",
    "stores_embedded.shape\n",
    "\n",
    "# get collection ids to use as index\n",
    "ids_list = j.ids(name='iris_supervised', mode='complete')\n",
    "\n",
    "#merge with the full dataset for visualization\n",
    "df_stores_embedded = pd.DataFrame(stores_embedded, columns=['x','y'], index = ids_list)\n",
    "df_stores_embedded = pd.concat([train,df_stores_embedded],axis=1)\n",
    "\n",
    "train.columns\n",
    "\n",
    "# plot interactive product embeddings visualization using plotly\n",
    "fig = px.scatter(df_stores_embedded,\n",
    "           title='Iris - Learned Representation',\n",
    "           x='x',\n",
    "           y='y',\n",
    "           #hover_name=,\n",
    "           hover_data=train.columns,\n",
    "           color='target')\n",
    "\n",
    "fig.show()"
   ]
  }
 ],
 "metadata": {
  "kernelspec": {
   "display_name": "Python (jai)",
   "language": "python",
   "name": "jai"
  },
  "language_info": {
   "codemirror_mode": {
    "name": "ipython",
    "version": 3
   },
   "file_extension": ".py",
   "mimetype": "text/x-python",
   "name": "python",
   "nbconvert_exporter": "python",
   "pygments_lexer": "ipython3",
   "version": "3.8.12"
  },
  "toc": {
   "base_numbering": 1,
   "nav_menu": {},
   "number_sections": true,
   "sideBar": true,
   "skip_h1_title": false,
   "title_cell": "Table of Contents",
   "title_sidebar": "Contents",
   "toc_cell": false,
   "toc_position": {},
   "toc_section_display": true,
   "toc_window_display": false
  }
 },
 "nbformat": 4,
 "nbformat_minor": 5
}
