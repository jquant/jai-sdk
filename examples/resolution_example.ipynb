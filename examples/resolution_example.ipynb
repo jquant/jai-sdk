{
 "cells": [
  {
   "cell_type": "markdown",
   "metadata": {},
   "source": [
    "<img src=\"https://jaipresentation.blob.core.windows.net/comm/jai_avatar.png\" width=\"100\" align=\"right\"/>\n",
    "\n",
    "# JAI - Trust your data\n",
    "\n",
    "## Resolution: finding duplicates in your data\n",
    "This is an example of how to use the resolution capabilities of JAI.\n",
    "\n",
    "In this notebook we will use a subset of the [PC Games 2020](https://www.kaggle.com/jesneuman/pc-games) dataset to search for duplicate values in the 'Genres' column.\n",
    "\n",
    "You can install JAI in your environment using `pip install jai-sdk`.\n",
    "\n",
    "And you can read the docs [here](https://jai-sdk.readthedocs.io/en/stable/)!\n",
    "\n",
    "If you have any comments or suggestions, feel free to contact us: jedis@jquant.com.br\n",
    "\n",
    "*In no direction that we turn do we find ease or comfort. If we are honest and if we have the will to win we find only danger, hard work and iron resolution.* - Wendell Willkie"
   ]
  },
  {
   "cell_type": "code",
   "execution_count": 1,
   "metadata": {},
   "outputs": [],
   "source": [
    "# JAI imports\n",
    "from jai import Jai\n",
    "from jai.processing import process_resolution\n",
    "\n",
    "# I/O import\n",
    "import pandas as pd"
   ]
  },
  {
   "cell_type": "markdown",
   "metadata": {},
   "source": [
    "## Reading data"
   ]
  },
  {
   "cell_type": "code",
   "execution_count": 3,
   "metadata": {},
   "outputs": [],
   "source": [
    "# it might take a few seconds to download this dataset (10MB) to your computer\n",
    "DATASET_URL = \"https://jaipresentation.blob.core.windows.net/data/games_jai.parquet\"\n",
    "df_games = pd.read_parquet(DATASET_URL)"
   ]
  },
  {
   "cell_type": "code",
   "execution_count": 4,
   "metadata": {},
   "outputs": [
    {
     "output_type": "execute_result",
     "data": {
      "text/plain": [
       "PC                                                                 4977\n",
       "macOS, PC                                                           517\n",
       "Linux, macOS, PC                                                    472\n",
       "Linux, PC, macOS                                                    453\n",
       "PC, macOS                                                           433\n",
       "                                                                   ... \n",
       "GameCube, PSP, PC, PlayStation 2, Xbox                                1\n",
       "iOS, Android, PC, macOS, Nintendo Switch, Linux                       1\n",
       "Nintendo Switch, macOS, iOS, Android, PC                              1\n",
       "Xbox, GameCube, Linux, Classic Macintosh, PlayStation 2, PC           1\n",
       "PC, PlayStation, PS Vita, Classic Macintosh, PSP, PlayStation 3       1\n",
       "Name: Platform, Length: 1503, dtype: int64"
      ]
     },
     "metadata": {},
     "execution_count": 4
    }
   ],
   "source": [
    "# checking values in the Platform column\n",
    "df_games[\"Platform\"].value_counts()"
   ]
  },
  {
   "cell_type": "markdown",
   "metadata": {},
   "source": [
    "We can see column `Platform` has some values that actually refer to the same thing (i.e., \"Linux, macOS, PC\" and \"Linux, PC, macOS\"). In other words, these are duplicate values."
   ]
  },
  {
   "cell_type": "markdown",
   "metadata": {},
   "source": [
    "## We can use JAI to find duplicates and standardize their values!"
   ]
  },
  {
   "cell_type": "code",
   "execution_count": 5,
   "metadata": {},
   "outputs": [],
   "source": [
    "j = Jai(\"YOUR_AUTH_KEY\")"
   ]
  },
  {
   "cell_type": "markdown",
   "metadata": {},
   "source": [
    "### We call `resolution` passing a given `name` for the database and the `data` itself (i.e., column \"Platform\")"
   ]
  },
  {
   "cell_type": "code",
   "execution_count": 6,
   "metadata": {},
   "outputs": [
    {
     "output_type": "stream",
     "name": "stderr",
     "text": [
      "Insert Data: 100%|██████████| 1/1 [00:01<00:00,  1.40s/it]\n",
      "JAI is working: 100%|██████████| 12/12 [02:20<00:00, 11.67s/it]\n",
      "Similar: 100%|██████████| 1/1 [00:02<00:00,  2.79s/it]\n",
      "Fiding threshold: 100%|██████████| 150/150 [00:00<00:00, 413367.67it/s]\n",
      "/home/paulo/Code/jai-sdk/jai/processing.py:56: UserWarning: Threshold calculated automatically.\n",
      "  warnings.warn(\"Threshold calculated automatically.\")\n",
      "Process: 100%|██████████| 1503/1503 [00:00<00:00, 20794.02it/s]\n",
      "random sample size: 150\n",
      "threshold: 1.779715197981172e-15\n",
      "\n",
      "\n"
     ]
    }
   ],
   "source": [
    "db_name = \"games_resolution\"\n",
    "col = \"Platform\"\n",
    "results = j.resolution(name=db_name, data=df_games[col], db_type=\"FastText\")"
   ]
  },
  {
   "cell_type": "markdown",
   "metadata": {},
   "source": [
    "## OK, how do I interpret these results?\n",
    "Each index in the `results` dataframe is related to an integer in the `resolution_id` column. This integer, in turn, is also an index! And it indicates which other sample is related to that index. So index 0 points to `resolution_id` 0, stating that sample number 0 is related to itself. No surprises there."
   ]
  },
  {
   "cell_type": "code",
   "execution_count": 25,
   "metadata": {},
   "outputs": [
    {
     "output_type": "execute_result",
     "data": {
      "text/plain": [
       "   resolution_id\n",
       "0              0\n",
       "1              1\n",
       "2              2\n",
       "3              3\n",
       "2              2\n",
       "5              5\n",
       "6              6\n",
       "7              7\n",
       "8              8\n",
       "9              9"
      ],
      "text/html": "<div>\n<style scoped>\n    .dataframe tbody tr th:only-of-type {\n        vertical-align: middle;\n    }\n\n    .dataframe tbody tr th {\n        vertical-align: top;\n    }\n\n    .dataframe thead th {\n        text-align: right;\n    }\n</style>\n<table border=\"1\" class=\"dataframe\">\n  <thead>\n    <tr style=\"text-align: right;\">\n      <th></th>\n      <th>resolution_id</th>\n    </tr>\n  </thead>\n  <tbody>\n    <tr>\n      <th>0</th>\n      <td>0</td>\n    </tr>\n    <tr>\n      <th>1</th>\n      <td>1</td>\n    </tr>\n    <tr>\n      <th>2</th>\n      <td>2</td>\n    </tr>\n    <tr>\n      <th>3</th>\n      <td>3</td>\n    </tr>\n    <tr>\n      <th>2</th>\n      <td>2</td>\n    </tr>\n    <tr>\n      <th>5</th>\n      <td>5</td>\n    </tr>\n    <tr>\n      <th>6</th>\n      <td>6</td>\n    </tr>\n    <tr>\n      <th>7</th>\n      <td>7</td>\n    </tr>\n    <tr>\n      <th>8</th>\n      <td>8</td>\n    </tr>\n    <tr>\n      <th>9</th>\n      <td>9</td>\n    </tr>\n  </tbody>\n</table>\n</div>"
     },
     "metadata": {},
     "execution_count": 25
    }
   ],
   "source": [
    "results.head(10)"
   ]
  },
  {
   "cell_type": "markdown",
   "metadata": {},
   "source": [
    "But what about indexes that are related to samples other than themselves? This will clear things up. Let's look at samples where the index DOES NOT match the `resolution_id` column:"
   ]
  },
  {
   "cell_type": "code",
   "execution_count": 8,
   "metadata": {},
   "outputs": [
    {
     "output_type": "execute_result",
     "data": {
      "text/plain": [
       "     resolution_id  map_id\n",
       "15               5      15\n",
       "15               5      15\n",
       "15               5      15\n",
       "15               5      15\n",
       "15               5      15\n",
       "..             ...     ...\n",
       "66              29      66\n",
       "260              6     260\n",
       "39              24      39\n",
       "39              24      39\n",
       "39              24      39\n",
       "\n",
       "[1962 rows x 2 columns]"
      ],
      "text/html": "<div>\n<style scoped>\n    .dataframe tbody tr th:only-of-type {\n        vertical-align: middle;\n    }\n\n    .dataframe tbody tr th {\n        vertical-align: top;\n    }\n\n    .dataframe thead th {\n        text-align: right;\n    }\n</style>\n<table border=\"1\" class=\"dataframe\">\n  <thead>\n    <tr style=\"text-align: right;\">\n      <th></th>\n      <th>resolution_id</th>\n      <th>map_id</th>\n    </tr>\n  </thead>\n  <tbody>\n    <tr>\n      <th>15</th>\n      <td>5</td>\n      <td>15</td>\n    </tr>\n    <tr>\n      <th>15</th>\n      <td>5</td>\n      <td>15</td>\n    </tr>\n    <tr>\n      <th>15</th>\n      <td>5</td>\n      <td>15</td>\n    </tr>\n    <tr>\n      <th>15</th>\n      <td>5</td>\n      <td>15</td>\n    </tr>\n    <tr>\n      <th>15</th>\n      <td>5</td>\n      <td>15</td>\n    </tr>\n    <tr>\n      <th>...</th>\n      <td>...</td>\n      <td>...</td>\n    </tr>\n    <tr>\n      <th>66</th>\n      <td>29</td>\n      <td>66</td>\n    </tr>\n    <tr>\n      <th>260</th>\n      <td>6</td>\n      <td>260</td>\n    </tr>\n    <tr>\n      <th>39</th>\n      <td>24</td>\n      <td>39</td>\n    </tr>\n    <tr>\n      <th>39</th>\n      <td>24</td>\n      <td>39</td>\n    </tr>\n    <tr>\n      <th>39</th>\n      <td>24</td>\n      <td>39</td>\n    </tr>\n  </tbody>\n</table>\n<p>1962 rows × 2 columns</p>\n</div>"
     },
     "metadata": {},
     "execution_count": 8
    }
   ],
   "source": [
    "res2 = results.copy()\n",
    "res2[\"map_id\"] = res2.index\n",
    "res3 = res2.loc[res2[\"resolution_id\"] != res2[\"map_id\"]]\n",
    "res3"
   ]
  },
  {
   "cell_type": "markdown",
   "metadata": {},
   "source": [
    "**Now we can see that samples 5 and 15 are actually referring to the same thing! Let's see if it checks out:**"
   ]
  },
  {
   "cell_type": "code",
   "execution_count": 9,
   "metadata": {},
   "outputs": [
    {
     "output_type": "stream",
     "name": "stdout",
     "text": [
      "Item 5: PlayStation 4, PC, Xbox One\nItem 15: PC, PlayStation 4, Xbox One\n"
     ]
    }
   ],
   "source": [
    "print(f\"Item 5: {df_games[col].iloc[5]}\\nItem 15: {df_games[col].iloc[15]}\")"
   ]
  },
  {
   "cell_type": "markdown",
   "metadata": {},
   "source": [
    "It does check out! These samples are clearly a permutation of one another. "
   ]
  },
  {
   "cell_type": "markdown",
   "metadata": {},
   "source": [
    "## We can create groups of samples that refer to the same thing\n",
    "This makes it easier for us to check if the output of `fill` is actually making any sense"
   ]
  },
  {
   "cell_type": "code",
   "execution_count": 10,
   "metadata": {},
   "outputs": [],
   "source": [
    "# get groups\n",
    "groups = dict()\n",
    "for i in range(res3.shape[0]):\n",
    "    fixed = res3[\"resolution_id\"].iloc[i]\n",
    "    moving = res3[\"map_id\"].iloc[i]\n",
    "\n",
    "    fixed_name = df_games[col].iloc[fixed]\n",
    "    moving_name = df_games[col].iloc[moving]\n",
    "\n",
    "    if fixed_name not in groups:\n",
    "        groups[fixed_name] = {moving_name}\n",
    "    else:\n",
    "        groups[fixed_name].add(moving_name)"
   ]
  },
  {
   "cell_type": "code",
   "execution_count": 11,
   "metadata": {},
   "outputs": [
    {
     "output_type": "execute_result",
     "data": {
      "text/plain": [
       "{'Linux, macOS, PC, PlayStation 4',\n",
       " 'PC, macOS, Linux, PlayStation 4',\n",
       " 'macOS, Linux, PC, PlayStation 4',\n",
       " 'macOS, PC, Linux, PlayStation 4'}"
      ]
     },
     "metadata": {},
     "execution_count": 11
    }
   ],
   "source": [
    "# get all platforms that correspond to 'Linux, PC, macOS, PlayStation 4' \n",
    "groups[\"Linux, PC, macOS, PlayStation 4\"]"
   ]
  },
  {
   "cell_type": "markdown",
   "metadata": {},
   "source": [
    "The cell above shows all values that belong to the same group (`\"Linux, PC, macOS, PlayStation 4\"`). They are all permutations of one another and are indeed duplicates!\n",
    "\n",
    "Finally, we can standardize column `Platform` mapping permutations to a single, consistent value using the `results` dataframe."
   ]
  },
  {
   "cell_type": "code",
   "execution_count": 28,
   "metadata": {},
   "outputs": [
    {
     "output_type": "execute_result",
     "data": {
      "text/plain": [
       "   resolution_id\n",
       "0              0\n",
       "1              1\n",
       "2              2\n",
       "3              3\n",
       "2              2\n",
       "5              5\n",
       "6              6\n",
       "7              7\n",
       "8              8\n",
       "9              9"
      ],
      "text/html": "<div>\n<style scoped>\n    .dataframe tbody tr th:only-of-type {\n        vertical-align: middle;\n    }\n\n    .dataframe tbody tr th {\n        vertical-align: top;\n    }\n\n    .dataframe thead th {\n        text-align: right;\n    }\n</style>\n<table border=\"1\" class=\"dataframe\">\n  <thead>\n    <tr style=\"text-align: right;\">\n      <th></th>\n      <th>resolution_id</th>\n    </tr>\n  </thead>\n  <tbody>\n    <tr>\n      <th>0</th>\n      <td>0</td>\n    </tr>\n    <tr>\n      <th>1</th>\n      <td>1</td>\n    </tr>\n    <tr>\n      <th>2</th>\n      <td>2</td>\n    </tr>\n    <tr>\n      <th>3</th>\n      <td>3</td>\n    </tr>\n    <tr>\n      <th>2</th>\n      <td>2</td>\n    </tr>\n    <tr>\n      <th>5</th>\n      <td>5</td>\n    </tr>\n    <tr>\n      <th>6</th>\n      <td>6</td>\n    </tr>\n    <tr>\n      <th>7</th>\n      <td>7</td>\n    </tr>\n    <tr>\n      <th>8</th>\n      <td>8</td>\n    </tr>\n    <tr>\n      <th>9</th>\n      <td>9</td>\n    </tr>\n  </tbody>\n</table>\n</div>"
     },
     "metadata": {},
     "execution_count": 28
    }
   ],
   "source": [
    "results.head(10)"
   ]
  },
  {
   "cell_type": "code",
   "execution_count": 29,
   "metadata": {},
   "outputs": [],
   "source": [
    "new_platform = [df_games[col].iloc[results[\"resolution_id\"].iloc[item]] for item in range(results.shape[0])]"
   ]
  },
  {
   "cell_type": "code",
   "execution_count": 43,
   "metadata": {},
   "outputs": [],
   "source": [
    "new_platform_col = \"Platform resolved\"\n",
    "df_games_resolved = df_games.copy()\n",
    "df_games_resolved[new_platform_col] = new_platform"
   ]
  },
  {
   "cell_type": "code",
   "execution_count": 44,
   "metadata": {},
   "outputs": [
    {
     "output_type": "stream",
     "name": "stdout",
     "text": [
      "[df_games]\nItem 5: PlayStation 4, PC, Xbox One\nItem 15: PC, PlayStation 4, Xbox One\n\n[df_games_resolved]\nItem 5: PlayStation 4, PC, Xbox One\nItem 15: PlayStation 4, PC, Xbox One\n"
     ]
    }
   ],
   "source": [
    "print(f\"[df_games]\\nItem 5: {df_games[col].iloc[5]}\\nItem 15: {df_games[col].iloc[15]}\")\n",
    "print(f\"\\n[df_games_resolved]\\nItem 5: {df_games_resolved[new_platform_col].iloc[5]}\\nItem 15: {df_games_resolved[new_platform_col].iloc[15]}\")"
   ]
  }
 ],
 "metadata": {
  "kernelspec": {
   "display_name": "Python 3.7.9 64-bit ('teste': conda)",
   "language": "python",
   "name": "python37964bittesteconda1543f1c219704c4ea077a4e6376e3e28"
  },
  "language_info": {
   "codemirror_mode": {
    "name": "ipython",
    "version": 3
   },
   "file_extension": ".py",
   "mimetype": "text/x-python",
   "name": "python",
   "nbconvert_exporter": "python",
   "pygments_lexer": "ipython3",
   "version": "3.7.9-final"
  }
 },
 "nbformat": 4,
 "nbformat_minor": 2
}